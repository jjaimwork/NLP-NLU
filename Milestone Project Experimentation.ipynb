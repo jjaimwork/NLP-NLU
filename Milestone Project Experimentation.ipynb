{
 "cells": [
  {
   "cell_type": "code",
   "execution_count": 1,
   "id": "edff253b",
   "metadata": {},
   "outputs": [],
   "source": [
    "import tensorflow as tf\n",
    "import tensorflow_hub as hub\n",
    "import pandas as pd\n",
    "import numpy as np\n",
    "import random\n",
    "\n",
    "from sklearn.feature_extraction.text import TfidfVectorizer\n",
    "from sklearn.naive_bayes import MultinomialNB\n",
    "from sklearn.pipeline import Pipeline\n",
    "from sklearn.model_selection import train_test_split\n",
    "from sklearn.metrics import accuracy_score, precision_recall_fscore_support\n",
    "\n",
    "from helper_functions import create_tensorboard_callback\n",
    "from helper_functions import loop_through_files, evaluate_model_results, evaluate_text_preds\n",
    "\n",
    "from sklearn.preprocessing import OneHotEncoder, LabelEncoder"
   ]
  },
  {
   "cell_type": "code",
   "execution_count": 2,
   "id": "4f029dd9",
   "metadata": {},
   "outputs": [
    {
     "data": {
      "text/plain": [
       "[PhysicalDevice(name='/physical_device:GPU:0', device_type='GPU')]"
      ]
     },
     "execution_count": 2,
     "metadata": {},
     "output_type": "execute_result"
    }
   ],
   "source": [
    "tf.config.list_physical_devices('GPU')\n"
   ]
  },
  {
   "cell_type": "markdown",
   "id": "abafaafd",
   "metadata": {},
   "source": [
    "#### Functions"
   ]
  },
  {
   "cell_type": "code",
   "execution_count": 3,
   "id": "4b429f6c",
   "metadata": {},
   "outputs": [],
   "source": [
    "def compile_model(model_):\n",
    "    compiled_model = model_.compile(loss=tf.keras.losses.CategoricalCrossentropy(),\n",
    "                   optimizer=tf.keras.optimizers.Adam(),\n",
    "                   metrics=['accuracy'])\n",
    "    return compiled_model"
   ]
  },
  {
   "cell_type": "code",
   "execution_count": 4,
   "id": "87e53e83",
   "metadata": {},
   "outputs": [],
   "source": [
    "def fit_model(model_):\n",
    "    fitted_model = model_.fit(train_dataset,                             \n",
    "                              steps_per_epoch=int(0.1 * len(train_dataset)),\n",
    "                              epochs=5,\n",
    "                              validation_data=(valid_dataset),\n",
    "                              validation_steps=int(0.1 * len(valid_dataset))\n",
    "                            )\n",
    "    return fitted_model"
   ]
  },
  {
   "cell_type": "markdown",
   "id": "8df59ddc",
   "metadata": {},
   "source": [
    "## Milestone Project 2 : SkimLit"
   ]
  },
  {
   "cell_type": "markdown",
   "id": "d127f818",
   "metadata": {},
   "source": [
    "From [PubMed 200k RCT Dataset](https://github.com/Franck-Dernoncourt/pubmed-rct)"
   ]
  },
  {
   "cell_type": "markdown",
   "id": "028c7fe0",
   "metadata": {},
   "source": [
    "### Data Preprocessing"
   ]
  },
  {
   "cell_type": "code",
   "execution_count": 5,
   "id": "adc6be0a",
   "metadata": {},
   "outputs": [],
   "source": [
    "data_dir = '../../../Datasets/pubmed-rct-master/PubMed_20k_RCT_numbers_replaced_with_at_sign/'"
   ]
  },
  {
   "cell_type": "code",
   "execution_count": 6,
   "id": "69bd9568",
   "metadata": {},
   "outputs": [
    {
     "name": "stdout",
     "output_type": "stream",
     "text": [
      "['dev.txt', 'test.txt', 'train.txt']\n",
      "There are 0 directories and 3 files in '../../../Datasets/pubmed-rct-master/PubMed_20k_RCT_numbers_replaced_with_at_sign/'.\n"
     ]
    }
   ],
   "source": [
    "loop_through_files(dataset_dir=data_dir)"
   ]
  },
  {
   "cell_type": "code",
   "execution_count": 7,
   "id": "b1b28d13",
   "metadata": {},
   "outputs": [],
   "source": [
    "#files = ['dev.txt', 'test.txt', 'train.txt']\n",
    "#filenames = [i.split('.')[0] for i in files]\n",
    "\n",
    "def get_lines(filename, data_dir=data_dir):\n",
    "    #print(data_dir+filename)\n",
    "    with open(data_dir+filename+'.txt', \"r\", encoding='utf-8-sig') as f:\n",
    "        return f.readlines()"
   ]
  },
  {
   "cell_type": "code",
   "execution_count": 8,
   "id": "7428078c",
   "metadata": {},
   "outputs": [],
   "source": [
    "test_text = get_lines('test')\n",
    "train_text = get_lines('train')"
   ]
  },
  {
   "cell_type": "code",
   "execution_count": 9,
   "id": "1ad93b52",
   "metadata": {},
   "outputs": [
    {
     "data": {
      "text/plain": [
       "210040"
      ]
     },
     "execution_count": 9,
     "metadata": {},
     "output_type": "execute_result"
    }
   ],
   "source": [
    "len(train_text)"
   ]
  },
  {
   "cell_type": "code",
   "execution_count": 10,
   "id": "473d00a6",
   "metadata": {},
   "outputs": [],
   "source": [
    "def preprocess_text_with_line_numbers(filenames):\n",
    "    input_lines = get_lines(filenames) # get all lines from filename\n",
    "    abstract_lines = \"\" # create an empty abstract\n",
    "    abstract_samples = [] \n",
    "    for line in input_lines:\n",
    "        if line.startswith('###'):\n",
    "            abstract_id = line\n",
    "            abstract_lines = \"\"\n",
    "        elif line.isspace():\n",
    "            abstract_line_split = abstract_lines.splitlines() \n",
    "            \n",
    "            for abstract_line_number, abstract_line in enumerate(abstract_line_split):\n",
    "                line_data = {} # create empty dict to store data from line\n",
    "                target_text_split = abstract_line.split(\"\\t\") # split target label from text\n",
    "                line_data[\"target\"] = target_text_split[0] # get target label\n",
    "                line_data[\"text\"] = target_text_split[1].lower() # get target text and lower it\n",
    "                line_data[\"line_number\"] = abstract_line_number # what number line does the line appear in the abstract?\n",
    "                line_data[\"total_lines\"] = len(abstract_line_split) - 1 # how many total lines are in the abstract? (start from 0)\n",
    "                abstract_samples.append(line_data) # add line data to abstract samples list\n",
    "    \n",
    "        else: # if the above conditions aren't fulfilled, the line contains a labelled sentence\n",
    "            abstract_lines += line\n",
    "  \n",
    "    return abstract_samples\n",
    "\n",
    "### Disecting the function\n",
    "# get all the lines from the file using the past function\n",
    "# abstract gets saved with indices\n",
    "# splits the nextlines from \\n\n",
    "# enumerate generates a line number / index number and its value\n",
    "# then just store them to a dictionary\n"
   ]
  },
  {
   "cell_type": "code",
   "execution_count": 11,
   "id": "75295b39",
   "metadata": {},
   "outputs": [],
   "source": [
    "train_data = preprocess_text_with_line_numbers('train')\n",
    "test_data = preprocess_text_with_line_numbers('test')\n",
    "val_data = preprocess_text_with_line_numbers('dev')"
   ]
  },
  {
   "cell_type": "code",
   "execution_count": 12,
   "id": "7b898500",
   "metadata": {},
   "outputs": [],
   "source": [
    "train_df = pd.DataFrame(train_data)\n",
    "test_df = pd.DataFrame(test_data)\n",
    "val_df = pd.DataFrame(val_data)"
   ]
  },
  {
   "cell_type": "code",
   "execution_count": 13,
   "id": "63619d09",
   "metadata": {},
   "outputs": [
    {
     "data": {
      "text/html": [
       "<div>\n",
       "<style scoped>\n",
       "    .dataframe tbody tr th:only-of-type {\n",
       "        vertical-align: middle;\n",
       "    }\n",
       "\n",
       "    .dataframe tbody tr th {\n",
       "        vertical-align: top;\n",
       "    }\n",
       "\n",
       "    .dataframe thead th {\n",
       "        text-align: right;\n",
       "    }\n",
       "</style>\n",
       "<table border=\"1\" class=\"dataframe\">\n",
       "  <thead>\n",
       "    <tr style=\"text-align: right;\">\n",
       "      <th></th>\n",
       "      <th>target</th>\n",
       "      <th>text</th>\n",
       "      <th>line_number</th>\n",
       "      <th>total_lines</th>\n",
       "    </tr>\n",
       "  </thead>\n",
       "  <tbody>\n",
       "    <tr>\n",
       "      <th>0</th>\n",
       "      <td>OBJECTIVE</td>\n",
       "      <td>to investigate the efficacy of @ weeks of dail...</td>\n",
       "      <td>0</td>\n",
       "      <td>11</td>\n",
       "    </tr>\n",
       "    <tr>\n",
       "      <th>1</th>\n",
       "      <td>METHODS</td>\n",
       "      <td>a total of @ patients with primary knee oa wer...</td>\n",
       "      <td>1</td>\n",
       "      <td>11</td>\n",
       "    </tr>\n",
       "    <tr>\n",
       "      <th>2</th>\n",
       "      <td>METHODS</td>\n",
       "      <td>outcome measures included pain reduction and i...</td>\n",
       "      <td>2</td>\n",
       "      <td>11</td>\n",
       "    </tr>\n",
       "    <tr>\n",
       "      <th>3</th>\n",
       "      <td>METHODS</td>\n",
       "      <td>pain was assessed using the visual analog pain...</td>\n",
       "      <td>3</td>\n",
       "      <td>11</td>\n",
       "    </tr>\n",
       "    <tr>\n",
       "      <th>4</th>\n",
       "      <td>METHODS</td>\n",
       "      <td>secondary outcome measures included the wester...</td>\n",
       "      <td>4</td>\n",
       "      <td>11</td>\n",
       "    </tr>\n",
       "  </tbody>\n",
       "</table>\n",
       "</div>"
      ],
      "text/plain": [
       "      target                                               text  line_number  \\\n",
       "0  OBJECTIVE  to investigate the efficacy of @ weeks of dail...            0   \n",
       "1    METHODS  a total of @ patients with primary knee oa wer...            1   \n",
       "2    METHODS  outcome measures included pain reduction and i...            2   \n",
       "3    METHODS  pain was assessed using the visual analog pain...            3   \n",
       "4    METHODS  secondary outcome measures included the wester...            4   \n",
       "\n",
       "   total_lines  \n",
       "0           11  \n",
       "1           11  \n",
       "2           11  \n",
       "3           11  \n",
       "4           11  "
      ]
     },
     "execution_count": 13,
     "metadata": {},
     "output_type": "execute_result"
    }
   ],
   "source": [
    "train_df[:5]"
   ]
  },
  {
   "cell_type": "code",
   "execution_count": 14,
   "id": "01aee126",
   "metadata": {},
   "outputs": [],
   "source": [
    "# get the number of categories \n",
    "len_cat = train_df.target.nunique()"
   ]
  },
  {
   "cell_type": "code",
   "execution_count": 15,
   "id": "938cdc53",
   "metadata": {},
   "outputs": [
    {
     "data": {
      "text/plain": [
       "METHODS        59353\n",
       "RESULTS        57953\n",
       "CONCLUSIONS    27168\n",
       "BACKGROUND     21727\n",
       "OBJECTIVE      13839\n",
       "Name: target, dtype: int64"
      ]
     },
     "execution_count": 15,
     "metadata": {},
     "output_type": "execute_result"
    }
   ],
   "source": [
    "train_df.target.value_counts()"
   ]
  },
  {
   "cell_type": "code",
   "execution_count": 16,
   "id": "5060aa79",
   "metadata": {},
   "outputs": [],
   "source": [
    "train_sentences = train_df['text'].to_list()\n",
    "val_sentences = val_df['text'].to_list()\n",
    "test_sentences = test_df['text'].to_list()"
   ]
  },
  {
   "cell_type": "code",
   "execution_count": 17,
   "id": "41b2a569",
   "metadata": {},
   "outputs": [],
   "source": [
    "one_hot_encoder = OneHotEncoder(sparse=False)\n",
    "train_labels_one_hot = one_hot_encoder.fit_transform(train_df['target'].to_numpy().reshape(-1,1))\n",
    "test_labels_one_hot = one_hot_encoder.fit_transform(test_df['target'].to_numpy().reshape(-1,1))\n",
    "val_labels_one_hot = one_hot_encoder.fit_transform(val_df['target'].to_numpy().reshape(-1,1))"
   ]
  },
  {
   "cell_type": "code",
   "execution_count": 18,
   "id": "d36c8ee6",
   "metadata": {},
   "outputs": [
    {
     "data": {
      "text/plain": [
       "array([[0., 0., 0., 1., 0.],\n",
       "       [0., 0., 1., 0., 0.],\n",
       "       [0., 0., 1., 0., 0.],\n",
       "       ...,\n",
       "       [0., 0., 0., 0., 1.],\n",
       "       [0., 1., 0., 0., 0.],\n",
       "       [0., 1., 0., 0., 0.]])"
      ]
     },
     "execution_count": 18,
     "metadata": {},
     "output_type": "execute_result"
    }
   ],
   "source": [
    "train_labels_one_hot"
   ]
  },
  {
   "cell_type": "code",
   "execution_count": 19,
   "id": "6bd835e4",
   "metadata": {},
   "outputs": [
    {
     "name": "stderr",
     "output_type": "stream",
     "text": [
      "C:\\Users\\gilgamesh\\Anaconda3\\lib\\site-packages\\sklearn\\utils\\validation.py:63: DataConversionWarning: A column-vector y was passed when a 1d array was expected. Please change the shape of y to (n_samples, ), for example using ravel().\n",
      "  return f(*args, **kwargs)\n"
     ]
    }
   ],
   "source": [
    "label_encoder = LabelEncoder()\n",
    "train_labels_encoded = label_encoder.fit_transform(train_df['target'].to_numpy().reshape(-1,1))\n",
    "test_labels_encoded = label_encoder.transform(test_df['target'].to_numpy().reshape(-1,1))\n",
    "val_labels_encoded = label_encoder.transform(val_df['target'].to_numpy().reshape(-1,1))"
   ]
  },
  {
   "cell_type": "code",
   "execution_count": 20,
   "id": "1a25db12",
   "metadata": {
    "scrolled": true
   },
   "outputs": [
    {
     "data": {
      "text/plain": [
       "array([3, 2, 2, ..., 4, 1, 1])"
      ]
     },
     "execution_count": 20,
     "metadata": {},
     "output_type": "execute_result"
    }
   ],
   "source": [
    "train_labels_encoded"
   ]
  },
  {
   "cell_type": "markdown",
   "id": "bc7f40fd",
   "metadata": {},
   "source": [
    "### Text Vectorizer and Embeddings"
   ]
  },
  {
   "cell_type": "code",
   "execution_count": 21,
   "id": "36766488",
   "metadata": {},
   "outputs": [],
   "source": [
    "max_vocab_length = 65000\n",
    "max_length = 55"
   ]
  },
  {
   "cell_type": "code",
   "execution_count": 22,
   "id": "fc3d67cc",
   "metadata": {},
   "outputs": [],
   "source": [
    "text_vectorizer = tf.keras.layers.TextVectorization(\n",
    "    max_tokens=max_vocab_length,\n",
    "    output_sequence_length=max_length,\n",
    ")"
   ]
  },
  {
   "cell_type": "code",
   "execution_count": 23,
   "id": "3bfd988b",
   "metadata": {},
   "outputs": [],
   "source": [
    "text_vectorizer.adapt(train_sentences)"
   ]
  },
  {
   "cell_type": "code",
   "execution_count": 24,
   "id": "3bd17068",
   "metadata": {},
   "outputs": [],
   "source": [
    "rct_20k_text_vocab = text_vectorizer.get_vocabulary()"
   ]
  },
  {
   "cell_type": "code",
   "execution_count": 25,
   "id": "3663b5a7",
   "metadata": {},
   "outputs": [],
   "source": [
    "embedding = tf.keras.layers.Embedding(\n",
    "    input_dim=len(rct_20k_text_vocab),\n",
    "    output_dim=128,\n",
    "    input_length=max_length,\n",
    "    embeddings_initializer='uniform'\n",
    ")"
   ]
  },
  {
   "cell_type": "markdown",
   "id": "8a1b264d",
   "metadata": {},
   "source": [
    "## Building Models"
   ]
  },
  {
   "attachments": {
    "image.png": {
     "image/png": "[encoded data removed]"
    }
   },
   "cell_type": "markdown",
   "id": "f1667072",
   "metadata": {},
   "source": [
    "![image.png](attachment:image.png)\n",
    "\n",
    "Image taken from [MDBourke's Slide for NLP](https://github.com/mrdbourke/tensorflow-deep-learning/blob/main/slides/08_natural_language_processing_in_tensorflow.pdf)\n",
    "\n",
    "**Model 0**: Naive Bayes (Baseline)  \n",
    "**Model 1**: Feed-forward neural network (Dense Model)  \n",
    "**Model 2**: LSTM model (RNN)  \n",
    "**Model 3**: GRU Model (RNN)  \n",
    "**Model 4**: Bidirectional-LTSM Model (RNN)  \n",
    "**Model 5**: 1D Convolutional Neural Network (CNN)  \n",
    "**Model 6**: TensorFlow Hub Pretrained Feature Extration (Transfer Learning)  "
   ]
  },
  {
   "cell_type": "markdown",
   "id": "98d2be90",
   "metadata": {},
   "source": [
    "### Model 0 - Naive Bayes (Baseline)"
   ]
  },
  {
   "cell_type": "code",
   "execution_count": 26,
   "id": "efaaf425",
   "metadata": {},
   "outputs": [
    {
     "name": "stdout",
     "output_type": "stream",
     "text": [
      "[Pipeline] .......... (step 1 of 2) Processing tfidfVec, total=   2.8s\n",
      "[Pipeline] ............... (step 2 of 2) Processing clf, total=   0.0s\n"
     ]
    },
    {
     "data": {
      "text/plain": [
       "Pipeline(steps=[('tfidfVec', TfidfVectorizer()), ('clf', MultinomialNB())],\n",
       "         verbose=True)"
      ]
     },
     "execution_count": 26,
     "metadata": {},
     "output_type": "execute_result"
    }
   ],
   "source": [
    "model_0 = Pipeline([\n",
    "    ('tfidfVec', TfidfVectorizer()),\n",
    "    ('clf', MultinomialNB())\n",
    "],verbose=True)\n",
    "\n",
    "model_0.fit(X=train_sentences, y=train_labels_encoded)"
   ]
  },
  {
   "cell_type": "code",
   "execution_count": 27,
   "id": "7114da11",
   "metadata": {},
   "outputs": [
    {
     "data": {
      "text/plain": [
       "0.7218323844829869"
      ]
     },
     "execution_count": 27,
     "metadata": {},
     "output_type": "execute_result"
    }
   ],
   "source": [
    "model_0.score(X=val_sentences, y=val_labels_encoded)"
   ]
  },
  {
   "cell_type": "code",
   "execution_count": 28,
   "id": "7b58f2ec",
   "metadata": {},
   "outputs": [],
   "source": [
    "model_0_preds = model_0.predict(val_sentences)"
   ]
  },
  {
   "cell_type": "code",
   "execution_count": 29,
   "id": "760242cf",
   "metadata": {},
   "outputs": [],
   "source": [
    "model_0_results = evaluate_model_results(model_0_preds, val_labels_encoded)"
   ]
  },
  {
   "cell_type": "code",
   "execution_count": 30,
   "id": "23b8cf7f",
   "metadata": {
    "scrolled": true
   },
   "outputs": [
    {
     "data": {
      "text/plain": [
       "26"
      ]
     },
     "execution_count": 30,
     "metadata": {},
     "output_type": "execute_result"
    }
   ],
   "source": [
    "round(sum([len(i.split()) for i in train_sentences])/len(train_sentences))"
   ]
  },
  {
   "cell_type": "markdown",
   "id": "a6ab31ba",
   "metadata": {},
   "source": [
    "### Model 1 - Feed-Forward Neural Network (Dense Model)"
   ]
  },
  {
   "cell_type": "markdown",
   "id": "299a5681",
   "metadata": {},
   "source": [
    "First we'll need to convert our data to tensors,\n",
    "We'll also need to get the max "
   ]
  },
  {
   "cell_type": "code",
   "execution_count": 31,
   "id": "ef276ad2",
   "metadata": {},
   "outputs": [],
   "source": [
    "train_dataset = tf.data.Dataset.from_tensor_slices((train_sentences, train_labels_one_hot))\n",
    "valid_dataset = tf.data.Dataset.from_tensor_slices((val_sentences, val_labels_one_hot))\n",
    "test_dataset = tf.data.Dataset.from_tensor_slices((test_sentences, test_labels_one_hot))\n"
   ]
  },
  {
   "cell_type": "code",
   "execution_count": 32,
   "id": "77e1d4d6",
   "metadata": {},
   "outputs": [],
   "source": [
    "train_dataset = train_dataset.batch(32).prefetch(tf.data.AUTOTUNE)\n",
    "valid_dataset = valid_dataset.batch(32).prefetch(tf.data.AUTOTUNE)\n",
    "test_dataset = test_dataset.batch(32).prefetch(tf.data.AUTOTUNE)\n"
   ]
  },
  {
   "cell_type": "code",
   "execution_count": 33,
   "id": "fc72deda",
   "metadata": {},
   "outputs": [],
   "source": [
    "inputs = tf.keras.layers.Input(shape=(1,), dtype=tf.string, name='input_layer')\n",
    "x = text_vectorizer(inputs)\n",
    "x = embedding(x)\n",
    "x = tf.keras.layers.GlobalAveragePooling1D()(x)\n",
    "outputs = tf.keras.layers.Dense(len_cat, activation='softmax')(x)\n",
    "\n",
    "\n",
    "model_1 = tf.keras.models.Model(inputs, outputs)\n",
    "\n",
    "model_1.compile(loss=tf.keras.losses.CategoricalCrossentropy(),\n",
    "                optimizer=tf.keras.optimizers.Adam(),\n",
    "                metrics=['accuracy'])\n"
   ]
  },
  {
   "cell_type": "code",
   "execution_count": 34,
   "id": "abe044e4",
   "metadata": {},
   "outputs": [
    {
     "name": "stdout",
     "output_type": "stream",
     "text": [
      "Model: \"model\"\n",
      "_________________________________________________________________\n",
      " Layer (type)                Output Shape              Param #   \n",
      "=================================================================\n",
      " input_layer (InputLayer)    [(None, 1)]               0         \n",
      "                                                                 \n",
      " text_vectorization (TextVec  (None, 55)               0         \n",
      " torization)                                                     \n",
      "                                                                 \n",
      " embedding (Embedding)       (None, 55, 128)           8299648   \n",
      "                                                                 \n",
      " global_average_pooling1d (G  (None, 128)              0         \n",
      " lobalAveragePooling1D)                                          \n",
      "                                                                 \n",
      " dense (Dense)               (None, 5)                 645       \n",
      "                                                                 \n",
      "=================================================================\n",
      "Total params: 8,300,293\n",
      "Trainable params: 8,300,293\n",
      "Non-trainable params: 0\n",
      "_________________________________________________________________\n"
     ]
    }
   ],
   "source": [
    "model_1.summary()"
   ]
  },
  {
   "cell_type": "code",
   "execution_count": 35,
   "id": "914c70c3",
   "metadata": {},
   "outputs": [
    {
     "name": "stdout",
     "output_type": "stream",
     "text": [
      "Epoch 1/5\n",
      "562/562 [==============================] - 6s 8ms/step - loss: 1.2648 - accuracy: 0.5371 - val_loss: 0.9828 - val_accuracy: 0.6180\n",
      "Epoch 2/5\n",
      "562/562 [==============================] - 4s 7ms/step - loss: 0.8460 - accuracy: 0.6908 - val_loss: 0.7586 - val_accuracy: 0.7284\n",
      "Epoch 3/5\n",
      "562/562 [==============================] - 4s 7ms/step - loss: 0.7147 - accuracy: 0.7422 - val_loss: 0.6770 - val_accuracy: 0.7540\n",
      "Epoch 4/5\n",
      "562/562 [==============================] - 4s 7ms/step - loss: 0.6552 - accuracy: 0.7697 - val_loss: 0.6356 - val_accuracy: 0.7573\n",
      "Epoch 5/5\n",
      "562/562 [==============================] - 4s 7ms/step - loss: 0.6378 - accuracy: 0.7734 - val_loss: 0.6100 - val_accuracy: 0.7766\n"
     ]
    },
    {
     "data": {
      "text/plain": [
       "<keras.callbacks.History at 0x1339408f3d0>"
      ]
     },
     "execution_count": 35,
     "metadata": {},
     "output_type": "execute_result"
    }
   ],
   "source": [
    "model_1.fit(train_dataset,\n",
    "            steps_per_epoch=int(0.1 * len(train_dataset)),\n",
    "            epochs=5,\n",
    "            validation_data=(valid_dataset),\n",
    "            validation_steps=int(0.1 * len(valid_dataset))\n",
    "           )"
   ]
  },
  {
   "cell_type": "code",
   "execution_count": 36,
   "id": "28a176fd",
   "metadata": {},
   "outputs": [],
   "source": [
    "model_1_preds = model_1.predict(valid_dataset)\n",
    "model_1_preds = tf.squeeze(tf.round(model_1_preds))"
   ]
  },
  {
   "cell_type": "code",
   "execution_count": 37,
   "id": "65fee1bb",
   "metadata": {
    "scrolled": true
   },
   "outputs": [],
   "source": [
    "model_1_results = evaluate_model_results(model_1_preds, val_labels_one_hot)"
   ]
  },
  {
   "cell_type": "code",
   "execution_count": 38,
   "id": "61f37b74",
   "metadata": {},
   "outputs": [
    {
     "data": {
      "text/plain": [
       "{'accuracy': 0.6940619621342513,\n",
       " 'precision': 0.8308201149180294,\n",
       " 'recall': 0.6940619621342513,\n",
       " 'f1-score': 0.7467901239804853}"
      ]
     },
     "execution_count": 38,
     "metadata": {},
     "output_type": "execute_result"
    }
   ],
   "source": [
    "model_1_results"
   ]
  },
  {
   "cell_type": "markdown",
   "id": "db9946ae",
   "metadata": {},
   "source": [
    "### Model 2 - LSTM Model (RNN)"
   ]
  },
  {
   "cell_type": "code",
   "execution_count": 39,
   "id": "1e6e76fc",
   "metadata": {
    "scrolled": true
   },
   "outputs": [
    {
     "name": "stdout",
     "output_type": "stream",
     "text": [
      "Epoch 1/5\n",
      "562/562 [==============================] - 9s 11ms/step - loss: 0.9952 - accuracy: 0.5925 - val_loss: 0.9214 - val_accuracy: 0.6536\n",
      "Epoch 2/5\n",
      "562/562 [==============================] - 5s 10ms/step - loss: 1.0021 - accuracy: 0.6149 - val_loss: 1.1832 - val_accuracy: 0.5472\n",
      "Epoch 3/5\n",
      "562/562 [==============================] - 5s 10ms/step - loss: 1.1605 - accuracy: 0.5555 - val_loss: 1.1364 - val_accuracy: 0.5625\n",
      "Epoch 4/5\n",
      "562/562 [==============================] - 5s 10ms/step - loss: 1.0239 - accuracy: 0.5941 - val_loss: 0.8996 - val_accuracy: 0.6533\n",
      "Epoch 5/5\n",
      "562/562 [==============================] - 5s 10ms/step - loss: 0.7847 - accuracy: 0.6854 - val_loss: 0.7646 - val_accuracy: 0.6941\n"
     ]
    },
    {
     "data": {
      "text/plain": [
       "<keras.callbacks.History at 0x134b36c1730>"
      ]
     },
     "execution_count": 39,
     "metadata": {},
     "output_type": "execute_result"
    }
   ],
   "source": [
    "inputs = tf.keras.layers.Input(shape=(1,), dtype=tf.string, name='input_layer')\n",
    "x = text_vectorizer(inputs)\n",
    "x = embedding(x)\n",
    "#x = tf.keras.layers.LSTM(64, return_sequences=True)(x)\n",
    "x = tf.keras.layers.LSTM(64)(x)\n",
    "#x = tf.keras.layers.Dense(64, activation='relu')(x)\n",
    "outputs = tf.keras.layers.Dense(len_cat, activation='softmax', name='output_layer')(x)\n",
    "\n",
    "model_2 = tf.keras.models.Model(inputs, outputs)\n",
    "\n",
    "compile_model(model_2)\n",
    "\n",
    "fit_model(model_2)"
   ]
  },
  {
   "cell_type": "code",
   "execution_count": 40,
   "id": "c8c79776",
   "metadata": {},
   "outputs": [],
   "source": [
    "model_2_preds = model_2.predict(valid_dataset)\n",
    "model_2_preds = tf.squeeze(tf.round(model_2_preds))"
   ]
  },
  {
   "cell_type": "code",
   "execution_count": 41,
   "id": "1bb5cccb",
   "metadata": {
    "scrolled": true
   },
   "outputs": [
    {
     "name": "stderr",
     "output_type": "stream",
     "text": [
      "C:\\Users\\gilgamesh\\Anaconda3\\lib\\site-packages\\sklearn\\metrics\\_classification.py:1245: UndefinedMetricWarning: Precision and F-score are ill-defined and being set to 0.0 in labels with no predicted samples. Use `zero_division` parameter to control this behavior.\n",
      "  _warn_prf(average, modifier, msg_start, len(result))\n"
     ]
    }
   ],
   "source": [
    "model_2_results = evaluate_model_results(model_2_preds, val_labels_one_hot)"
   ]
  },
  {
   "cell_type": "code",
   "execution_count": 42,
   "id": "643b27d1",
   "metadata": {},
   "outputs": [
    {
     "data": {
      "text/plain": [
       "{'accuracy': 0.5679531312061432,\n",
       " 'precision': 0.6515933161542197,\n",
       " 'recall': 0.5679531312061432,\n",
       " 'f1-score': 0.5981430750409373}"
      ]
     },
     "execution_count": 42,
     "metadata": {},
     "output_type": "execute_result"
    }
   ],
   "source": [
    "model_2_results"
   ]
  },
  {
   "cell_type": "markdown",
   "id": "f3b3dc35",
   "metadata": {},
   "source": [
    "### Model 3 - GRU Model (RNN)"
   ]
  },
  {
   "cell_type": "code",
   "execution_count": 43,
   "id": "bc34c651",
   "metadata": {},
   "outputs": [],
   "source": [
    "inputs = tf.keras.layers.Input(shape=(1,), dtype=tf.string, name='input_layer')\n",
    "x = text_vectorizer(inputs)\n",
    "x = embedding(x)\n",
    "x = tf.keras.layers.GRU(64)(x)\n",
    "#x = tf.keras.layers.Dense(64)(x)\n",
    "outputs = tf.keras.layers.Dense(len_cat, activation='softmax', name='output_layer')(x)\n",
    "\n",
    "model_3 = tf.keras.models.Model(inputs, outputs)"
   ]
  },
  {
   "cell_type": "code",
   "execution_count": 44,
   "id": "2fe7a37c",
   "metadata": {},
   "outputs": [
    {
     "name": "stdout",
     "output_type": "stream",
     "text": [
      "Epoch 1/5\n",
      "562/562 [==============================] - 7s 10ms/step - loss: 1.0528 - accuracy: 0.5412 - val_loss: 0.7480 - val_accuracy: 0.6835\n",
      "Epoch 2/5\n",
      "562/562 [==============================] - 5s 9ms/step - loss: 0.7645 - accuracy: 0.6934 - val_loss: 0.7271 - val_accuracy: 0.7011\n",
      "Epoch 3/5\n",
      "562/562 [==============================] - 5s 9ms/step - loss: 0.6772 - accuracy: 0.7439 - val_loss: 0.6543 - val_accuracy: 0.7357\n",
      "Epoch 4/5\n",
      "562/562 [==============================] - 5s 9ms/step - loss: 0.6233 - accuracy: 0.7656 - val_loss: 0.6264 - val_accuracy: 0.7606\n",
      "Epoch 5/5\n",
      "562/562 [==============================] - 5s 9ms/step - loss: 0.5658 - accuracy: 0.7918 - val_loss: 0.5863 - val_accuracy: 0.7846\n"
     ]
    },
    {
     "data": {
      "text/plain": [
       "<keras.callbacks.History at 0x1338cddac40>"
      ]
     },
     "execution_count": 44,
     "metadata": {},
     "output_type": "execute_result"
    }
   ],
   "source": [
    "compile_model(model_3)\n",
    "fit_model(model_3)"
   ]
  },
  {
   "cell_type": "code",
   "execution_count": 45,
   "id": "76937a61",
   "metadata": {},
   "outputs": [],
   "source": [
    "model_3_preds = model_3.predict(valid_dataset)\n",
    "model_3_preds = tf.squeeze(tf.round(model_3_preds))"
   ]
  },
  {
   "cell_type": "code",
   "execution_count": 46,
   "id": "95f15035",
   "metadata": {},
   "outputs": [],
   "source": [
    "model_3_results = evaluate_model_results(model_3_preds, val_labels_one_hot)"
   ]
  },
  {
   "cell_type": "code",
   "execution_count": 47,
   "id": "7a711a75",
   "metadata": {},
   "outputs": [
    {
     "data": {
      "text/plain": [
       "{'accuracy': 0.7461273666092944,\n",
       " 'precision': 0.8078011041080839,\n",
       " 'recall': 0.7461273666092944,\n",
       " 'f1-score': 0.7671924688433378}"
      ]
     },
     "execution_count": 47,
     "metadata": {},
     "output_type": "execute_result"
    }
   ],
   "source": [
    "model_3_results"
   ]
  },
  {
   "cell_type": "markdown",
   "id": "f5d8dd2b",
   "metadata": {},
   "source": [
    "### Model 4 - Bidirectional LSTM (RNN)"
   ]
  },
  {
   "cell_type": "code",
   "execution_count": 48,
   "id": "6ed557a1",
   "metadata": {},
   "outputs": [],
   "source": [
    "from tensorflow.keras.layers import LSTM"
   ]
  },
  {
   "cell_type": "code",
   "execution_count": 134,
   "id": "662761d8",
   "metadata": {},
   "outputs": [
    {
     "name": "stdout",
     "output_type": "stream",
     "text": [
      "Epoch 1/5\n"
     ]
    },
    {
     "ename": "ValueError",
     "evalue": "in user code:\n\n    File \"C:\\Users\\gilgamesh\\Anaconda3\\lib\\site-packages\\keras\\engine\\training.py\", line 878, in train_function  *\n        return step_function(self, iterator)\n    File \"C:\\Users\\gilgamesh\\Anaconda3\\lib\\site-packages\\keras\\engine\\training.py\", line 867, in step_function  **\n        outputs = model.distribute_strategy.run(run_step, args=(data,))\n    File \"C:\\Users\\gilgamesh\\Anaconda3\\lib\\site-packages\\keras\\engine\\training.py\", line 860, in run_step  **\n        outputs = model.train_step(data)\n    File \"C:\\Users\\gilgamesh\\Anaconda3\\lib\\site-packages\\keras\\engine\\training.py\", line 809, in train_step\n        loss = self.compiled_loss(\n    File \"C:\\Users\\gilgamesh\\Anaconda3\\lib\\site-packages\\keras\\engine\\compile_utils.py\", line 201, in __call__\n        loss_value = loss_obj(y_t, y_p, sample_weight=sw)\n    File \"C:\\Users\\gilgamesh\\Anaconda3\\lib\\site-packages\\keras\\losses.py\", line 141, in __call__\n        losses = call_fn(y_true, y_pred)\n    File \"C:\\Users\\gilgamesh\\Anaconda3\\lib\\site-packages\\keras\\losses.py\", line 245, in call  **\n        return ag_fn(y_true, y_pred, **self._fn_kwargs)\n    File \"C:\\Users\\gilgamesh\\Anaconda3\\lib\\site-packages\\keras\\losses.py\", line 1664, in categorical_crossentropy\n        return backend.categorical_crossentropy(\n    File \"C:\\Users\\gilgamesh\\Anaconda3\\lib\\site-packages\\keras\\backend.py\", line 4994, in categorical_crossentropy\n        target.shape.assert_is_compatible_with(output.shape)\n\n    ValueError: Shapes (None, 5) and (None, 128) are incompatible\n",
     "output_type": "error",
     "traceback": [
      "\u001b[1;31m---------------------------------------------------------------------------\u001b[0m",
      "\u001b[1;31mValueError\u001b[0m                                Traceback (most recent call last)",
      "\u001b[1;32m<ipython-input-134-58377f7e1d1f>\u001b[0m in \u001b[0;36m<module>\u001b[1;34m\u001b[0m\n\u001b[0;32m      8\u001b[0m \u001b[1;33m\u001b[0m\u001b[0m\n\u001b[0;32m      9\u001b[0m \u001b[0mcompile_model\u001b[0m\u001b[1;33m(\u001b[0m\u001b[0mmodel_4\u001b[0m\u001b[1;33m)\u001b[0m\u001b[1;33m\u001b[0m\u001b[1;33m\u001b[0m\u001b[0m\n\u001b[1;32m---> 10\u001b[1;33m \u001b[0mfit_model\u001b[0m\u001b[1;33m(\u001b[0m\u001b[0mmodel_4\u001b[0m\u001b[1;33m)\u001b[0m\u001b[1;33m\u001b[0m\u001b[1;33m\u001b[0m\u001b[0m\n\u001b[0m",
      "\u001b[1;32m<ipython-input-4-a0ad8c5c45fc>\u001b[0m in \u001b[0;36mfit_model\u001b[1;34m(model_)\u001b[0m\n\u001b[0;32m      1\u001b[0m \u001b[1;32mdef\u001b[0m \u001b[0mfit_model\u001b[0m\u001b[1;33m(\u001b[0m\u001b[0mmodel_\u001b[0m\u001b[1;33m)\u001b[0m\u001b[1;33m:\u001b[0m\u001b[1;33m\u001b[0m\u001b[1;33m\u001b[0m\u001b[0m\n\u001b[1;32m----> 2\u001b[1;33m     fitted_model = model_.fit(train_dataset,                             \n\u001b[0m\u001b[0;32m      3\u001b[0m                               \u001b[0msteps_per_epoch\u001b[0m\u001b[1;33m=\u001b[0m\u001b[0mint\u001b[0m\u001b[1;33m(\u001b[0m\u001b[1;36m0.1\u001b[0m \u001b[1;33m*\u001b[0m \u001b[0mlen\u001b[0m\u001b[1;33m(\u001b[0m\u001b[0mtrain_dataset\u001b[0m\u001b[1;33m)\u001b[0m\u001b[1;33m)\u001b[0m\u001b[1;33m,\u001b[0m\u001b[1;33m\u001b[0m\u001b[1;33m\u001b[0m\u001b[0m\n\u001b[0;32m      4\u001b[0m                               \u001b[0mepochs\u001b[0m\u001b[1;33m=\u001b[0m\u001b[1;36m5\u001b[0m\u001b[1;33m,\u001b[0m\u001b[1;33m\u001b[0m\u001b[1;33m\u001b[0m\u001b[0m\n\u001b[0;32m      5\u001b[0m                               \u001b[0mvalidation_data\u001b[0m\u001b[1;33m=\u001b[0m\u001b[1;33m(\u001b[0m\u001b[0mvalid_dataset\u001b[0m\u001b[1;33m)\u001b[0m\u001b[1;33m,\u001b[0m\u001b[1;33m\u001b[0m\u001b[1;33m\u001b[0m\u001b[0m\n",
      "\u001b[1;32m~\\Anaconda3\\lib\\site-packages\\keras\\utils\\traceback_utils.py\u001b[0m in \u001b[0;36merror_handler\u001b[1;34m(*args, **kwargs)\u001b[0m\n\u001b[0;32m     65\u001b[0m     \u001b[1;32mexcept\u001b[0m \u001b[0mException\u001b[0m \u001b[1;32mas\u001b[0m \u001b[0me\u001b[0m\u001b[1;33m:\u001b[0m  \u001b[1;31m# pylint: disable=broad-except\u001b[0m\u001b[1;33m\u001b[0m\u001b[1;33m\u001b[0m\u001b[0m\n\u001b[0;32m     66\u001b[0m       \u001b[0mfiltered_tb\u001b[0m \u001b[1;33m=\u001b[0m \u001b[0m_process_traceback_frames\u001b[0m\u001b[1;33m(\u001b[0m\u001b[0me\u001b[0m\u001b[1;33m.\u001b[0m\u001b[0m__traceback__\u001b[0m\u001b[1;33m)\u001b[0m\u001b[1;33m\u001b[0m\u001b[1;33m\u001b[0m\u001b[0m\n\u001b[1;32m---> 67\u001b[1;33m       \u001b[1;32mraise\u001b[0m \u001b[0me\u001b[0m\u001b[1;33m.\u001b[0m\u001b[0mwith_traceback\u001b[0m\u001b[1;33m(\u001b[0m\u001b[0mfiltered_tb\u001b[0m\u001b[1;33m)\u001b[0m \u001b[1;32mfrom\u001b[0m \u001b[1;32mNone\u001b[0m\u001b[1;33m\u001b[0m\u001b[1;33m\u001b[0m\u001b[0m\n\u001b[0m\u001b[0;32m     68\u001b[0m     \u001b[1;32mfinally\u001b[0m\u001b[1;33m:\u001b[0m\u001b[1;33m\u001b[0m\u001b[1;33m\u001b[0m\u001b[0m\n\u001b[0;32m     69\u001b[0m       \u001b[1;32mdel\u001b[0m \u001b[0mfiltered_tb\u001b[0m\u001b[1;33m\u001b[0m\u001b[1;33m\u001b[0m\u001b[0m\n",
      "\u001b[1;32m~\\Anaconda3\\lib\\site-packages\\tensorflow\\python\\framework\\func_graph.py\u001b[0m in \u001b[0;36mautograph_handler\u001b[1;34m(*args, **kwargs)\u001b[0m\n\u001b[0;32m   1127\u001b[0m           \u001b[1;32mexcept\u001b[0m \u001b[0mException\u001b[0m \u001b[1;32mas\u001b[0m \u001b[0me\u001b[0m\u001b[1;33m:\u001b[0m  \u001b[1;31m# pylint:disable=broad-except\u001b[0m\u001b[1;33m\u001b[0m\u001b[1;33m\u001b[0m\u001b[0m\n\u001b[0;32m   1128\u001b[0m             \u001b[1;32mif\u001b[0m \u001b[0mhasattr\u001b[0m\u001b[1;33m(\u001b[0m\u001b[0me\u001b[0m\u001b[1;33m,\u001b[0m \u001b[1;34m\"ag_error_metadata\"\u001b[0m\u001b[1;33m)\u001b[0m\u001b[1;33m:\u001b[0m\u001b[1;33m\u001b[0m\u001b[1;33m\u001b[0m\u001b[0m\n\u001b[1;32m-> 1129\u001b[1;33m               \u001b[1;32mraise\u001b[0m \u001b[0me\u001b[0m\u001b[1;33m.\u001b[0m\u001b[0mag_error_metadata\u001b[0m\u001b[1;33m.\u001b[0m\u001b[0mto_exception\u001b[0m\u001b[1;33m(\u001b[0m\u001b[0me\u001b[0m\u001b[1;33m)\u001b[0m\u001b[1;33m\u001b[0m\u001b[1;33m\u001b[0m\u001b[0m\n\u001b[0m\u001b[0;32m   1130\u001b[0m             \u001b[1;32melse\u001b[0m\u001b[1;33m:\u001b[0m\u001b[1;33m\u001b[0m\u001b[1;33m\u001b[0m\u001b[0m\n\u001b[0;32m   1131\u001b[0m               \u001b[1;32mraise\u001b[0m\u001b[1;33m\u001b[0m\u001b[1;33m\u001b[0m\u001b[0m\n",
      "\u001b[1;31mValueError\u001b[0m: in user code:\n\n    File \"C:\\Users\\gilgamesh\\Anaconda3\\lib\\site-packages\\keras\\engine\\training.py\", line 878, in train_function  *\n        return step_function(self, iterator)\n    File \"C:\\Users\\gilgamesh\\Anaconda3\\lib\\site-packages\\keras\\engine\\training.py\", line 867, in step_function  **\n        outputs = model.distribute_strategy.run(run_step, args=(data,))\n    File \"C:\\Users\\gilgamesh\\Anaconda3\\lib\\site-packages\\keras\\engine\\training.py\", line 860, in run_step  **\n        outputs = model.train_step(data)\n    File \"C:\\Users\\gilgamesh\\Anaconda3\\lib\\site-packages\\keras\\engine\\training.py\", line 809, in train_step\n        loss = self.compiled_loss(\n    File \"C:\\Users\\gilgamesh\\Anaconda3\\lib\\site-packages\\keras\\engine\\compile_utils.py\", line 201, in __call__\n        loss_value = loss_obj(y_t, y_p, sample_weight=sw)\n    File \"C:\\Users\\gilgamesh\\Anaconda3\\lib\\site-packages\\keras\\losses.py\", line 141, in __call__\n        losses = call_fn(y_true, y_pred)\n    File \"C:\\Users\\gilgamesh\\Anaconda3\\lib\\site-packages\\keras\\losses.py\", line 245, in call  **\n        return ag_fn(y_true, y_pred, **self._fn_kwargs)\n    File \"C:\\Users\\gilgamesh\\Anaconda3\\lib\\site-packages\\keras\\losses.py\", line 1664, in categorical_crossentropy\n        return backend.categorical_crossentropy(\n    File \"C:\\Users\\gilgamesh\\Anaconda3\\lib\\site-packages\\keras\\backend.py\", line 4994, in categorical_crossentropy\n        target.shape.assert_is_compatible_with(output.shape)\n\n    ValueError: Shapes (None, 5) and (None, 128) are incompatible\n"
     ]
    }
   ],
   "source": [
    "inputs = tf.keras.layers.Input(shape=(1,), dtype=tf.string, name='input_layer')\n",
    "x = text_vectorizer(inputs)\n",
    "x = embedding(x)\n",
    "x = tf.keras.layers.Bidirectional(LSTM(64))(x)\n",
    "outputs = tf.keras.layers.Dense(len_cat, activation='softmax', name='output_layer')(x)\n",
    "\n",
    "model_4 = tf.keras.models.Model(inputs, outputs)\n",
    "\n",
    "compile_model(model_4)\n",
    "fit_model(model_4)"
   ]
  },
  {
   "cell_type": "code",
   "execution_count": 50,
   "id": "8ea62d57",
   "metadata": {},
   "outputs": [],
   "source": [
    "model_4_preds = model_4.predict(valid_dataset)\n",
    "model_4_preds = tf.squeeze(tf.round(model_4_preds))"
   ]
  },
  {
   "cell_type": "code",
   "execution_count": 51,
   "id": "c68a11ec",
   "metadata": {},
   "outputs": [],
   "source": [
    "model_4_results = evaluate_model_results(model_4_preds, val_labels_one_hot)"
   ]
  },
  {
   "cell_type": "code",
   "execution_count": 52,
   "id": "20281934",
   "metadata": {},
   "outputs": [
    {
     "data": {
      "text/plain": [
       "{'accuracy': 0.7876671521249835,\n",
       " 'precision': 0.8284503297371726,\n",
       " 'recall': 0.7876671521249835,\n",
       " 'f1-score': 0.8039901116907967}"
      ]
     },
     "execution_count": 52,
     "metadata": {},
     "output_type": "execute_result"
    }
   ],
   "source": [
    "model_4_results"
   ]
  },
  {
   "cell_type": "markdown",
   "id": "d4a03813",
   "metadata": {},
   "source": [
    "### Model 5 - 1D Convolutional Neural Network (CNN)"
   ]
  },
  {
   "cell_type": "code",
   "execution_count": 53,
   "id": "20b6f643",
   "metadata": {},
   "outputs": [
    {
     "name": "stdout",
     "output_type": "stream",
     "text": [
      "Epoch 1/5\n",
      "562/562 [==============================] - 7s 8ms/step - loss: 0.5764 - accuracy: 0.7931 - val_loss: 0.5701 - val_accuracy: 0.7912\n",
      "Epoch 2/5\n",
      "562/562 [==============================] - 4s 8ms/step - loss: 0.5033 - accuracy: 0.8217 - val_loss: 0.5639 - val_accuracy: 0.7929\n",
      "Epoch 3/5\n",
      "562/562 [==============================] - 4s 8ms/step - loss: 0.4729 - accuracy: 0.8341 - val_loss: 0.5759 - val_accuracy: 0.7749\n",
      "Epoch 4/5\n",
      "562/562 [==============================] - 4s 8ms/step - loss: 0.4470 - accuracy: 0.8450 - val_loss: 0.5468 - val_accuracy: 0.8009\n",
      "Epoch 5/5\n",
      "562/562 [==============================] - 4s 8ms/step - loss: 0.4370 - accuracy: 0.8506 - val_loss: 0.5422 - val_accuracy: 0.8025\n"
     ]
    },
    {
     "data": {
      "text/plain": [
       "<keras.callbacks.History at 0x135137fd5b0>"
      ]
     },
     "execution_count": 53,
     "metadata": {},
     "output_type": "execute_result"
    }
   ],
   "source": [
    "inputs = tf.keras.layers.Input(shape=(1,), dtype=tf.string, name='input_layer')\n",
    "x = text_vectorizer(inputs)\n",
    "x = embedding(x)\n",
    "x = tf.keras.layers.Conv1D(64, 5, activation='relu', strides=1, padding='valid')(x)\n",
    "x = tf.keras.layers.GlobalMaxPool1D()(x)\n",
    "outputs = tf.keras.layers.Dense(len_cat, activation='softmax')(x)\n",
    "\n",
    "model_5 = tf.keras.models.Model(inputs, outputs)\n",
    "\n",
    "compile_model(model_5)\n",
    "model_5.fit(train_dataset,\n",
    "            steps_per_epoch=int(0.1 * len(train_dataset)),\n",
    "            epochs=5,\n",
    "            validation_data=(valid_dataset),\n",
    "            validation_steps=int(0.1 * len(valid_dataset))\n",
    "           )"
   ]
  },
  {
   "cell_type": "code",
   "execution_count": 54,
   "id": "995ee866",
   "metadata": {},
   "outputs": [],
   "source": [
    "model_5_preds = model_5.predict(valid_dataset)\n",
    "model_5_preds = tf.squeeze(tf.round(model_5_preds))"
   ]
  },
  {
   "cell_type": "code",
   "execution_count": 55,
   "id": "e47422f0",
   "metadata": {
    "scrolled": true
   },
   "outputs": [],
   "source": [
    "model_5_results = evaluate_model_results(model_5_preds, val_labels_one_hot)"
   ]
  },
  {
   "cell_type": "code",
   "execution_count": 56,
   "id": "249f5439",
   "metadata": {},
   "outputs": [
    {
     "data": {
      "text/plain": [
       "{'accuracy': 0.7747914735866543,\n",
       " 'precision': 0.8243516858705823,\n",
       " 'recall': 0.7747914735866543,\n",
       " 'f1-score': 0.7967963947219356}"
      ]
     },
     "execution_count": 56,
     "metadata": {},
     "output_type": "execute_result"
    }
   ],
   "source": [
    "model_5_results"
   ]
  },
  {
   "cell_type": "markdown",
   "id": "52a4fca9",
   "metadata": {},
   "source": [
    "### Model 6 - Transfer Learning USE"
   ]
  },
  {
   "cell_type": "code",
   "execution_count": 57,
   "id": "963d2021",
   "metadata": {},
   "outputs": [],
   "source": [
    "#module_url = \"https://tfhub.dev/google/universal-sentence-encoder/4\" #@param [\"https://tfhub.dev/google/universal-sentence-encoder/4\", \"https://tfhub.dev/google/universal-sentence-encoder-large/5\"]\n",
    "sentence_encoder_layer = hub.KerasLayer(\"https://tfhub.dev/google/universal-sentence-encoder/4\",\n",
    "                                       input_shape=[],\n",
    "                                       dtype=tf.string,\n",
    "                                       trainable=False,\n",
    "                                       name='USE')"
   ]
  },
  {
   "cell_type": "code",
   "execution_count": 58,
   "id": "cfccf874",
   "metadata": {},
   "outputs": [],
   "source": [
    "inputs = tf.keras.layers.Input(shape=[], dtype=tf.string)\n",
    "x = sentence_encoder_layer(inputs)\n",
    "x = tf.keras.layers.Dense(128,activation=\"relu\")(x)\n",
    "outputs = tf.keras.layers.Dense(len_cat, activation='softmax')(x)\n",
    "\n",
    "model_6 = tf.keras.Model(inputs, outputs)"
   ]
  },
  {
   "cell_type": "code",
   "execution_count": 59,
   "id": "4436a56b",
   "metadata": {},
   "outputs": [],
   "source": [
    "compile_model(model_6)"
   ]
  },
  {
   "cell_type": "code",
   "execution_count": 60,
   "id": "11b040d1",
   "metadata": {},
   "outputs": [
    {
     "name": "stdout",
     "output_type": "stream",
     "text": [
      "Epoch 1/5\n",
      "562/562 [==============================] - 11s 15ms/step - loss: 0.9191 - accuracy: 0.6486 - val_loss: 0.7990 - val_accuracy: 0.6922\n",
      "Epoch 2/5\n",
      "562/562 [==============================] - 8s 15ms/step - loss: 0.7701 - accuracy: 0.7002 - val_loss: 0.7569 - val_accuracy: 0.7064\n",
      "Epoch 3/5\n",
      "562/562 [==============================] - 8s 15ms/step - loss: 0.7542 - accuracy: 0.7107 - val_loss: 0.7400 - val_accuracy: 0.7141\n",
      "Epoch 4/5\n",
      "562/562 [==============================] - 8s 15ms/step - loss: 0.7194 - accuracy: 0.7244 - val_loss: 0.7114 - val_accuracy: 0.7281\n",
      "Epoch 5/5\n",
      "562/562 [==============================] - 8s 15ms/step - loss: 0.7269 - accuracy: 0.7199 - val_loss: 0.6910 - val_accuracy: 0.7357\n"
     ]
    },
    {
     "data": {
      "text/plain": [
       "<keras.callbacks.History at 0x1354b106a60>"
      ]
     },
     "execution_count": 60,
     "metadata": {},
     "output_type": "execute_result"
    }
   ],
   "source": [
    "model_6.fit(train_dataset,\n",
    "            steps_per_epoch=int(0.1 * len(train_dataset)),\n",
    "            epochs=5,\n",
    "            validation_data=(valid_dataset),\n",
    "            validation_steps=int(0.1 * len(valid_dataset))\n",
    "           )"
   ]
  },
  {
   "cell_type": "code",
   "execution_count": 61,
   "id": "fcbbf03d",
   "metadata": {},
   "outputs": [],
   "source": [
    "model_6_preds = model_6.predict(valid_dataset)\n",
    "model_6_preds = tf.squeeze(tf.round(model_6_preds))"
   ]
  },
  {
   "cell_type": "code",
   "execution_count": 62,
   "id": "0223e587",
   "metadata": {},
   "outputs": [],
   "source": [
    "model_6_results = evaluate_model_results(model_6_preds, val_labels_one_hot)"
   ]
  },
  {
   "cell_type": "code",
   "execution_count": 63,
   "id": "4ca0f88c",
   "metadata": {},
   "outputs": [
    {
     "data": {
      "text/plain": [
       "{'accuracy': 0.6582152786972064,\n",
       " 'precision': 0.7886941022401219,\n",
       " 'recall': 0.6582152786972064,\n",
       " 'f1-score': 0.7048638827741521}"
      ]
     },
     "execution_count": 63,
     "metadata": {},
     "output_type": "execute_result"
    }
   ],
   "source": [
    "model_6_results"
   ]
  },
  {
   "cell_type": "markdown",
   "id": "ad3478bf",
   "metadata": {},
   "source": [
    "### Model 7 Feature Extraction and Fine Tuning"
   ]
  },
  {
   "cell_type": "code",
   "execution_count": 64,
   "id": "406952a1",
   "metadata": {},
   "outputs": [],
   "source": [
    "from helper_functions import create_checkpoint_callback, create_early_stopping_callback, create_reduce_lr_callback, create_tensorboard_callback"
   ]
  },
  {
   "cell_type": "code",
   "execution_count": 65,
   "id": "bf085311",
   "metadata": {},
   "outputs": [],
   "source": [
    "checkpoint_path = './NLP-NLU-Files/checkpoints/'"
   ]
  },
  {
   "cell_type": "code",
   "execution_count": 66,
   "id": "2a1191f6",
   "metadata": {},
   "outputs": [],
   "source": [
    "earlystopping_callback = create_early_stopping_callback(\n",
    "    metric='val_accuracy',\n",
    "    patience=3\n",
    ")\n",
    "\n",
    "checkpoint_callback = create_checkpoint_callback(\n",
    "    checkpoint_path=checkpoint_path,\n",
    "    metric='val_loss',\n",
    "    save_best=True,\n",
    "    save_weights=True,\n",
    ")\n",
    "\n",
    "lr_callback = create_reduce_lr_callback(\n",
    "    metric=\"val_loss\",\n",
    "    factor=0.1,\n",
    "    patience=2,\n",
    "    verbose=1,\n",
    "    min_lr=1e-7\n",
    ")"
   ]
  },
  {
   "cell_type": "code",
   "execution_count": 67,
   "id": "0911df3c",
   "metadata": {},
   "outputs": [
    {
     "name": "stdout",
     "output_type": "stream",
     "text": [
      "Epoch 1/100\n",
      "559/562 [============================>.] - ETA: 0s - loss: 0.6993 - accuracy: 0.7336\n",
      "Epoch 00001: val_loss improved from inf to 0.68189, saving model to ./NLP-NLU-Files/checkpoints\\\n",
      "562/562 [==============================] - 20s 36ms/step - loss: 0.6995 - accuracy: 0.7336 - val_loss: 0.6819 - val_accuracy: 0.7387 - lr: 0.0010\n",
      "Epoch 2/100\n",
      "559/562 [============================>.] - ETA: 0s - loss: 0.6764 - accuracy: 0.7402\n",
      "Epoch 00002: val_loss improved from 0.68189 to 0.67406, saving model to ./NLP-NLU-Files/checkpoints\\\n",
      "562/562 [==============================] - 20s 36ms/step - loss: 0.6759 - accuracy: 0.7405 - val_loss: 0.6741 - val_accuracy: 0.7340 - lr: 0.0010\n",
      "Epoch 3/100\n",
      "560/562 [============================>.] - ETA: 0s - loss: 0.6709 - accuracy: 0.7423\n",
      "Epoch 00003: val_loss improved from 0.67406 to 0.67278, saving model to ./NLP-NLU-Files/checkpoints\\\n",
      "562/562 [==============================] - 20s 35ms/step - loss: 0.6707 - accuracy: 0.7424 - val_loss: 0.6728 - val_accuracy: 0.7397 - lr: 0.0010\n",
      "Epoch 4/100\n",
      "560/562 [============================>.] - ETA: 0s - loss: 0.6538 - accuracy: 0.7522\n",
      "Epoch 00004: val_loss improved from 0.67278 to 0.65706, saving model to ./NLP-NLU-Files/checkpoints\\\n",
      "562/562 [==============================] - 21s 36ms/step - loss: 0.6540 - accuracy: 0.7521 - val_loss: 0.6571 - val_accuracy: 0.7460 - lr: 0.0010\n",
      "Epoch 5/100\n",
      "562/562 [==============================] - ETA: 0s - loss: 0.6655 - accuracy: 0.7430\n",
      "Epoch 00005: val_loss improved from 0.65706 to 0.64731, saving model to ./NLP-NLU-Files/checkpoints\\\n",
      "562/562 [==============================] - 20s 35ms/step - loss: 0.6655 - accuracy: 0.7430 - val_loss: 0.6473 - val_accuracy: 0.7510 - lr: 0.0010\n",
      "Epoch 6/100\n",
      "561/562 [============================>.] - ETA: 0s - loss: 0.6813 - accuracy: 0.7409\n",
      "Epoch 00006: val_loss improved from 0.64731 to 0.64492, saving model to ./NLP-NLU-Files/checkpoints\\\n",
      "562/562 [==============================] - 20s 36ms/step - loss: 0.6811 - accuracy: 0.7410 - val_loss: 0.6449 - val_accuracy: 0.7550 - lr: 0.0010\n",
      "Epoch 7/100\n",
      "558/562 [============================>.] - ETA: 0s - loss: 0.6521 - accuracy: 0.7518\n",
      "Epoch 00007: val_loss improved from 0.64492 to 0.63491, saving model to ./NLP-NLU-Files/checkpoints\\\n",
      "562/562 [==============================] - 20s 35ms/step - loss: 0.6518 - accuracy: 0.7521 - val_loss: 0.6349 - val_accuracy: 0.7603 - lr: 0.0010\n",
      "Epoch 8/100\n",
      "561/562 [============================>.] - ETA: 0s - loss: 0.6464 - accuracy: 0.7558\n",
      "Epoch 00008: val_loss improved from 0.63491 to 0.62470, saving model to ./NLP-NLU-Files/checkpoints\\\n",
      "562/562 [==============================] - 20s 36ms/step - loss: 0.6465 - accuracy: 0.7559 - val_loss: 0.6247 - val_accuracy: 0.7640 - lr: 0.0010\n",
      "Epoch 9/100\n",
      "559/562 [============================>.] - ETA: 0s - loss: 0.6465 - accuracy: 0.7524\n",
      "Epoch 00009: val_loss did not improve from 0.62470\n",
      "562/562 [==============================] - 8s 15ms/step - loss: 0.6468 - accuracy: 0.7521 - val_loss: 0.6271 - val_accuracy: 0.7590 - lr: 0.0010\n",
      "Epoch 10/100\n",
      "559/562 [============================>.] - ETA: 0s - loss: 0.6435 - accuracy: 0.7580\n",
      "Epoch 00010: val_loss did not improve from 0.62470\n",
      "\n",
      "Epoch 00010: ReduceLROnPlateau reducing learning rate to 0.00010000000474974513.\n",
      "562/562 [==============================] - 9s 15ms/step - loss: 0.6445 - accuracy: 0.7577 - val_loss: 0.6271 - val_accuracy: 0.7666 - lr: 0.0010\n",
      "Epoch 11/100\n",
      "  5/562 [..............................] - ETA: 7s - loss: 0.6635 - accuracy: 0.8000WARNING:tensorflow:Your input ran out of data; interrupting training. Make sure that your dataset or generator can generate at least `steps_per_epoch * epochs` batches (in this case, 56200 batches). You may need to use the repeat() function when building your dataset.\n"
     ]
    },
    {
     "name": "stderr",
     "output_type": "stream",
     "text": [
      "WARNING:tensorflow:Your input ran out of data; interrupting training. Make sure that your dataset or generator can generate at least `steps_per_epoch * epochs` batches (in this case, 56200 batches). You may need to use the repeat() function when building your dataset.\n"
     ]
    },
    {
     "name": "stdout",
     "output_type": "stream",
     "text": [
      "\n",
      "Epoch 00011: val_loss did not improve from 0.62470\n",
      "\b\b\b\b\b\b\b\b\b\b\b\b\b\b\b\b\b\b\b\b\b\b\b\b\b\b\b\b\b\b\b\b\b\b\b\b\b\b\b\b\b\b\b\b\b\b\b\b\b\b\b\b\b\b\b\b\b\b\b\b\b\b\b\b\b\b\b\b\b\b\b\b\b\b\b\b\b\b\b\b\b\b\b\b\r",
      "562/562 [==============================] - 2s 4ms/step - loss: 0.6794 - accuracy: 0.7650 - val_loss: 0.6275 - val_accuracy: 0.7666 - lr: 1.0000e-04\n"
     ]
    },
    {
     "data": {
      "text/plain": [
       "<keras.callbacks.History at 0x1354b14d8b0>"
      ]
     },
     "execution_count": 67,
     "metadata": {},
     "output_type": "execute_result"
    }
   ],
   "source": [
    "model_6.fit(train_dataset,\n",
    "            steps_per_epoch=int(0.1 * len(train_dataset)),\n",
    "            epochs=100,\n",
    "            validation_data=(valid_dataset),\n",
    "            validation_steps=int(0.1 * len(valid_dataset)),\n",
    "            callbacks=[checkpoint_callback, \n",
    "                       lr_callback,\n",
    "                       earlystopping_callback])"
   ]
  },
  {
   "cell_type": "code",
   "execution_count": 68,
   "id": "ac746624",
   "metadata": {},
   "outputs": [],
   "source": [
    "model_7_preds = model_6.predict(valid_dataset)\n",
    "model_7_preds = tf.squeeze(tf.round(model_6_preds))"
   ]
  },
  {
   "cell_type": "code",
   "execution_count": 69,
   "id": "8d67b337",
   "metadata": {},
   "outputs": [
    {
     "data": {
      "text/plain": [
       "{'accuracy': 0.6582152786972064,\n",
       " 'precision': 0.7886941022401219,\n",
       " 'recall': 0.6582152786972064,\n",
       " 'f1-score': 0.7048638827741521}"
      ]
     },
     "execution_count": 69,
     "metadata": {},
     "output_type": "execute_result"
    }
   ],
   "source": [
    "model_7_results = evaluate_model_results(model_6_preds, val_labels_one_hot)\n",
    "model_7_results"
   ]
  },
  {
   "cell_type": "markdown",
   "id": "ce69bdbf",
   "metadata": {},
   "source": [
    "### Comparing Model Results"
   ]
  },
  {
   "cell_type": "code",
   "execution_count": 70,
   "id": "024e7740",
   "metadata": {},
   "outputs": [
    {
     "data": {
      "text/html": [
       "<div>\n",
       "<style scoped>\n",
       "    .dataframe tbody tr th:only-of-type {\n",
       "        vertical-align: middle;\n",
       "    }\n",
       "\n",
       "    .dataframe tbody tr th {\n",
       "        vertical-align: top;\n",
       "    }\n",
       "\n",
       "    .dataframe thead th {\n",
       "        text-align: right;\n",
       "    }\n",
       "</style>\n",
       "<table border=\"1\" class=\"dataframe\">\n",
       "  <thead>\n",
       "    <tr style=\"text-align: right;\">\n",
       "      <th></th>\n",
       "      <th>accuracy</th>\n",
       "      <th>precision</th>\n",
       "      <th>recall</th>\n",
       "      <th>f1-score</th>\n",
       "    </tr>\n",
       "  </thead>\n",
       "  <tbody>\n",
       "    <tr>\n",
       "      <th>0_baseline</th>\n",
       "      <td>0.721832</td>\n",
       "      <td>0.718647</td>\n",
       "      <td>0.721832</td>\n",
       "      <td>0.698925</td>\n",
       "    </tr>\n",
       "    <tr>\n",
       "      <th>1_dense_layer</th>\n",
       "      <td>0.694062</td>\n",
       "      <td>0.830820</td>\n",
       "      <td>0.694062</td>\n",
       "      <td>0.746790</td>\n",
       "    </tr>\n",
       "    <tr>\n",
       "      <th>2_LSTM</th>\n",
       "      <td>0.567953</td>\n",
       "      <td>0.651593</td>\n",
       "      <td>0.567953</td>\n",
       "      <td>0.598143</td>\n",
       "    </tr>\n",
       "    <tr>\n",
       "      <th>3_GRU</th>\n",
       "      <td>0.746127</td>\n",
       "      <td>0.807801</td>\n",
       "      <td>0.746127</td>\n",
       "      <td>0.767192</td>\n",
       "    </tr>\n",
       "    <tr>\n",
       "      <th>4_bidirectional</th>\n",
       "      <td>0.787667</td>\n",
       "      <td>0.828450</td>\n",
       "      <td>0.787667</td>\n",
       "      <td>0.803990</td>\n",
       "    </tr>\n",
       "    <tr>\n",
       "      <th>5_conv1d</th>\n",
       "      <td>0.774791</td>\n",
       "      <td>0.824352</td>\n",
       "      <td>0.774791</td>\n",
       "      <td>0.796796</td>\n",
       "    </tr>\n",
       "    <tr>\n",
       "      <th>6_tf_hub_use_encoder</th>\n",
       "      <td>0.658215</td>\n",
       "      <td>0.788694</td>\n",
       "      <td>0.658215</td>\n",
       "      <td>0.704864</td>\n",
       "    </tr>\n",
       "    <tr>\n",
       "      <th>7_tf_fine_tuning</th>\n",
       "      <td>0.658215</td>\n",
       "      <td>0.788694</td>\n",
       "      <td>0.658215</td>\n",
       "      <td>0.704864</td>\n",
       "    </tr>\n",
       "  </tbody>\n",
       "</table>\n",
       "</div>"
      ],
      "text/plain": [
       "                      accuracy  precision    recall  f1-score\n",
       "0_baseline            0.721832   0.718647  0.721832  0.698925\n",
       "1_dense_layer         0.694062   0.830820  0.694062  0.746790\n",
       "2_LSTM                0.567953   0.651593  0.567953  0.598143\n",
       "3_GRU                 0.746127   0.807801  0.746127  0.767192\n",
       "4_bidirectional       0.787667   0.828450  0.787667  0.803990\n",
       "5_conv1d              0.774791   0.824352  0.774791  0.796796\n",
       "6_tf_hub_use_encoder  0.658215   0.788694  0.658215  0.704864\n",
       "7_tf_fine_tuning      0.658215   0.788694  0.658215  0.704864"
      ]
     },
     "execution_count": 70,
     "metadata": {},
     "output_type": "execute_result"
    }
   ],
   "source": [
    "all_model_results = pd.DataFrame({\n",
    "    '0_baseline' : model_0_results,\n",
    "    '1_dense_layer' : model_1_results,\n",
    "    '2_LSTM' : model_2_results,\n",
    "    '3_GRU' : model_3_results,\n",
    "    '4_bidirectional' : model_4_results,\n",
    "    '5_conv1d' : model_5_results,\n",
    "    '6_tf_hub_use_encoder' : model_6_results,\n",
    "    '7_tf_fine_tuning' : model_7_results,\n",
    "})\n",
    "all_model_results.T"
   ]
  },
  {
   "cell_type": "markdown",
   "id": "c6dea598",
   "metadata": {},
   "source": [
    "## Building a Character level Tokenizer and Embedding"
   ]
  },
  {
   "cell_type": "code",
   "execution_count": 71,
   "id": "be14bdbc",
   "metadata": {},
   "outputs": [],
   "source": [
    "def split_characters(text):\n",
    "    return ' '.join(list(text))"
   ]
  },
  {
   "cell_type": "code",
   "execution_count": 72,
   "id": "6a8c75f4",
   "metadata": {},
   "outputs": [],
   "source": [
    "train_sentence_char = [split_characters(sentence) for sentence in train_sentences]\n",
    "test_sentence_char = [split_characters(sentence) for sentence in test_sentences]\n",
    "val_sentence_char = [split_characters(sentence) for sentence in val_sentences]"
   ]
  },
  {
   "cell_type": "code",
   "execution_count": 73,
   "id": "713cb340",
   "metadata": {},
   "outputs": [],
   "source": [
    "char_lens = [len(sentence) for sentence in train_sentences]\n",
    "mean_char_len = np.mean(char_lens)\n",
    "mean_char_len\n",
    "output_sequence_length = int(np.percentile(char_lens, 95))"
   ]
  },
  {
   "cell_type": "code",
   "execution_count": 74,
   "id": "0527c896",
   "metadata": {
    "scrolled": false
   },
   "outputs": [
    {
     "data": {
      "text/plain": [
       "'abcdefghijklmnopqrstuvwxyz0123456789!\"#$%&\\'()*+,-./:;<=>?@[\\\\]^_`{|}~'"
      ]
     },
     "execution_count": 74,
     "metadata": {},
     "output_type": "execute_result"
    }
   ],
   "source": [
    "import string\n",
    "alphabet = string.ascii_lowercase + string.digits + string.punctuation\n",
    "alphabet"
   ]
  },
  {
   "cell_type": "code",
   "execution_count": 75,
   "id": "45840e14",
   "metadata": {},
   "outputs": [],
   "source": [
    "NUM_CHAR_TOKENS = len(alphabet) + 2\n",
    "char_vectorizer = tf.keras.layers.TextVectorization(\n",
    "    max_tokens=NUM_CHAR_TOKENS,\n",
    "    output_sequence_length=output_sequence_length,\n",
    "    standardize='lower_and_strip_punctuation',\n",
    "    name='CHAR_VECTORIZER'\n",
    ")\n",
    "\n",
    "char_vectorizer.adapt(train_sentence_char)"
   ]
  },
  {
   "cell_type": "code",
   "execution_count": 76,
   "id": "083b0532",
   "metadata": {},
   "outputs": [],
   "source": [
    "char_embed = tf.keras.layers.Embedding(input_dim=NUM_CHAR_TOKENS,\n",
    "                                       output_dim=25,\n",
    "                                       mask_zero=False,\n",
    "                                       name='CHAR_EMBEDDER')"
   ]
  },
  {
   "cell_type": "code",
   "execution_count": 77,
   "id": "5fcc1732",
   "metadata": {},
   "outputs": [
    {
     "data": {
      "text/plain": [
       "<PrefetchDataset shapes: ((None,), (None, 5)), types: (tf.string, tf.float64)>"
      ]
     },
     "execution_count": 77,
     "metadata": {},
     "output_type": "execute_result"
    }
   ],
   "source": [
    "train_char_dataset = tf.data.Dataset.from_tensor_slices((train_sentence_char, train_labels_one_hot)).batch(32).prefetch(tf.data.AUTOTUNE)\n",
    "val_char_dataset = tf.data.Dataset.from_tensor_slices((val_sentence_char, val_labels_one_hot)).batch(32).prefetch(tf.data.AUTOTUNE)\n",
    "\n",
    "train_char_dataset"
   ]
  },
  {
   "cell_type": "markdown",
   "id": "ac356b5b",
   "metadata": {},
   "source": [
    "## Building Models for Characterized Dataset"
   ]
  },
  {
   "cell_type": "markdown",
   "id": "f6f277c2",
   "metadata": {},
   "source": [
    "### Model 8 - Feed-Forward Neural Network (Dense Model)"
   ]
  },
  {
   "cell_type": "code",
   "execution_count": 78,
   "id": "5b3c0ced",
   "metadata": {},
   "outputs": [
    {
     "name": "stdout",
     "output_type": "stream",
     "text": [
      "Epoch 1/5\n",
      "562/562 [==============================] - 4s 6ms/step - loss: 1.4832 - accuracy: 0.3346 - val_loss: 1.4596 - val_accuracy: 0.3298\n",
      "Epoch 2/5\n",
      "562/562 [==============================] - 3s 6ms/step - loss: 1.4484 - accuracy: 0.3773 - val_loss: 1.4447 - val_accuracy: 0.4019\n",
      "Epoch 3/5\n",
      "562/562 [==============================] - 3s 6ms/step - loss: 1.4361 - accuracy: 0.3981 - val_loss: 1.4277 - val_accuracy: 0.4156\n",
      "Epoch 4/5\n",
      "562/562 [==============================] - 3s 5ms/step - loss: 1.4105 - accuracy: 0.4212 - val_loss: 1.4073 - val_accuracy: 0.4195\n",
      "Epoch 5/5\n",
      "562/562 [==============================] - 3s 4ms/step - loss: 1.3932 - accuracy: 0.4188 - val_loss: 1.3851 - val_accuracy: 0.4315\n"
     ]
    },
    {
     "data": {
      "text/plain": [
       "<keras.callbacks.History at 0x135494e5220>"
      ]
     },
     "execution_count": 78,
     "metadata": {},
     "output_type": "execute_result"
    }
   ],
   "source": [
    "inputs = tf.keras.layers.Input(shape=(1,), dtype=tf.string, name='input_shape')\n",
    "vectorize = char_vectorizer(inputs)\n",
    "embed = char_embed(vectorize)\n",
    "x = tf.keras.layers.GlobalAveragePooling1D()(embed)\n",
    "outputs = tf.keras.layers.Dense(len_cat, activation='softmax')(x)\n",
    "\n",
    "model_8 = tf.keras.Model(inputs, outputs)\n",
    "\n",
    "model_8.compile(loss=tf.keras.losses.CategoricalCrossentropy(),\n",
    "                optimizer=tf.keras.optimizers.Adam(),\n",
    "                metrics=['accuracy'])\n",
    "\n",
    "model_8.fit(train_char_dataset,\n",
    "            steps_per_epoch=int(0.1 * len(train_char_dataset)),\n",
    "            epochs=5,\n",
    "            validation_data=val_char_dataset,\n",
    "            validation_steps=int(0.1 *len(val_char_dataset))\n",
    "           )"
   ]
  },
  {
   "cell_type": "code",
   "execution_count": 114,
   "id": "02ec5560",
   "metadata": {},
   "outputs": [],
   "source": [
    "model_8_pred_probs = model_8.predict(val_char_dataset )"
   ]
  },
  {
   "cell_type": "code",
   "execution_count": 115,
   "id": "7644db89",
   "metadata": {},
   "outputs": [
    {
     "data": {
      "text/plain": [
       "<tf.Tensor: shape=(30212,), dtype=int64, numpy=array([2, 2, 2, ..., 2, 2, 2], dtype=int64)>"
      ]
     },
     "execution_count": 115,
     "metadata": {},
     "output_type": "execute_result"
    }
   ],
   "source": [
    "model_8_preds = tf.argmax(model_8_pred_probs, axis=1)\n",
    "model_8_preds"
   ]
  },
  {
   "cell_type": "code",
   "execution_count": 116,
   "id": "dfbd7361",
   "metadata": {},
   "outputs": [
    {
     "data": {
      "text/plain": [
       "{'accuracy': 0.33350986363034557,\n",
       " 'precision': 0.31966099801787373,\n",
       " 'recall': 0.33350986363034557,\n",
       " 'f1-score': 0.1851073724218701}"
      ]
     },
     "execution_count": 116,
     "metadata": {},
     "output_type": "execute_result"
    }
   ],
   "source": [
    "model_8_results = evaluate_model_results(model_8_preds, val_labels_encoded)\n",
    "model_8_results"
   ]
  },
  {
   "cell_type": "markdown",
   "id": "bbb9b866",
   "metadata": {},
   "source": [
    "### Model 9 - LSTM Model"
   ]
  },
  {
   "cell_type": "code",
   "execution_count": 79,
   "id": "379e5422",
   "metadata": {
    "scrolled": true
   },
   "outputs": [
    {
     "name": "stdout",
     "output_type": "stream",
     "text": [
      "Epoch 1/5\n",
      "562/562 [==============================] - 9s 14ms/step - loss: 1.4800 - accuracy: 0.3273 - val_loss: 1.4740 - val_accuracy: 0.3298\n",
      "Epoch 2/5\n",
      "562/562 [==============================] - 7s 13ms/step - loss: 1.4689 - accuracy: 0.3334 - val_loss: 1.4726 - val_accuracy: 0.3298\n",
      "Epoch 3/5\n",
      "562/562 [==============================] - 7s 13ms/step - loss: 1.4712 - accuracy: 0.3313 - val_loss: 1.4734 - val_accuracy: 0.3225\n",
      "Epoch 4/5\n",
      "562/562 [==============================] - 7s 13ms/step - loss: 1.4647 - accuracy: 0.3307 - val_loss: 1.4739 - val_accuracy: 0.3298\n",
      "Epoch 5/5\n",
      "562/562 [==============================] - 7s 13ms/step - loss: 1.4678 - accuracy: 0.3320 - val_loss: 1.4741 - val_accuracy: 0.3298\n"
     ]
    },
    {
     "data": {
      "text/plain": [
       "<keras.callbacks.History at 0x135756cfbe0>"
      ]
     },
     "execution_count": 79,
     "metadata": {},
     "output_type": "execute_result"
    }
   ],
   "source": [
    "inputs = tf.keras.layers.Input(shape=(1,), dtype=tf.string, name='input_layer')\n",
    "vectorize = char_vectorizer(inputs)\n",
    "embed = char_embed(vectorize)\n",
    "#x = tf.keras.layers.LSTM(64, return_sequences=True)(x)\n",
    "x = tf.keras.layers.LSTM(64)(embed)\n",
    "#x = tf.keras.layers.Dense(64, activation='relu')(x)\n",
    "outputs = tf.keras.layers.Dense(len_cat, activation='softmax', name='output_layer')(x)\n",
    "\n",
    "model_9 = tf.keras.models.Model(inputs, outputs)\n",
    "\n",
    "model_9.compile(loss=tf.keras.losses.CategoricalCrossentropy(),\n",
    "                optimizer=tf.keras.optimizers.Adam(),\n",
    "                metrics=['accuracy'])\n",
    "\n",
    "model_9.fit(train_char_dataset,\n",
    "            steps_per_epoch=int(0.1 * len(train_char_dataset)),\n",
    "            epochs=5,\n",
    "            validation_data=val_char_dataset,\n",
    "            validation_steps=int(0.1 *len(val_char_dataset))\n",
    "           )"
   ]
  },
  {
   "cell_type": "code",
   "execution_count": 117,
   "id": "61c3f695",
   "metadata": {},
   "outputs": [],
   "source": [
    "model_9_pred_probs = model_9.predict(val_char_dataset )"
   ]
  },
  {
   "cell_type": "code",
   "execution_count": 118,
   "id": "db19158d",
   "metadata": {},
   "outputs": [
    {
     "data": {
      "text/plain": [
       "<tf.Tensor: shape=(30212,), dtype=int64, numpy=array([4, 4, 4, ..., 4, 4, 4], dtype=int64)>"
      ]
     },
     "execution_count": 118,
     "metadata": {},
     "output_type": "execute_result"
    }
   ],
   "source": [
    "model_9_preds = tf.argmax(model_9_pred_probs, axis=1)\n",
    "model_9_preds"
   ]
  },
  {
   "cell_type": "code",
   "execution_count": 119,
   "id": "705de3f3",
   "metadata": {},
   "outputs": [
    {
     "name": "stderr",
     "output_type": "stream",
     "text": [
      "C:\\Users\\gilgamesh\\Anaconda3\\lib\\site-packages\\sklearn\\metrics\\_classification.py:1245: UndefinedMetricWarning: Precision and F-score are ill-defined and being set to 0.0 in labels with no predicted samples. Use `zero_division` parameter to control this behavior.\n",
      "  _warn_prf(average, modifier, msg_start, len(result))\n"
     ]
    },
    {
     "data": {
      "text/plain": [
       "{'accuracy': 0.32854494902687675,\n",
       " 'precision': 0.3042067174663866,\n",
       " 'recall': 0.32854494902687675,\n",
       " 'f1-score': 0.17230073354061556}"
      ]
     },
     "execution_count": 119,
     "metadata": {},
     "output_type": "execute_result"
    }
   ],
   "source": [
    "model_9_results = evaluate_model_results(model_9_preds, val_labels_encoded)\n",
    "model_9_results"
   ]
  },
  {
   "cell_type": "markdown",
   "id": "deeac6e0",
   "metadata": {},
   "source": [
    "### Model 10 - Bidrectional LSTM"
   ]
  },
  {
   "cell_type": "code",
   "execution_count": 80,
   "id": "509ade3a",
   "metadata": {},
   "outputs": [
    {
     "name": "stdout",
     "output_type": "stream",
     "text": [
      "Epoch 1/10\n",
      "562/562 [==============================] - 24s 38ms/step - loss: 1.3743 - accuracy: 0.4076 - val_loss: 1.2976 - val_accuracy: 0.4342\n",
      "Epoch 2/10\n",
      "562/562 [==============================] - 21s 37ms/step - loss: 1.3112 - accuracy: 0.4348 - val_loss: 1.2429 - val_accuracy: 0.4777\n",
      "Epoch 3/10\n",
      "562/562 [==============================] - 20s 36ms/step - loss: 1.2120 - accuracy: 0.4953 - val_loss: 1.1731 - val_accuracy: 0.5146\n",
      "Epoch 4/10\n",
      "562/562 [==============================] - 20s 36ms/step - loss: 1.1200 - accuracy: 0.5442 - val_loss: 1.0927 - val_accuracy: 0.5509\n",
      "Epoch 5/10\n",
      "562/562 [==============================] - 21s 38ms/step - loss: 1.0511 - accuracy: 0.5707 - val_loss: 0.9891 - val_accuracy: 0.6037\n",
      "Epoch 6/10\n",
      "562/562 [==============================] - 22s 40ms/step - loss: 0.9837 - accuracy: 0.6097 - val_loss: 0.9247 - val_accuracy: 0.6360\n",
      "Epoch 7/10\n",
      "562/562 [==============================] - 21s 37ms/step - loss: 0.9366 - accuracy: 0.6282 - val_loss: 0.8942 - val_accuracy: 0.6499\n",
      "Epoch 8/10\n",
      "562/562 [==============================] - 21s 37ms/step - loss: 0.8853 - accuracy: 0.6480 - val_loss: 0.8332 - val_accuracy: 0.6799\n",
      "Epoch 9/10\n",
      "562/562 [==============================] - 21s 37ms/step - loss: 0.8607 - accuracy: 0.6618 - val_loss: 0.8162 - val_accuracy: 0.6928\n",
      "Epoch 10/10\n",
      "562/562 [==============================] - 20s 36ms/step - loss: 0.8229 - accuracy: 0.6777 - val_loss: 0.7850 - val_accuracy: 0.6961\n"
     ]
    },
    {
     "data": {
      "text/plain": [
       "<keras.callbacks.History at 0x13579eabee0>"
      ]
     },
     "execution_count": 80,
     "metadata": {},
     "output_type": "execute_result"
    }
   ],
   "source": [
    "inputs = tf.keras.layers.Input(shape=(1,), dtype=tf.string, name='input_layer')\n",
    "vectorize = char_vectorizer(inputs)\n",
    "embed = char_embed(vectorize)\n",
    "x = tf.keras.layers.Bidirectional(LSTM(128))(embed)\n",
    "outputs = tf.keras.layers.Dense(len_cat, activation='softmax', name='output_layer')(x)\n",
    "\n",
    "model_10 = tf.keras.models.Model(inputs, outputs)\n",
    "\n",
    "model_10.compile(loss=tf.keras.losses.CategoricalCrossentropy(),\n",
    "                optimizer=tf.keras.optimizers.Adam(),\n",
    "                metrics=['accuracy'])\n",
    "\n",
    "model_10.fit(train_char_dataset,\n",
    "            steps_per_epoch=int(0.1 * len(train_char_dataset)),\n",
    "            epochs=10,\n",
    "            validation_data=val_char_dataset,\n",
    "            validation_steps=int(0.1 *len(val_char_dataset))\n",
    "           )"
   ]
  },
  {
   "cell_type": "code",
   "execution_count": 81,
   "id": "3f231be4",
   "metadata": {},
   "outputs": [
    {
     "name": "stdout",
     "output_type": "stream",
     "text": [
      "945/945 [==============================] - 12s 13ms/step - loss: 0.8043 - accuracy: 0.6889\n"
     ]
    },
    {
     "data": {
      "text/plain": [
       "[0.8043478727340698, 0.6889315247535706]"
      ]
     },
     "execution_count": 81,
     "metadata": {},
     "output_type": "execute_result"
    }
   ],
   "source": [
    "model_10.evaluate(val_char_dataset)"
   ]
  },
  {
   "cell_type": "code",
   "execution_count": 83,
   "id": "c4ed6c02",
   "metadata": {},
   "outputs": [],
   "source": [
    "model_10_pred_probs = model_10.predict(val_char_dataset )"
   ]
  },
  {
   "cell_type": "code",
   "execution_count": 84,
   "id": "c958d056",
   "metadata": {},
   "outputs": [
    {
     "data": {
      "text/plain": [
       "<tf.Tensor: shape=(30212,), dtype=int64, numpy=array([0, 0, 0, ..., 4, 4, 1], dtype=int64)>"
      ]
     },
     "execution_count": 84,
     "metadata": {},
     "output_type": "execute_result"
    }
   ],
   "source": [
    "model_10_preds = tf.argmax(model_10_pred_probs, axis=1)\n",
    "model_10_preds"
   ]
  },
  {
   "cell_type": "code",
   "execution_count": 87,
   "id": "c5ecb978",
   "metadata": {},
   "outputs": [
    {
     "data": {
      "text/plain": [
       "{'accuracy': 0.6889315503773336,\n",
       " 'precision': 0.6893057135355648,\n",
       " 'recall': 0.6889315503773336,\n",
       " 'f1-score': 0.6809442848090302}"
      ]
     },
     "execution_count": 87,
     "metadata": {},
     "output_type": "execute_result"
    }
   ],
   "source": [
    "model_10_results = evaluate_model_results(model_10_preds, val_labels_encoded)\n",
    "model_10_results"
   ]
  },
  {
   "cell_type": "markdown",
   "id": "1a581310",
   "metadata": {},
   "source": [
    "### Model 11 - GRU Model"
   ]
  },
  {
   "cell_type": "code",
   "execution_count": 88,
   "id": "452a7628",
   "metadata": {},
   "outputs": [
    {
     "name": "stdout",
     "output_type": "stream",
     "text": [
      "Epoch 1/5\n",
      "562/562 [==============================] - 9s 13ms/step - loss: 1.4801 - accuracy: 0.3248 - val_loss: 1.4739 - val_accuracy: 0.3291\n",
      "Epoch 2/5\n",
      "562/562 [==============================] - 7s 12ms/step - loss: 1.4691 - accuracy: 0.3321 - val_loss: 1.4724 - val_accuracy: 0.3298\n",
      "Epoch 3/5\n",
      "562/562 [==============================] - 7s 12ms/step - loss: 1.4712 - accuracy: 0.3315 - val_loss: 1.4740 - val_accuracy: 0.3225\n",
      "Epoch 4/5\n",
      "562/562 [==============================] - 7s 12ms/step - loss: 1.4648 - accuracy: 0.3309 - val_loss: 1.4747 - val_accuracy: 0.3295\n",
      "Epoch 5/5\n",
      "562/562 [==============================] - 7s 12ms/step - loss: 1.4679 - accuracy: 0.3308 - val_loss: 1.4744 - val_accuracy: 0.3298\n"
     ]
    },
    {
     "data": {
      "text/plain": [
       "<keras.callbacks.History at 0x1357f1144c0>"
      ]
     },
     "execution_count": 88,
     "metadata": {},
     "output_type": "execute_result"
    }
   ],
   "source": [
    "inputs = tf.keras.layers.Input(shape=(1,), dtype=tf.string, name='input_layer')\n",
    "vectorize = char_vectorizer(inputs)\n",
    "embed = char_embed(vectorize)\n",
    "x = tf.keras.layers.GRU(64)(embed)\n",
    "#x = tf.keras.layers.Dense(64)(x)\n",
    "outputs = tf.keras.layers.Dense(len_cat, activation='softmax', name='output_layer')(x)\n",
    "\n",
    "model_11 = tf.keras.models.Model(inputs, outputs)\n",
    "\n",
    "model_11.compile(loss=tf.keras.losses.CategoricalCrossentropy(),\n",
    "                optimizer=tf.keras.optimizers.Adam(),\n",
    "                metrics=['accuracy'])\n",
    "\n",
    "model_11.fit(train_char_dataset,\n",
    "            steps_per_epoch=int(0.1 * len(train_char_dataset)),\n",
    "            epochs=5,\n",
    "            validation_data=val_char_dataset,\n",
    "            validation_steps=int(0.1 *len(val_char_dataset))\n",
    "           )"
   ]
  },
  {
   "cell_type": "code",
   "execution_count": 89,
   "id": "bd4fa5b1",
   "metadata": {},
   "outputs": [],
   "source": [
    "inputs = tf.keras.layers.Input(shape=(1,), dtype=\"string\")\n",
    "vectorize = char_vectorizer(inputs)\n",
    "embed = char_embed(vectorize)\n",
    "x = tf.keras.layers.Conv1D(64, kernel_size=5, padding=\"same\", activation=\"relu\")(embed)\n",
    "x = tf.keras.layers.GlobalMaxPool1D()(x)\n",
    "outputs = tf.keras.layers.Dense(len_cat, activation=\"softmax\")(x)\n",
    "\n",
    "model_11 = tf.keras.Model(inputs=inputs,\n",
    "                         outputs=outputs,\n",
    "                         name=\"model_3_conv1D_char_embedding\")\n",
    "\n",
    "model_11.compile(loss=tf.keras.losses.CategoricalCrossentropy(),\n",
    "                optimizer=tf.keras.optimizers.Adam(),\n",
    "                metrics=['accuracy'])"
   ]
  },
  {
   "cell_type": "code",
   "execution_count": 90,
   "id": "de056d89",
   "metadata": {},
   "outputs": [
    {
     "name": "stdout",
     "output_type": "stream",
     "text": [
      "Epoch 1/5\n",
      "562/562 [==============================] - 3s 5ms/step - loss: 1.1935 - accuracy: 0.5130 - val_loss: 1.0622 - val_accuracy: 0.5725\n",
      "Epoch 2/5\n",
      "562/562 [==============================] - 3s 6ms/step - loss: 1.0543 - accuracy: 0.5765 - val_loss: 0.9818 - val_accuracy: 0.6167\n",
      "Epoch 3/5\n",
      "562/562 [==============================] - 3s 6ms/step - loss: 0.9910 - accuracy: 0.6093 - val_loss: 0.9492 - val_accuracy: 0.6370\n",
      "Epoch 4/5\n",
      "562/562 [==============================] - 3s 6ms/step - loss: 0.9393 - accuracy: 0.6274 - val_loss: 0.9059 - val_accuracy: 0.6403\n",
      "Epoch 5/5\n",
      "562/562 [==============================] - 3s 5ms/step - loss: 0.9222 - accuracy: 0.6368 - val_loss: 0.8742 - val_accuracy: 0.6725\n"
     ]
    },
    {
     "data": {
      "text/plain": [
       "<keras.callbacks.History at 0x1357f22a370>"
      ]
     },
     "execution_count": 90,
     "metadata": {},
     "output_type": "execute_result"
    }
   ],
   "source": [
    "model_11.fit(train_char_dataset,\n",
    "            steps_per_epoch=int(0.1 * len(train_char_dataset)),\n",
    "            epochs=5,\n",
    "            validation_data=val_char_dataset,\n",
    "            validation_steps=int(0.1 *len(val_char_dataset))\n",
    "           )"
   ]
  },
  {
   "cell_type": "code",
   "execution_count": 91,
   "id": "0b0a7051",
   "metadata": {},
   "outputs": [
    {
     "name": "stdout",
     "output_type": "stream",
     "text": [
      "945/945 [==============================] - 3s 4ms/step - loss: 0.8972 - accuracy: 0.6528\n"
     ]
    },
    {
     "data": {
      "text/plain": [
       "[0.89720618724823, 0.6527869701385498]"
      ]
     },
     "execution_count": 91,
     "metadata": {},
     "output_type": "execute_result"
    }
   ],
   "source": [
    "model_11.evaluate(val_char_dataset)"
   ]
  },
  {
   "cell_type": "code",
   "execution_count": 94,
   "id": "46d39875",
   "metadata": {},
   "outputs": [],
   "source": [
    "model_11_preds = model_11.predict(val_char_dataset)\n",
    "model_11_preds = tf.argmax(model_11_preds, axis=1)"
   ]
  },
  {
   "cell_type": "code",
   "execution_count": 95,
   "id": "a65c4eb1",
   "metadata": {
    "scrolled": true
   },
   "outputs": [
    {
     "data": {
      "text/plain": [
       "{'accuracy': 0.6527869720640805,\n",
       " 'precision': 0.6617196957454312,\n",
       " 'recall': 0.6527869720640805,\n",
       " 'f1-score': 0.6528314782832495}"
      ]
     },
     "execution_count": 95,
     "metadata": {},
     "output_type": "execute_result"
    }
   ],
   "source": [
    "model_11_results = evaluate_model_results(model_11_preds, val_labels_encoded)\n",
    "model_11_results"
   ]
  },
  {
   "cell_type": "markdown",
   "id": "b6f0380a",
   "metadata": {},
   "source": [
    "### Model 12 - 1D Conv. Neural Network"
   ]
  },
  {
   "cell_type": "code",
   "execution_count": 126,
   "id": "862235a1",
   "metadata": {},
   "outputs": [],
   "source": [
    "inputs = tf.keras.layers.Input(shape=(1,), dtype=tf.string, name='input_layer')\n",
    "vectorize = char_vectorizer(inputs)\n",
    "embed = char_embed(vectorize)\n",
    "x = tf.keras.layers.Conv1D(32, 5, activation='relu', strides=1, padding='valid')(embed)\n",
    "#x = tf.keras.layers.Conv1D(32, 5, activation='relu')(x)\n",
    "x = tf.keras.layers.GlobalMaxPool1D()(x)\n",
    "outputs = tf.keras.layers.Dense(len_cat, activation='softmax')(x)\n",
    "\n",
    "model_12 = tf.keras.models.Model(inputs, outputs)\n",
    "\n",
    "model_12.compile(loss=tf.keras.losses.CategoricalCrossentropy(),\n",
    "                optimizer=tf.keras.optimizers.Adam(),\n",
    "                metrics=['accuracy'])\n"
   ]
  },
  {
   "cell_type": "code",
   "execution_count": 127,
   "id": "8005cd89",
   "metadata": {
    "scrolled": true
   },
   "outputs": [
    {
     "name": "stdout",
     "output_type": "stream",
     "text": [
      "Epoch 1/5\n",
      "562/562 [==============================] - 4s 6ms/step - loss: 1.2398 - accuracy: 0.5042 - val_loss: 1.5491 - val_accuracy: 0.3049\n",
      "Epoch 2/5\n",
      "562/562 [==============================] - 3s 6ms/step - loss: 1.0521 - accuracy: 0.5816 - val_loss: 1.5905 - val_accuracy: 0.3138\n",
      "Epoch 3/5\n",
      "562/562 [==============================] - 3s 6ms/step - loss: 0.9856 - accuracy: 0.6160 - val_loss: 1.6152 - val_accuracy: 0.3168\n",
      "Epoch 4/5\n",
      "562/562 [==============================] - 3s 6ms/step - loss: 0.9358 - accuracy: 0.6368 - val_loss: 1.6236 - val_accuracy: 0.3152\n",
      "Epoch 5/5\n",
      "562/562 [==============================] - 3s 6ms/step - loss: 0.9228 - accuracy: 0.6394 - val_loss: 1.6085 - val_accuracy: 0.2394\n"
     ]
    },
    {
     "data": {
      "text/plain": [
       "<keras.callbacks.History at 0x13590293160>"
      ]
     },
     "execution_count": 127,
     "metadata": {},
     "output_type": "execute_result"
    }
   ],
   "source": [
    "model_12.fit(train_char_dataset,\n",
    "            steps_per_epoch=int(0.1 * len(train_dataset)),\n",
    "            epochs=5,\n",
    "            validation_data=(valid_dataset),\n",
    "            validation_steps=int(0.1 * len(valid_dataset))\n",
    "           )"
   ]
  },
  {
   "cell_type": "markdown",
   "id": "e7f35efa",
   "metadata": {},
   "source": [
    "### Comparing Model Results"
   ]
  },
  {
   "cell_type": "code",
   "execution_count": 125,
   "id": "d2e51045",
   "metadata": {},
   "outputs": [
    {
     "data": {
      "text/html": [
       "<div>\n",
       "<style scoped>\n",
       "    .dataframe tbody tr th:only-of-type {\n",
       "        vertical-align: middle;\n",
       "    }\n",
       "\n",
       "    .dataframe tbody tr th {\n",
       "        vertical-align: top;\n",
       "    }\n",
       "\n",
       "    .dataframe thead th {\n",
       "        text-align: right;\n",
       "    }\n",
       "</style>\n",
       "<table border=\"1\" class=\"dataframe\">\n",
       "  <thead>\n",
       "    <tr style=\"text-align: right;\">\n",
       "      <th></th>\n",
       "      <th>accuracy</th>\n",
       "      <th>precision</th>\n",
       "      <th>recall</th>\n",
       "      <th>f1-score</th>\n",
       "    </tr>\n",
       "  </thead>\n",
       "  <tbody>\n",
       "    <tr>\n",
       "      <th>8_baseline</th>\n",
       "      <td>0.333510</td>\n",
       "      <td>0.319661</td>\n",
       "      <td>0.333510</td>\n",
       "      <td>0.185107</td>\n",
       "    </tr>\n",
       "    <tr>\n",
       "      <th>9_dense_layer</th>\n",
       "      <td>0.328545</td>\n",
       "      <td>0.304207</td>\n",
       "      <td>0.328545</td>\n",
       "      <td>0.172301</td>\n",
       "    </tr>\n",
       "    <tr>\n",
       "      <th>10_LSTM</th>\n",
       "      <td>0.688932</td>\n",
       "      <td>0.689306</td>\n",
       "      <td>0.688932</td>\n",
       "      <td>0.680944</td>\n",
       "    </tr>\n",
       "    <tr>\n",
       "      <th>11_GRU</th>\n",
       "      <td>0.652787</td>\n",
       "      <td>0.661720</td>\n",
       "      <td>0.652787</td>\n",
       "      <td>0.652831</td>\n",
       "    </tr>\n",
       "    <tr>\n",
       "      <th>12_bidirectional</th>\n",
       "      <td>0.652787</td>\n",
       "      <td>0.661720</td>\n",
       "      <td>0.652787</td>\n",
       "      <td>0.652831</td>\n",
       "    </tr>\n",
       "  </tbody>\n",
       "</table>\n",
       "</div>"
      ],
      "text/plain": [
       "                  accuracy  precision    recall  f1-score\n",
       "8_baseline        0.333510   0.319661  0.333510  0.185107\n",
       "9_dense_layer     0.328545   0.304207  0.328545  0.172301\n",
       "10_LSTM           0.688932   0.689306  0.688932  0.680944\n",
       "11_GRU            0.652787   0.661720  0.652787  0.652831\n",
       "12_bidirectional  0.652787   0.661720  0.652787  0.652831"
      ]
     },
     "execution_count": 125,
     "metadata": {},
     "output_type": "execute_result"
    }
   ],
   "source": [
    "all_model_results = pd.DataFrame({\n",
    "    '8_baseline' : model_8_results,\n",
    "    '9_dense_layer' : model_9_results,\n",
    "    '10_LSTM' : model_10_results,\n",
    "    '11_GRU' : model_11_results,\n",
    "    '12_bidirectional' : model_11_results,\n",
    "})\n",
    "all_model_results.T"
   ]
  },
  {
   "cell_type": "markdown",
   "id": "6793a727",
   "metadata": {},
   "source": [
    "## Building a Combination of Text and Character"
   ]
  },
  {
   "cell_type": "markdown",
   "id": "b1e5959d",
   "metadata": {},
   "source": [
    "### Hybrid Model"
   ]
  },
  {
   "cell_type": "code",
   "execution_count": 179,
   "id": "442cbdc2",
   "metadata": {},
   "outputs": [],
   "source": [
    "### Building a Text model with the best resulting model\n",
    "# Bidirectional LSTM\n",
    "token_inputs = tf.keras.layers.Input(shape=(1,), dtype=tf.string, name='token_input')\n",
    "token_vectorizer = text_vectorizer(token_inputs)\n",
    "token_embedding = embedding(token_vectorizer)\n",
    "token_bi_lstm = tf.keras.layers.Bidirectional(LSTM(64))(token_embedding)\n",
    "token_outputs = tf.keras.layers.Dense(128, activation='softmax', name='output_layer')(token_bi_lstm)\n",
    "token_model = tf.keras.Model(token_inputs, token_outputs)"
   ]
  },
  {
   "cell_type": "code",
   "execution_count": 180,
   "id": "8e22fb34",
   "metadata": {},
   "outputs": [],
   "source": [
    "### Building a Char model with the best resulting model\n",
    "char_inputs = tf.keras.layers.Input(shape=(1,), dtype=tf.string, name='char_input')\n",
    "char_vectorize = char_vectorizer(char_inputs)\n",
    "char_embeddings = char_embed(char_vectorize)\n",
    "char_lstm = tf.keras.layers.LSTM(64)(char_embeddings)\n",
    "char_model = tf.keras.Model(inputs=char_inputs,\n",
    "                            outputs=char_lstm)"
   ]
  },
  {
   "cell_type": "code",
   "execution_count": 181,
   "id": "83faaaea",
   "metadata": {},
   "outputs": [],
   "source": [
    "### Concatenate the layers\n",
    "\n",
    "token_char_concat = tf.keras.layers.Concatenate(name=\"token_char_hybrid\")([token_model.output, \n",
    "                                                                  char_model.output])"
   ]
  },
  {
   "cell_type": "code",
   "execution_count": 182,
   "id": "f344b643",
   "metadata": {},
   "outputs": [],
   "source": [
    "### Creating the output layer\n",
    "combined_dropout = tf.keras.layers.Dropout(0.5)(token_char_concat)\n",
    "combined_dense = tf.keras.layers.Dense(100, activation='relu')(combined_dropout)\n",
    "final_dropout = tf.keras.layers.Dropout(0.5)(combined_dense)\n",
    "output_layer = tf.keras.layers.Dense(len_cat, activation='softmax')(final_dropout)"
   ]
  },
  {
   "cell_type": "code",
   "execution_count": 183,
   "id": "e91e5c8a",
   "metadata": {},
   "outputs": [],
   "source": [
    "### Constructing the model\n",
    "model_hybrid = tf.keras.Model(inputs=[token_model.input, char_model.input],\n",
    "                              outputs=output_layer,\n",
    "                              name='hybrid_layer')"
   ]
  },
  {
   "cell_type": "code",
   "execution_count": 174,
   "id": "5b1e36a3",
   "metadata": {},
   "outputs": [],
   "source": [
    "#model_hybrid.summary()"
   ]
  },
  {
   "cell_type": "code",
   "execution_count": 175,
   "id": "86c9ae94",
   "metadata": {},
   "outputs": [],
   "source": [
    "train_char_token_data = tf.data.Dataset.from_tensor_slices((train_sentences, train_sentence_char))\n",
    "train_char_token_labels = tf.data.Dataset.from_tensor_slices(train_labels_one_hot)\n",
    "train_char_token_dataset = tf.data.Dataset.zip((train_char_token_data, train_char_token_labels))\n",
    "\n",
    "train_char_token_dataset = train_char_token_dataset.batch(32).prefetch(tf.data.AUTOTUNE)\n",
    "\n",
    "val_char_token_data = tf.data.Dataset.from_tensor_slices((val_sentences, val_sentence_char))\n",
    "val_char_token_labels = tf.data.Dataset.from_tensor_slices(val_labels_one_hot)\n",
    "val_char_token_dataset = tf.data.Dataset.zip((val_char_token_data, val_char_token_labels))\n",
    "\n",
    "val_char_token_dataset = val_char_token_dataset.batch(32).prefetch(tf.data.AUTOTUNE)"
   ]
  },
  {
   "cell_type": "code",
   "execution_count": 176,
   "id": "709df99e",
   "metadata": {},
   "outputs": [
    {
     "data": {
      "text/plain": [
       "(<PrefetchDataset shapes: (((None,), (None,)), (None, 5)), types: ((tf.string, tf.string), tf.float64)>,\n",
       " <PrefetchDataset shapes: (((None,), (None,)), (None, 5)), types: ((tf.string, tf.string), tf.float64)>)"
      ]
     },
     "execution_count": 176,
     "metadata": {},
     "output_type": "execute_result"
    }
   ],
   "source": [
    "train_char_token_dataset, val_char_token_dataset"
   ]
  },
  {
   "cell_type": "code",
   "execution_count": 184,
   "id": "af5fafbc",
   "metadata": {},
   "outputs": [],
   "source": [
    "model_hybrid.compile(loss=tf.keras.losses.CategoricalCrossentropy(),\n",
    "                     optimizer=tf.keras.optimizers.Adam(),\n",
    "                     metrics=[\"accuracy\"]\n",
    "                    )"
   ]
  },
  {
   "cell_type": "code",
   "execution_count": 185,
   "id": "a880b820",
   "metadata": {},
   "outputs": [
    {
     "name": "stdout",
     "output_type": "stream",
     "text": [
      "Epoch 1/10\n",
      "562/562 [==============================] - 18s 25ms/step - loss: 0.9604 - accuracy: 0.6148 - val_loss: 0.7729 - val_accuracy: 0.6905\n",
      "Epoch 2/10\n",
      "562/562 [==============================] - 13s 24ms/step - loss: 0.5895 - accuracy: 0.7877 - val_loss: 0.6474 - val_accuracy: 0.7580\n",
      "Epoch 3/10\n",
      "562/562 [==============================] - 13s 24ms/step - loss: 0.4519 - accuracy: 0.8358 - val_loss: 0.6928 - val_accuracy: 0.7630\n",
      "Epoch 4/10\n",
      "562/562 [==============================] - 13s 24ms/step - loss: 0.4356 - accuracy: 0.8520 - val_loss: 0.6416 - val_accuracy: 0.7892\n",
      "Epoch 5/10\n",
      "562/562 [==============================] - 13s 24ms/step - loss: 0.4287 - accuracy: 0.8628 - val_loss: 0.6244 - val_accuracy: 0.7856\n",
      "Epoch 6/10\n",
      "562/562 [==============================] - 13s 24ms/step - loss: 0.6293 - accuracy: 0.7827 - val_loss: 0.5207 - val_accuracy: 0.8072\n",
      "Epoch 7/10\n",
      "562/562 [==============================] - 13s 24ms/step - loss: 0.5781 - accuracy: 0.8001 - val_loss: 0.5064 - val_accuracy: 0.8175\n",
      "Epoch 8/10\n",
      "562/562 [==============================] - 13s 24ms/step - loss: 0.5446 - accuracy: 0.8122 - val_loss: 0.4888 - val_accuracy: 0.8211\n",
      "Epoch 9/10\n",
      "562/562 [==============================] - 13s 24ms/step - loss: 0.5415 - accuracy: 0.8112 - val_loss: 0.4965 - val_accuracy: 0.8215\n",
      "Epoch 10/10\n",
      "562/562 [==============================] - 14s 24ms/step - loss: 0.5366 - accuracy: 0.8102 - val_loss: 0.4811 - val_accuracy: 0.8238\n"
     ]
    }
   ],
   "source": [
    "model_hybrid_history = model_hybrid.fit(train_char_token_dataset, # train on dataset of token and characters\n",
    "                              steps_per_epoch=int(0.1 * len(train_char_token_dataset)),\n",
    "                              epochs=10,\n",
    "                              validation_data=val_char_token_dataset,\n",
    "                              validation_steps=int(0.1 * len(val_char_token_dataset)))"
   ]
  },
  {
   "cell_type": "code",
   "execution_count": 186,
   "id": "c365c7ed",
   "metadata": {},
   "outputs": [
    {
     "name": "stdout",
     "output_type": "stream",
     "text": [
      "945/945 [==============================] - 8s 9ms/step - loss: 0.4816 - accuracy: 0.8237\n"
     ]
    },
    {
     "data": {
      "text/plain": [
       "[0.4815712571144104, 0.8237124085426331]"
      ]
     },
     "execution_count": 186,
     "metadata": {},
     "output_type": "execute_result"
    }
   ],
   "source": [
    "model_hybrid.evaluate(val_char_token_dataset)"
   ]
  },
  {
   "cell_type": "code",
   "execution_count": 187,
   "id": "1900911b",
   "metadata": {},
   "outputs": [
    {
     "data": {
      "text/plain": [
       "array([[5.81847668e-01, 1.51477873e-01, 2.95490623e-02, 2.14645311e-01,\n",
       "        2.24801153e-02],\n",
       "       [5.81245780e-01, 2.73579985e-01, 1.37923686e-02, 1.20080926e-01,\n",
       "        1.13009317e-02],\n",
       "       [3.37274432e-01, 9.81090218e-03, 1.40634635e-02, 6.36398315e-01,\n",
       "        2.45282962e-03],\n",
       "       ...,\n",
       "       [2.83326190e-05, 2.01096991e-03, 3.33760912e-03, 1.21855219e-05,\n",
       "        9.94610906e-01],\n",
       "       [1.76836811e-02, 5.32149732e-01, 8.77594948e-03, 6.54548453e-03,\n",
       "        4.34845179e-01],\n",
       "       [1.96730755e-02, 9.53608632e-01, 1.17188913e-03, 4.19981871e-03,\n",
       "        2.13466696e-02]], dtype=float32)"
      ]
     },
     "execution_count": 187,
     "metadata": {},
     "output_type": "execute_result"
    }
   ],
   "source": [
    "\n",
    "model_hybrid_pred_probs = model_hybrid.predict(val_char_token_dataset)\n",
    "model_hybrid_pred_probs"
   ]
  },
  {
   "cell_type": "code",
   "execution_count": 188,
   "id": "2bada640",
   "metadata": {},
   "outputs": [
    {
     "data": {
      "text/plain": [
       "<tf.Tensor: shape=(30212,), dtype=int64, numpy=array([0, 0, 3, ..., 4, 1, 1], dtype=int64)>"
      ]
     },
     "execution_count": 188,
     "metadata": {},
     "output_type": "execute_result"
    }
   ],
   "source": [
    "model_hybrid_preds = tf.argmax(model_hybrid_pred_probs, axis=1)\n",
    "model_hybrid_preds"
   ]
  },
  {
   "cell_type": "code",
   "execution_count": 189,
   "id": "f7f8d9ee",
   "metadata": {},
   "outputs": [
    {
     "data": {
      "text/plain": [
       "{'accuracy': 0.8237124321461671,\n",
       " 'precision': 0.8249175906435839,\n",
       " 'recall': 0.8237124321461671,\n",
       " 'f1-score': 0.8213170069534478}"
      ]
     },
     "execution_count": 189,
     "metadata": {},
     "output_type": "execute_result"
    }
   ],
   "source": [
    "model_hybrid_results = evaluate_model_results(y_true=val_labels_encoded,\n",
    "                                    y_preds=model_hybrid_preds)\n",
    "model_hybrid_results"
   ]
  },
  {
   "cell_type": "code",
   "execution_count": 191,
   "id": "3156247f",
   "metadata": {},
   "outputs": [
    {
     "name": "stderr",
     "output_type": "stream",
     "text": [
      "WARNING:absl:Found untraced functions such as lstm_cell_31_layer_call_fn, lstm_cell_31_layer_call_and_return_conditional_losses, lstm_cell_29_layer_call_fn, lstm_cell_29_layer_call_and_return_conditional_losses, lstm_cell_30_layer_call_fn while saving (showing 5 of 15). These functions will not be directly callable after loading.\n"
     ]
    },
    {
     "name": "stdout",
     "output_type": "stream",
     "text": [
      "INFO:tensorflow:Assets written to: ./NLP-NLU-Files/hybrid_model_best_performance\\assets\n"
     ]
    },
    {
     "name": "stderr",
     "output_type": "stream",
     "text": [
      "INFO:tensorflow:Assets written to: ./NLP-NLU-Files/hybrid_model_best_performance\\assets\n",
      "WARNING:absl:<keras.layers.recurrent.LSTMCell object at 0x00000135DB96BE20> has the same name 'LSTMCell' as a built-in Keras object. Consider renaming <class 'keras.layers.recurrent.LSTMCell'> to avoid naming conflicts when loading with `tf.keras.models.load_model`. If renaming is not possible, pass the object in the `custom_objects` parameter of the load function.\n",
      "WARNING:absl:<keras.layers.recurrent.LSTMCell object at 0x00000135DC967820> has the same name 'LSTMCell' as a built-in Keras object. Consider renaming <class 'keras.layers.recurrent.LSTMCell'> to avoid naming conflicts when loading with `tf.keras.models.load_model`. If renaming is not possible, pass the object in the `custom_objects` parameter of the load function.\n",
      "WARNING:absl:<keras.layers.recurrent.LSTMCell object at 0x00000135DC967400> has the same name 'LSTMCell' as a built-in Keras object. Consider renaming <class 'keras.layers.recurrent.LSTMCell'> to avoid naming conflicts when loading with `tf.keras.models.load_model`. If renaming is not possible, pass the object in the `custom_objects` parameter of the load function.\n"
     ]
    }
   ],
   "source": [
    "model_hybrid.save('./NLP-NLU-Files/hybrid_model_best_performance')"
   ]
  },
  {
   "cell_type": "code",
   "execution_count": 193,
   "id": "96ce38e4",
   "metadata": {},
   "outputs": [],
   "source": [
    "loaded_model_hybrid = tf.keras.models.load_model('./NLP-NLU-Files/hybrid_model_best_performance')"
   ]
  },
  {
   "cell_type": "code",
   "execution_count": 194,
   "id": "a7b36b95",
   "metadata": {},
   "outputs": [
    {
     "name": "stdout",
     "output_type": "stream",
     "text": [
      "945/945 [==============================] - 220s 232ms/step - loss: 0.5034 - accuracy: 0.8198\n"
     ]
    },
    {
     "data": {
      "text/plain": [
       "[0.5033844709396362, 0.8197736144065857]"
      ]
     },
     "execution_count": 194,
     "metadata": {},
     "output_type": "execute_result"
    }
   ],
   "source": [
    "loaded_model_hybrid.evaluate(val_char_token_dataset)"
   ]
  },
  {
   "cell_type": "markdown",
   "id": "cedd7dbd",
   "metadata": {},
   "source": [
    "### Hybrid Model Fine-Tuning SQUEEZING MORE"
   ]
  },
  {
   "cell_type": "code",
   "execution_count": 195,
   "id": "684b75db",
   "metadata": {},
   "outputs": [],
   "source": [
    "earlystopping_callback = create_early_stopping_callback(\n",
    "    metric='val_accuracy',\n",
    "    patience=3\n",
    ")\n",
    "\n",
    "checkpoint_callback = create_checkpoint_callback(\n",
    "    checkpoint_path=checkpoint_path,\n",
    "    metric='val_loss',\n",
    "    save_best=True,\n",
    "    save_weights=True,\n",
    ")\n",
    "\n",
    "lr_callback = create_reduce_lr_callback(\n",
    "    metric=\"val_loss\",\n",
    "    factor=0.1,\n",
    "    patience=2,\n",
    "    verbose=1,\n",
    "    min_lr=1e-7\n",
    ")"
   ]
  },
  {
   "cell_type": "code",
   "execution_count": 213,
   "id": "2fc08df1",
   "metadata": {},
   "outputs": [],
   "source": [
    "model_hybrid.compile(loss=tf.keras.losses.CategoricalCrossentropy(),\n",
    "                     optimizer=tf.keras.optimizers.Adam(0.0001),\n",
    "                     metrics=[\"accuracy\"]\n",
    "                    )"
   ]
  },
  {
   "cell_type": "code",
   "execution_count": 214,
   "id": "6b8140f1",
   "metadata": {},
   "outputs": [
    {
     "name": "stdout",
     "output_type": "stream",
     "text": [
      "Epoch 1/100\n",
      "1404/1406 [============================>.] - ETA: 0s - loss: 0.3514 - accuracy: 0.8846\n",
      "Epoch 00001: val_loss improved from inf to 0.51396, saving model to ./NLP-NLU-Files/checkpoints\\\n",
      "1406/1406 [==============================] - 40s 26ms/step - loss: 0.3516 - accuracy: 0.8846 - val_loss: 0.5140 - val_accuracy: 0.8238 - lr: 1.0000e-04\n",
      "Epoch 2/100\n",
      "1404/1406 [============================>.] - ETA: 0s - loss: 0.2994 - accuracy: 0.9077\n",
      "Epoch 00002: val_loss did not improve from 0.51396\n",
      "1406/1406 [==============================] - 33s 24ms/step - loss: 0.2995 - accuracy: 0.9077 - val_loss: 0.5316 - val_accuracy: 0.8190 - lr: 1.0000e-04\n",
      "Epoch 3/100\n",
      "1404/1406 [============================>.] - ETA: 0s - loss: 0.4538 - accuracy: 0.8464\n",
      "Epoch 00003: val_loss improved from 0.51396 to 0.48114, saving model to ./NLP-NLU-Files/checkpoints\\\n",
      "1406/1406 [==============================] - 35s 25ms/step - loss: 0.4536 - accuracy: 0.8464 - val_loss: 0.4811 - val_accuracy: 0.8236 - lr: 1.0000e-04\n",
      "Epoch 4/100\n",
      "1404/1406 [============================>.] - ETA: 0s - loss: 0.4286 - accuracy: 0.8521\n",
      "Epoch 00004: val_loss improved from 0.48114 to 0.48018, saving model to ./NLP-NLU-Files/checkpoints\\\n",
      "1406/1406 [==============================] - 35s 25ms/step - loss: 0.4287 - accuracy: 0.8521 - val_loss: 0.4802 - val_accuracy: 0.8265 - lr: 1.0000e-04\n",
      "Epoch 5/100\n",
      "   3/1406 [..............................] - ETA: 1:01 - loss: 0.6018 - accuracy: 0.8333WARNING:tensorflow:Your input ran out of data; interrupting training. Make sure that your dataset or generator can generate at least `steps_per_epoch * epochs` batches (in this case, 140600 batches). You may need to use the repeat() function when building your dataset.\n"
     ]
    },
    {
     "name": "stderr",
     "output_type": "stream",
     "text": [
      "WARNING:tensorflow:Your input ran out of data; interrupting training. Make sure that your dataset or generator can generate at least `steps_per_epoch * epochs` batches (in this case, 140600 batches). You may need to use the repeat() function when building your dataset.\n"
     ]
    },
    {
     "name": "stdout",
     "output_type": "stream",
     "text": [
      "\n",
      "Epoch 00005: val_loss improved from 0.48018 to 0.48002, saving model to ./NLP-NLU-Files/checkpoints\\\n",
      "1406/1406 [==============================] - 4s 3ms/step - loss: 0.6018 - accuracy: 0.8333 - val_loss: 0.4800 - val_accuracy: 0.8261 - lr: 1.0000e-04\n"
     ]
    }
   ],
   "source": [
    "model_hybrid_history_fine_tuned = model_hybrid.fit(\n",
    "    train_char_token_dataset, # train on dataset of token and characters\n",
    "    steps_per_epoch=int(0.25 * len(train_char_token_dataset)),\n",
    "    epochs=100,\n",
    "    validation_data=val_char_token_dataset,\n",
    "    validation_steps=int(0.25 * len(val_char_token_dataset)),\n",
    "    callbacks=[lr_callback, checkpoint_callback, earlystopping_callback]\n",
    ")"
   ]
  },
  {
   "cell_type": "code",
   "execution_count": null,
   "id": "fcc3c5fc",
   "metadata": {},
   "outputs": [],
   "source": [
    "hybrid_model.eva"
   ]
  },
  {
   "cell_type": "markdown",
   "id": "cf271f4a",
   "metadata": {},
   "source": [
    "## Questions\n",
    "\n",
    "* why softmax explain softmax\n",
    "* why do we do we use 95 percentile \n",
    "* why is text not strong to use\n",
    "* why did we generate a sliced dataset\n",
    "* why can't i set USE to trainable\n",
    "* why do we use alphabet\n",
    "* why lstm isnt working on character embedding\n",
    "* why do we not have len_cat on hybrid layer fort token\n",
    "* why do we build a diff dataset for both train sentence, and train chars\n",
    "* what does tensorslices do\n",
    "\n",
    "## TODO\n",
    "\n",
    "* credit mrdbourke\n",
    "* explain the project details on what we're doing/building\n",
    "* links\n",
    "* Set names of models\n",
    "* describe the models\n",
    "* print out the results for each model\n",
    "* learn about dropout layers\n",
    "* read what he did in his model 4\n",
    "* after diving in read through the whole documentation\n",
    "\n",
    "## Challenge\n",
    "\n",
    "* Visualize them from embedding to model results"
   ]
  },
  {
   "cell_type": "code",
   "execution_count": null,
   "id": "3fe29114",
   "metadata": {},
   "outputs": [],
   "source": []
  }
 ],
 "metadata": {
  "kernelspec": {
   "display_name": "Python 3",
   "language": "python",
   "name": "python3"
  },
  "language_info": {
   "codemirror_mode": {
    "name": "ipython",
    "version": 3
   },
   "file_extension": ".py",
   "mimetype": "text/x-python",
   "name": "python",
   "nbconvert_exporter": "python",
   "pygments_lexer": "ipython3",
   "version": "3.8.8"
  },
  "toc": {
   "base_numbering": 1,
   "nav_menu": {},
   "number_sections": true,
   "sideBar": true,
   "skip_h1_title": false,
   "title_cell": "Table of Contents",
   "title_sidebar": "Contents",
   "toc_cell": false,
   "toc_position": {
    "height": "calc(100% - 180px)",
    "left": "10px",
    "top": "150px",
    "width": "165px"
   },
   "toc_section_display": true,
   "toc_window_display": true
  }
 },
 "nbformat": 4,
 "nbformat_minor": 5
}
