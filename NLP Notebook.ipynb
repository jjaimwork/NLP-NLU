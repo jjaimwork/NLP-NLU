{
 "cells": [
  {
   "cell_type": "code",
   "execution_count": 1,
   "id": "847ce6f4",
   "metadata": {},
   "outputs": [],
   "source": [
    "import tensorflow as tf\n",
    "import tensorflow_hub as hub\n",
    "import pandas as pd\n",
    "import numpy as np\n",
    "import random\n",
    "\n",
    "from sklearn.model_selection import train_test_split\n",
    "from sklearn.metrics import accuracy_score, precision_recall_fscore_support\n",
    "\n",
    "from helper_functions import create_tensorboard_callback\n"
   ]
  },
  {
   "cell_type": "code",
   "execution_count": 2,
   "id": "7f562ca9",
   "metadata": {
    "scrolled": true
   },
   "outputs": [
    {
     "data": {
      "text/plain": [
       "'2.7.0'"
      ]
     },
     "execution_count": 2,
     "metadata": {},
     "output_type": "execute_result"
    }
   ],
   "source": [
    "tf.__version__"
   ]
  },
  {
   "cell_type": "code",
   "execution_count": 3,
   "id": "5115a20d",
   "metadata": {},
   "outputs": [
    {
     "data": {
      "text/plain": [
       "[PhysicalDevice(name='/physical_device:GPU:0', device_type='GPU')]"
      ]
     },
     "execution_count": 3,
     "metadata": {},
     "output_type": "execute_result"
    }
   ],
   "source": [
    "tf.config.list_physical_devices('GPU')"
   ]
  },
  {
   "cell_type": "markdown",
   "id": "ea78276f",
   "metadata": {},
   "source": [
    "### What is Natural Language Processing (NLP) \n",
    "\n",
    "> Natural language processing, which evolved from computational linguistics, uses methods from various disciplines, such as computer science, artificial intelligence, linguistics, and data science, to enable computers to understand human language in both written and verbal forms. \n",
    "[IBM](https://www.ibm.com/blogs/watson/2020/11/nlp-vs-nlu-vs-nlg-the-differences-between-three-natural-language-processing-concepts/)\n",
    "\n",
    "The usage of computers to have them the ability to understand both written and verbal forms in this case, text.\n",
    "Types of NLP:\n",
    "* Speech Recognition\n",
    "* Machine Translation\n",
    "* Sentiment Analysis\n",
    "* Semantic Search\n"
   ]
  },
  {
   "cell_type": "markdown",
   "id": "954833d3",
   "metadata": {},
   "source": [
    "### What we're going to do?\n",
    "\n",
    "Going to try and predict whether a tweet resembles a disaster tweet or not using NLP with various models and experimentations which would help in our classification."
   ]
  },
  {
   "cell_type": "markdown",
   "id": "00540fa2",
   "metadata": {},
   "source": [
    "### Loading and Parsing through the Dataset"
   ]
  },
  {
   "cell_type": "markdown",
   "id": "e7994292",
   "metadata": {},
   "source": [
    "Dataset Taken from [Kaggle's Disaster Tweets](https://www.kaggle.com/c/nlp-getting-started)"
   ]
  },
  {
   "cell_type": "code",
   "execution_count": 4,
   "id": "4a8b3448",
   "metadata": {},
   "outputs": [],
   "source": [
    "test_df = pd.read_csv('./NLP-NLU-Files/Dataset/Disaster-Tweets/test.csv')\n",
    "train_df = pd.read_csv('./NLP-NLU-Files/Dataset/Disaster-Tweets/train.csv')"
   ]
  },
  {
   "cell_type": "markdown",
   "id": "969f7673",
   "metadata": {},
   "source": [
    "#### Visualizing Tweets"
   ]
  },
  {
   "cell_type": "code",
   "execution_count": 5,
   "id": "7c398d74",
   "metadata": {},
   "outputs": [
    {
     "data": {
      "text/html": [
       "<div>\n",
       "<style scoped>\n",
       "    .dataframe tbody tr th:only-of-type {\n",
       "        vertical-align: middle;\n",
       "    }\n",
       "\n",
       "    .dataframe tbody tr th {\n",
       "        vertical-align: top;\n",
       "    }\n",
       "\n",
       "    .dataframe thead th {\n",
       "        text-align: right;\n",
       "    }\n",
       "</style>\n",
       "<table border=\"1\" class=\"dataframe\">\n",
       "  <thead>\n",
       "    <tr style=\"text-align: right;\">\n",
       "      <th></th>\n",
       "      <th>id</th>\n",
       "      <th>keyword</th>\n",
       "      <th>location</th>\n",
       "      <th>text</th>\n",
       "      <th>target</th>\n",
       "    </tr>\n",
       "  </thead>\n",
       "  <tbody>\n",
       "    <tr>\n",
       "      <th>0</th>\n",
       "      <td>1</td>\n",
       "      <td>NaN</td>\n",
       "      <td>NaN</td>\n",
       "      <td>Our Deeds are the Reason of this #earthquake M...</td>\n",
       "      <td>1</td>\n",
       "    </tr>\n",
       "    <tr>\n",
       "      <th>1</th>\n",
       "      <td>4</td>\n",
       "      <td>NaN</td>\n",
       "      <td>NaN</td>\n",
       "      <td>Forest fire near La Ronge Sask. Canada</td>\n",
       "      <td>1</td>\n",
       "    </tr>\n",
       "    <tr>\n",
       "      <th>2</th>\n",
       "      <td>5</td>\n",
       "      <td>NaN</td>\n",
       "      <td>NaN</td>\n",
       "      <td>All residents asked to 'shelter in place' are ...</td>\n",
       "      <td>1</td>\n",
       "    </tr>\n",
       "    <tr>\n",
       "      <th>3</th>\n",
       "      <td>6</td>\n",
       "      <td>NaN</td>\n",
       "      <td>NaN</td>\n",
       "      <td>13,000 people receive #wildfires evacuation or...</td>\n",
       "      <td>1</td>\n",
       "    </tr>\n",
       "    <tr>\n",
       "      <th>4</th>\n",
       "      <td>7</td>\n",
       "      <td>NaN</td>\n",
       "      <td>NaN</td>\n",
       "      <td>Just got sent this photo from Ruby #Alaska as ...</td>\n",
       "      <td>1</td>\n",
       "    </tr>\n",
       "    <tr>\n",
       "      <th>...</th>\n",
       "      <td>...</td>\n",
       "      <td>...</td>\n",
       "      <td>...</td>\n",
       "      <td>...</td>\n",
       "      <td>...</td>\n",
       "    </tr>\n",
       "    <tr>\n",
       "      <th>7608</th>\n",
       "      <td>10869</td>\n",
       "      <td>NaN</td>\n",
       "      <td>NaN</td>\n",
       "      <td>Two giant cranes holding a bridge collapse int...</td>\n",
       "      <td>1</td>\n",
       "    </tr>\n",
       "    <tr>\n",
       "      <th>7609</th>\n",
       "      <td>10870</td>\n",
       "      <td>NaN</td>\n",
       "      <td>NaN</td>\n",
       "      <td>@aria_ahrary @TheTawniest The out of control w...</td>\n",
       "      <td>1</td>\n",
       "    </tr>\n",
       "    <tr>\n",
       "      <th>7610</th>\n",
       "      <td>10871</td>\n",
       "      <td>NaN</td>\n",
       "      <td>NaN</td>\n",
       "      <td>M1.94 [01:04 UTC]?5km S of Volcano Hawaii. htt...</td>\n",
       "      <td>1</td>\n",
       "    </tr>\n",
       "    <tr>\n",
       "      <th>7611</th>\n",
       "      <td>10872</td>\n",
       "      <td>NaN</td>\n",
       "      <td>NaN</td>\n",
       "      <td>Police investigating after an e-bike collided ...</td>\n",
       "      <td>1</td>\n",
       "    </tr>\n",
       "    <tr>\n",
       "      <th>7612</th>\n",
       "      <td>10873</td>\n",
       "      <td>NaN</td>\n",
       "      <td>NaN</td>\n",
       "      <td>The Latest: More Homes Razed by Northern Calif...</td>\n",
       "      <td>1</td>\n",
       "    </tr>\n",
       "  </tbody>\n",
       "</table>\n",
       "<p>7613 rows × 5 columns</p>\n",
       "</div>"
      ],
      "text/plain": [
       "         id keyword location  \\\n",
       "0         1     NaN      NaN   \n",
       "1         4     NaN      NaN   \n",
       "2         5     NaN      NaN   \n",
       "3         6     NaN      NaN   \n",
       "4         7     NaN      NaN   \n",
       "...     ...     ...      ...   \n",
       "7608  10869     NaN      NaN   \n",
       "7609  10870     NaN      NaN   \n",
       "7610  10871     NaN      NaN   \n",
       "7611  10872     NaN      NaN   \n",
       "7612  10873     NaN      NaN   \n",
       "\n",
       "                                                   text  target  \n",
       "0     Our Deeds are the Reason of this #earthquake M...       1  \n",
       "1                Forest fire near La Ronge Sask. Canada       1  \n",
       "2     All residents asked to 'shelter in place' are ...       1  \n",
       "3     13,000 people receive #wildfires evacuation or...       1  \n",
       "4     Just got sent this photo from Ruby #Alaska as ...       1  \n",
       "...                                                 ...     ...  \n",
       "7608  Two giant cranes holding a bridge collapse int...       1  \n",
       "7609  @aria_ahrary @TheTawniest The out of control w...       1  \n",
       "7610  M1.94 [01:04 UTC]?5km S of Volcano Hawaii. htt...       1  \n",
       "7611  Police investigating after an e-bike collided ...       1  \n",
       "7612  The Latest: More Homes Razed by Northern Calif...       1  \n",
       "\n",
       "[7613 rows x 5 columns]"
      ]
     },
     "execution_count": 5,
     "metadata": {},
     "output_type": "execute_result"
    }
   ],
   "source": [
    "train_df"
   ]
  },
  {
   "cell_type": "code",
   "execution_count": 6,
   "id": "283b14f5",
   "metadata": {},
   "outputs": [],
   "source": [
    "train_df_shuffled = train_df.sample(frac=1).reset_index(drop=True)"
   ]
  },
  {
   "cell_type": "code",
   "execution_count": 7,
   "id": "d1c42726",
   "metadata": {
    "scrolled": false
   },
   "outputs": [
    {
     "name": "stdout",
     "output_type": "stream",
     "text": [
      "Target: 1 (real_disaster)\n",
      "Text:\n",
      "Top insurer blasts lack of Australian Govt action on disaster mitigation http://t.co/sDgOUtWNtb via @smh\n",
      "\n",
      "---\n",
      "\n",
      "Target: 1 (real_disaster)\n",
      "Text:\n",
      "Kach was a group to which belonged Baruch Goldstein a mass murderer who in 1994 shot and killed 29 PalestinianÛ_ http://t.co/bXGNQ57xvb\n",
      "\n",
      "---\n",
      "\n",
      "Target: 0 (not real disaster)\n",
      "Text:\n",
      "My dogÛªs just blown his kennel up ÛÒ Bloody Yorkshire Terrorist\n",
      "\n",
      "---\n",
      "\n",
      "Target: 0 (not real disaster)\n",
      "Text:\n",
      "Ercjmnea: Breaking news! Unconfirmed! I just heard a loud bang nearby. in what appears to be a blast of wind from my neighbour's ass.\n",
      "\n",
      "---\n",
      "\n",
      "Target: 0 (not real disaster)\n",
      "Text:\n",
      "Simmering beneath #NHL good times the league's own concussion issues @PioneerPress\n",
      "\n",
      "http://t.co/zl7FhUCxHL\n",
      "\n",
      "---\n",
      "\n"
     ]
    }
   ],
   "source": [
    "### Get a random sample set\n",
    "\n",
    "sample_set = train_df_shuffled[['text', 'target']]\n",
    "\n",
    "random_n = random.randint(0, len(sample_set)-5)\n",
    "\n",
    "for row in sample_set[random_n: random_n+5].itertuples():\n",
    "    _, text, target = row\n",
    "    print(f'Target: {target}', '(real_disaster)' if target > 0 else '(not real disaster)')\n",
    "    print(f'Text:\\n{text}\\n')\n",
    "    print(\"---\\n\")"
   ]
  },
  {
   "cell_type": "markdown",
   "id": "e7eab68f",
   "metadata": {},
   "source": [
    "### Splitting the Train Data by Train-Test-Split"
   ]
  },
  {
   "cell_type": "code",
   "execution_count": 8,
   "id": "8b89ca9d",
   "metadata": {},
   "outputs": [],
   "source": [
    "X = train_df_shuffled['text'].to_numpy()\n",
    "y = train_df_shuffled['target'].to_numpy()"
   ]
  },
  {
   "cell_type": "code",
   "execution_count": 9,
   "id": "b0222806",
   "metadata": {},
   "outputs": [],
   "source": [
    "train_sentences, val_sentences, train_labels, val_labels = train_test_split(\n",
    "    X,\n",
    "    y,\n",
    "    test_size=0.1,\n",
    "    random_state=42\n",
    ")"
   ]
  },
  {
   "cell_type": "code",
   "execution_count": 10,
   "id": "a1d4cd40",
   "metadata": {},
   "outputs": [
    {
     "data": {
      "text/plain": [
       "(6851, 6851, 762, 762)"
      ]
     },
     "execution_count": 10,
     "metadata": {},
     "output_type": "execute_result"
    }
   ],
   "source": [
    "len(train_sentences),len(train_labels), len(val_sentences),len(val_labels)"
   ]
  },
  {
   "cell_type": "code",
   "execution_count": 11,
   "id": "e09ce8e8",
   "metadata": {},
   "outputs": [
    {
     "name": "stdout",
     "output_type": "stream",
     "text": [
      "1 real disaster \n",
      "Watch our video of Wendell Berry speaking about the BP oil spill in the Gulf of Mexico.\n",
      "\n",
      "ItÛªs the birthday... http://t.co/tN1aX1xMBB\n",
      "\n",
      "0 not real disaster \n",
      "my vibrator shaped vape done busted\n",
      "\n",
      "0 not real disaster \n",
      "There is this old lady rockin out to death metal in her sedan downtown smoking a cigarette. I found my real mom.\n",
      "\n",
      "1 real disaster \n",
      "This why BSF Jawans died Fidayeen has AKs and they bloody #INSAS! INSAS rifles not to blame for soldiers' deaths MoD http://t.co/1Lk1EQwyUW\n",
      "\n",
      "1 real disaster \n",
      "the pastor was not in the scene of the accident......who was the owner of the range rover ?\n",
      "\n"
     ]
    }
   ],
   "source": [
    "for i in range(0,5):\n",
    "    print(f'{train_labels[i]}', 'real disaster' if train_labels[i] > 0 else 'not real disaster', \n",
    "          f'\\n{train_sentences[i]}\\n')"
   ]
  },
  {
   "cell_type": "markdown",
   "id": "bdeb0ca7",
   "metadata": {},
   "source": [
    "### Building Blocks and How it Works"
   ]
  },
  {
   "cell_type": "markdown",
   "id": "8a30aeb6",
   "metadata": {},
   "source": [
    "---\n",
    "**Tokenization** is straight up mapping the words without any weight/values, just regular numerical encoding  \n",
    "  \n",
    "* **Word-Level Tokenization** - maps the whole text and maps each word; thus it(the word) is considered a token. (e.q. one-hot encoding)\n",
    "* **Character-Level Tokenization** - maps the whole text but focuses on each letter from 1 - 26; thus it(each letter) is considered a token.  \n",
    "* **Sub-word Tokenization** - takes the syllables of a word and tokenizes it \n",
    "\n",
    "**Embedding** uses vector weights that can be learned as out network trains. i.e. individual letters in a word on how each letter can be of importance to create that word.\n",
    "\n",
    "---\n",
    "\n",
    "🔑 **Takeaways**  \n",
    "  \n",
    "**Process**  \n",
    "\n",
    "* **Build a Text Vectorizer**  \n",
    "    * **`max_vocab_length`** - 1000  \n",
    "    * **`max_length`** - taken from the length of each word in a sentence, summed together  \n",
    "and divided by the total amount of train_sentences  `sum([len(i.split()) for i in train_]) / len(train_)`\n",
    " \n",
    "\n",
    "* **Build a Embedding Layer**\n",
    "    * **`input_dim`** - same as `max_vocab_length`  \n",
    "    * **`output_dim`** - any number divisible by `8`  \n",
    "    * **`input_length`** - same as `max_length`  \n",
    "    \n",
    "     \n",
    "> You must vectorize your text before feeding it to the embedding layer"
   ]
  },
  {
   "cell_type": "code",
   "execution_count": 12,
   "id": "6e1740f2",
   "metadata": {
    "scrolled": false
   },
   "outputs": [
    {
     "data": {
      "text/plain": [
       "14.898700919573784"
      ]
     },
     "execution_count": 12,
     "metadata": {},
     "output_type": "execute_result"
    }
   ],
   "source": [
    "sum([len(i.split()) for i in train_sentences])/len(train_sentences)"
   ]
  },
  {
   "cell_type": "code",
   "execution_count": 13,
   "id": "07de64b1",
   "metadata": {},
   "outputs": [],
   "source": [
    "max_vocab_length = 10000\n",
    "max_length = 15"
   ]
  },
  {
   "cell_type": "markdown",
   "id": "c7cb3e94",
   "metadata": {},
   "source": [
    "#### Token Vectorizer"
   ]
  },
  {
   "cell_type": "code",
   "execution_count": null,
   "id": "4f1eabca",
   "metadata": {},
   "outputs": [],
   "source": []
  },
  {
   "cell_type": "code",
   "execution_count": 14,
   "id": "1c4e5f2f",
   "metadata": {},
   "outputs": [],
   "source": [
    "text_vectorizer = tf.keras.layers.TextVectorization(\n",
    "    max_tokens=max_vocab_length,\n",
    "    standardize='lower_and_strip_punctuation',\n",
    "    split='whitespace',\n",
    "    ngrams=None,\n",
    "    output_mode='int',\n",
    "    output_sequence_length=max_length,\n",
    "    pad_to_max_tokens=True\n",
    ")"
   ]
  },
  {
   "cell_type": "code",
   "execution_count": 15,
   "id": "4b7f36a8",
   "metadata": {},
   "outputs": [],
   "source": [
    "text_vectorizer.adapt(train_sentences)"
   ]
  },
  {
   "cell_type": "code",
   "execution_count": 16,
   "id": "823aadab",
   "metadata": {},
   "outputs": [
    {
     "name": "stdout",
     "output_type": "stream",
     "text": [
      "Original test:\n",
      "@Dr_Baseball41 @GrantTamane8 @DrewWTaylor @Dtop77   On the Christie Hillside: Game 4: Pandemonium at the Pits. http://t.co/Lq4lXGS2xU\n"
     ]
    },
    {
     "data": {
      "text/plain": [
       "<tf.Tensor: shape=(1, 15), dtype=int64, numpy=\n",
       "array([[   1,    1,    1,    1,   11,    2, 3989,    1,  457,  170,  507,\n",
       "          16,    2, 4876,    1]], dtype=int64)>"
      ]
     },
     "execution_count": 16,
     "metadata": {},
     "output_type": "execute_result"
    }
   ],
   "source": [
    "random_sentence = random.choice(train_sentences)\n",
    "print(f'Original test:\\n{random_sentence}')\n",
    "text_vectorizer([random_sentence])"
   ]
  },
  {
   "cell_type": "code",
   "execution_count": 17,
   "id": "ee72ebc0",
   "metadata": {
    "scrolled": true
   },
   "outputs": [
    {
     "data": {
      "text/plain": [
       "(['', '[UNK]', 'the', 'a', 'in'],\n",
       " ['particulatebreak',\n",
       "  'particular',\n",
       "  'participating',\n",
       "  'participate',\n",
       "  'partially'])"
      ]
     },
     "execution_count": 17,
     "metadata": {},
     "output_type": "execute_result"
    }
   ],
   "source": [
    "words_in_vocab = text_vectorizer.get_vocabulary()\n",
    "words_in_vocab[:5],words_in_vocab[-5:]"
   ]
  },
  {
   "cell_type": "markdown",
   "id": "784e15df",
   "metadata": {},
   "source": [
    "#### Embedding Layer"
   ]
  },
  {
   "cell_type": "code",
   "execution_count": 18,
   "id": "222b5fe5",
   "metadata": {},
   "outputs": [
    {
     "data": {
      "text/plain": [
       "<keras.layers.embeddings.Embedding at 0x179933a7b80>"
      ]
     },
     "execution_count": 18,
     "metadata": {},
     "output_type": "execute_result"
    }
   ],
   "source": [
    "embedding = tf.keras.layers.Embedding(input_dim=max_vocab_length,\n",
    "                                      output_dim=128,\n",
    "                                      input_length=max_length,\n",
    "                                      embeddings_initializer='uniform'\n",
    "                                     )\n",
    "embedding"
   ]
  },
  {
   "cell_type": "markdown",
   "id": "7e89fad3",
   "metadata": {},
   "source": [
    "#### Making Use of Both"
   ]
  },
  {
   "cell_type": "code",
   "execution_count": 19,
   "id": "2d6f7756",
   "metadata": {},
   "outputs": [
    {
     "name": "stdout",
     "output_type": "stream",
     "text": [
      "Original test:\n",
      "@Dr_Baseball41 @GrantTamane8 @DrewWTaylor @Dtop77   On the Christie Hillside: Game 4: Pandemonium at the Pits. http://t.co/Lq4lXGS2xU\n"
     ]
    },
    {
     "data": {
      "text/plain": [
       "<tf.Tensor: shape=(1, 15, 128), dtype=float32, numpy=\n",
       "array([[[-0.02663603,  0.04215778, -0.04130263, ...,  0.02177149,\n",
       "          0.01937262, -0.01267599],\n",
       "        [-0.02663603,  0.04215778, -0.04130263, ...,  0.02177149,\n",
       "          0.01937262, -0.01267599],\n",
       "        [-0.02663603,  0.04215778, -0.04130263, ...,  0.02177149,\n",
       "          0.01937262, -0.01267599],\n",
       "        ...,\n",
       "        [ 0.01269392, -0.04423671, -0.02489638, ...,  0.00839049,\n",
       "         -0.00667229, -0.01199985],\n",
       "        [-0.03160869,  0.02961725,  0.02289288, ...,  0.02177877,\n",
       "         -0.01554841, -0.02680509],\n",
       "        [-0.02663603,  0.04215778, -0.04130263, ...,  0.02177149,\n",
       "          0.01937262, -0.01267599]]], dtype=float32)>"
      ]
     },
     "execution_count": 19,
     "metadata": {},
     "output_type": "execute_result"
    }
   ],
   "source": [
    "print(f'Original test:\\n{random_sentence}')\n",
    "sample_embed = embedding(text_vectorizer([random_sentence]))\n",
    "sample_embed"
   ]
  },
  {
   "cell_type": "code",
   "execution_count": 20,
   "id": "f7495402",
   "metadata": {},
   "outputs": [
    {
     "data": {
      "text/plain": [
       "(<tf.Tensor: shape=(128,), dtype=float32, numpy=\n",
       " array([-0.02663603,  0.04215778, -0.04130263,  0.02813853, -0.04228611,\n",
       "        -0.02102394, -0.03763955, -0.00325446,  0.04369882, -0.01045295,\n",
       "        -0.00645547, -0.02141308,  0.00230439, -0.04131854, -0.02733638,\n",
       "        -0.0304315 ,  0.03998655, -0.01546242, -0.0189464 ,  0.02773705,\n",
       "         0.0222786 , -0.04274793,  0.00175892,  0.01587627, -0.0108791 ,\n",
       "         0.03345918,  0.02933902,  0.04348297,  0.00835849, -0.00438888,\n",
       "        -0.04264542, -0.03275536,  0.01354906,  0.03139069, -0.01637368,\n",
       "        -0.0369323 ,  0.02171135, -0.01567793, -0.01576931,  0.03514552,\n",
       "         0.02152257, -0.02333226,  0.0491165 , -0.04814294,  0.0175474 ,\n",
       "         0.01728264, -0.02080221, -0.02762713,  0.02928697, -0.03164982,\n",
       "         0.01407285,  0.03718417, -0.04035687, -0.00400531,  0.04687184,\n",
       "         0.02590038,  0.04608523, -0.01913813, -0.04385716, -0.01580562,\n",
       "         0.01857604, -0.01025231,  0.01925609,  0.0412941 , -0.01933014,\n",
       "         0.04939291,  0.02659426, -0.00644152,  0.04939504, -0.01019036,\n",
       "         0.01672291, -0.04978368,  0.00673275, -0.04796911, -0.01566963,\n",
       "         0.03454957,  0.01547437,  0.03376787, -0.00952333, -0.005745  ,\n",
       "         0.00250741,  0.04417152,  0.01554073,  0.04506494, -0.00969356,\n",
       "         0.00170634,  0.02879113, -0.0424814 ,  0.02292904, -0.00892241,\n",
       "         0.01025975, -0.00887204,  0.0149279 ,  0.03450841, -0.02402203,\n",
       "        -0.04160533,  0.04201478, -0.01578065,  0.0443771 ,  0.03403887,\n",
       "         0.00503654, -0.00542955,  0.04247865,  0.02436227, -0.01311252,\n",
       "        -0.01395883,  0.01827223, -0.04425244, -0.04363822,  0.01132547,\n",
       "         0.04267362,  0.04140032, -0.04912665, -0.00524157,  0.01042631,\n",
       "         0.02752354,  0.03038925,  0.04954809,  0.01973614,  0.00135094,\n",
       "        -0.01884086, -0.04284615,  0.00456872, -0.03139496,  0.03021978,\n",
       "         0.02177149,  0.01937262, -0.01267599], dtype=float32)>,\n",
       " '@Dr_Baseball41 @GrantTamane8 @DrewWTaylor @Dtop77   On the Christie Hillside: Game 4: Pandemonium at the Pits. http://t.co/Lq4lXGS2xU')"
      ]
     },
     "execution_count": 20,
     "metadata": {},
     "output_type": "execute_result"
    }
   ],
   "source": [
    "sample_embed[0][0], random_sentence"
   ]
  },
  {
   "cell_type": "markdown",
   "id": "13f05c25",
   "metadata": {},
   "source": [
    "### Model Building"
   ]
  },
  {
   "attachments": {
    "image.png": {
     "image/png": "[encoded data removed]"
    }
   },
   "cell_type": "markdown",
   "id": "29cc6396",
   "metadata": {},
   "source": [
    "![image.png](attachment:image.png)\n",
    "\n",
    "Image taken from [MDBourke's Slide for NLP](https://github.com/mrdbourke/tensorflow-deep-learning/blob/main/slides/08_natural_language_processing_in_tensorflow.pdf)\n",
    "\n",
    "**Model 0**: Naive Bayes (Baseline)  \n",
    "**Model 1**: Feed-forward neural network (Dense Model)  \n",
    "**Model 2**: LSTM model (RNN)  \n",
    "**Model 3**: GRU Model (RNN)  \n",
    "**Model 4**: Bidirectional-LTSM Model (RNN)  \n",
    "**Model 5**: 1D Convolutional Neural Network (CNN)  \n",
    "**Model 6**: TensorFlow Hub Pretrained Feature Extration (Transfer Learning)  \n",
    "**Model 7**: Same as Model 6 with 10% of training data  "
   ]
  },
  {
   "cell_type": "markdown",
   "id": "b16e4d1a",
   "metadata": {},
   "source": [
    "#### Functions"
   ]
  },
  {
   "cell_type": "code",
   "execution_count": 21,
   "id": "0982bb55",
   "metadata": {},
   "outputs": [],
   "source": [
    "def evaluate_text_preds(y_preds, y_true, y_true_sentences):\n",
    "    '''\n",
    "    outputs a list of prediction, true labels, and its sentence\n",
    "    \n",
    "    Parameters\n",
    "    -------\n",
    "    y_preds - predictions from the model\n",
    "    y_true - true labels from test split\n",
    "    y_true_sentences - sentence of the true label\n",
    "    '''\n",
    "    pred_results = []\n",
    "    for i in range(0, len(y_preds)):\n",
    "        if y_preds[i] == y_true[i]:\n",
    "            #print('correct prediction')\n",
    "            pred_results.append('Correct Prediction')\n",
    "        else:\n",
    "            #print('wrong prediction')\n",
    "            pred_results.append('Wrong Prediction')\n",
    "            \n",
    "    for i in range(0, len(pred_results)):\n",
    "        print('---\\n')\n",
    "        print(f'{pred_results[i]} \\n'\n",
    "              f'Prediction: {y_preds[i]} | True Label: {y_true[i]}\\n\\n'\n",
    "              f'{y_true_sentences[i]}\\n')\n",
    "    \n"
   ]
  },
  {
   "cell_type": "code",
   "execution_count": 22,
   "id": "5a66a9d7",
   "metadata": {},
   "outputs": [],
   "source": [
    "def evaluate_model_results(y_preds, y_true):\n",
    "    '''\n",
    "    returns a list of model evaluation results\n",
    "    \n",
    "    Paremeters\n",
    "    -------\n",
    "    y_preds - predictions from the model\n",
    "    y_true - true labels from test split\n",
    "    '''\n",
    "    model_accuracy = accuracy_score(y_true, y_preds)\n",
    "    model_precision, model_recall, model_f1, _ = precision_recall_fscore_support(y_true, y_preds, average='weighted')\n",
    "    \n",
    "    model_results = {'accuracy' : model_accuracy,\n",
    "                     'precision' : model_precision,\n",
    "                     'recall': model_recall,\n",
    "                     'f1-score': model_f1}\n",
    "    return model_results"
   ]
  },
  {
   "cell_type": "markdown",
   "id": "5d07a31d",
   "metadata": {},
   "source": [
    "#### Model 0 - Scikit-Learn Naive Bayes"
   ]
  },
  {
   "cell_type": "markdown",
   "id": "c90281f3",
   "metadata": {},
   "source": [
    "For our baseline model we're going to use Sklearn's NaiveBayes' MultinomialNB"
   ]
  },
  {
   "cell_type": "code",
   "execution_count": 23,
   "id": "78000410",
   "metadata": {},
   "outputs": [
    {
     "name": "stdout",
     "output_type": "stream",
     "text": [
      "[Pipeline] ............. (step 1 of 2) Processing tfidf, total=   0.1s\n",
      "[Pipeline] ............... (step 2 of 2) Processing clf, total=   0.0s\n"
     ]
    },
    {
     "data": {
      "text/plain": [
       "Pipeline(steps=[('tfidf', TfidfVectorizer()), ('clf', MultinomialNB())],\n",
       "         verbose=True)"
      ]
     },
     "execution_count": 23,
     "metadata": {},
     "output_type": "execute_result"
    }
   ],
   "source": [
    "from sklearn.feature_extraction.text import TfidfVectorizer\n",
    "from sklearn.naive_bayes import MultinomialNB\n",
    "from sklearn.pipeline import Pipeline\n",
    "\n",
    "model_0 = Pipeline([\n",
    "    ('tfidf', TfidfVectorizer()),\n",
    "    ('clf', MultinomialNB())\n",
    "], verbose=True)\n",
    "\n",
    "model_0.fit(train_sentences, train_labels)"
   ]
  },
  {
   "cell_type": "code",
   "execution_count": 24,
   "id": "f368c452",
   "metadata": {
    "scrolled": true
   },
   "outputs": [
    {
     "data": {
      "text/plain": [
       "0.7952755905511811"
      ]
     },
     "execution_count": 24,
     "metadata": {},
     "output_type": "execute_result"
    }
   ],
   "source": [
    "baseline_score = model_0.score(val_sentences, val_labels)\n",
    "baseline_score"
   ]
  },
  {
   "cell_type": "code",
   "execution_count": 25,
   "id": "ca5c6430",
   "metadata": {
    "scrolled": true
   },
   "outputs": [],
   "source": [
    "baseline_preds = model_0.predict(val_sentences)"
   ]
  },
  {
   "cell_type": "code",
   "execution_count": 26,
   "id": "504c3e3e",
   "metadata": {},
   "outputs": [
    {
     "data": {
      "text/plain": [
       "(array([1, 1, 1, 1, 0, 1, 1, 1, 1, 1], dtype=int64),\n",
       " array([1, 0, 1, 1, 0, 0, 1, 0, 1, 0], dtype=int64))"
      ]
     },
     "execution_count": 26,
     "metadata": {},
     "output_type": "execute_result"
    }
   ],
   "source": [
    "val_labels[:10], baseline_preds[:10]"
   ]
  },
  {
   "cell_type": "code",
   "execution_count": 27,
   "id": "983a45a2",
   "metadata": {
    "scrolled": true
   },
   "outputs": [
    {
     "name": "stdout",
     "output_type": "stream",
     "text": [
      "---\n",
      "\n",
      "Correct Prediction \n",
      "Prediction: 1 | True Label: 1\n",
      "\n",
      "@CAgov If 90BLKs&amp;8WHTs colluded 2 take WHT F @USAgov AUTH Hostage&amp;2 make her look BLK w/Bioterrorism&amp;use her lgl/org IDis ID still hers?@VP\n",
      "\n",
      "---\n",
      "\n",
      "Wrong Prediction \n",
      "Prediction: 0 | True Label: 1\n",
      "\n",
      "As firefighters make gains on #RockyFire Jerry Brown is heading to the area to meet with first responders tomorrow morning\n",
      "\n",
      "---\n",
      "\n",
      "Correct Prediction \n",
      "Prediction: 1 | True Label: 1\n",
      "\n",
      "Relief train carrying survivors of the derailed Janta Express reaches Mumbai via @firstpostin http://t.co/CZNXHuTASX\n",
      "\n",
      "---\n",
      "\n",
      "Correct Prediction \n",
      "Prediction: 1 | True Label: 1\n",
      "\n",
      "U.S. in record hurricane drought http://t.co/8JvQI9UspL\n",
      "\n",
      "---\n",
      "\n",
      "Correct Prediction \n",
      "Prediction: 0 | True Label: 0\n",
      "\n",
      "'It hasn't collapsed because the Greek people are still being played for as fools by Tsipras he costÛ_' ÛÓ WallyBaiter http://t.co/gbRNuLp3fH\n",
      "\n"
     ]
    }
   ],
   "source": [
    "evaluate_text_preds(baseline_preds[:5], val_labels[:5], val_sentences[:5])"
   ]
  },
  {
   "cell_type": "code",
   "execution_count": 28,
   "id": "72e9530f",
   "metadata": {
    "scrolled": true
   },
   "outputs": [
    {
     "data": {
      "text/plain": [
       "{'accuracy': 0.7952755905511811,\n",
       " 'precision': 0.8415284216216306,\n",
       " 'recall': 0.7952755905511811,\n",
       " 'f1-score': 0.8032113838163847}"
      ]
     },
     "execution_count": 28,
     "metadata": {},
     "output_type": "execute_result"
    }
   ],
   "source": [
    "model_0_results = evaluate_model_results(val_labels, baseline_preds)\n",
    "model_0_results"
   ]
  },
  {
   "cell_type": "markdown",
   "id": "343d5e2b",
   "metadata": {},
   "source": [
    "#### Model 1 - Feed-Forward Neural Network (Dense Model)"
   ]
  },
  {
   "cell_type": "markdown",
   "id": "57b79fd8",
   "metadata": {},
   "source": [
    "Model 1 will use our base neural network workflow and see if it works well"
   ]
  },
  {
   "cell_type": "code",
   "execution_count": 29,
   "id": "55c25323",
   "metadata": {},
   "outputs": [],
   "source": [
    "# Building Model 1\n",
    "inputs = tf.keras.layers.Input(shape=(1,), dtype=tf.string, name='input_layer')\n",
    "x = text_vectorizer(inputs)\n",
    "x = embedding(x)\n",
    "x = tf.keras.layers.GlobalAveragePooling1D()(x)\n",
    "#x = tf.keras.layers.Flatten()(x)\n",
    "outputs = tf.keras.layers.Dense(1, activation='sigmoid', name='output_layer')(x)\n",
    "\n",
    "model_1 = tf.keras.Model(inputs, outputs, name='model_1_dense')\n",
    "\n",
    "model_1.compile(loss=tf.keras.losses.BinaryCrossentropy(),\n",
    "                optimizer=tf.keras.optimizers.Adam(),\n",
    "                metrics=['accuracy'])"
   ]
  },
  {
   "cell_type": "code",
   "execution_count": 30,
   "id": "424307bf",
   "metadata": {},
   "outputs": [
    {
     "name": "stdout",
     "output_type": "stream",
     "text": [
      "Model: \"model_1_dense\"\n",
      "_________________________________________________________________\n",
      " Layer (type)                Output Shape              Param #   \n",
      "=================================================================\n",
      " input_layer (InputLayer)    [(None, 1)]               0         \n",
      "                                                                 \n",
      " text_vectorization (TextVec  (None, 15)               0         \n",
      " torization)                                                     \n",
      "                                                                 \n",
      " embedding (Embedding)       (None, 15, 128)           1280000   \n",
      "                                                                 \n",
      " global_average_pooling1d (G  (None, 128)              0         \n",
      " lobalAveragePooling1D)                                          \n",
      "                                                                 \n",
      " output_layer (Dense)        (None, 1)                 129       \n",
      "                                                                 \n",
      "=================================================================\n",
      "Total params: 1,280,129\n",
      "Trainable params: 1,280,129\n",
      "Non-trainable params: 0\n",
      "_________________________________________________________________\n"
     ]
    }
   ],
   "source": [
    "model_1.summary()"
   ]
  },
  {
   "cell_type": "code",
   "execution_count": 31,
   "id": "944cb1b8",
   "metadata": {},
   "outputs": [],
   "source": [
    "tensorboard_dir='./NLP-NLU-Files/model_logs'"
   ]
  },
  {
   "cell_type": "code",
   "execution_count": 32,
   "id": "55425998",
   "metadata": {},
   "outputs": [
    {
     "name": "stdout",
     "output_type": "stream",
     "text": [
      "Saving Tensorboard logfiles to ./NLP-NLU-Files/model_logs/logs/fits/model_1_dense/20211123-140457\n",
      "Epoch 1/5\n",
      "215/215 [==============================] - 3s 8ms/step - loss: 0.6113 - accuracy: 0.6957 - val_loss: 0.5471 - val_accuracy: 0.7480\n",
      "Epoch 2/5\n",
      "215/215 [==============================] - 1s 6ms/step - loss: 0.4409 - accuracy: 0.8183 - val_loss: 0.4900 - val_accuracy: 0.7690\n",
      "Epoch 3/5\n",
      "215/215 [==============================] - 1s 7ms/step - loss: 0.3456 - accuracy: 0.8631 - val_loss: 0.4813 - val_accuracy: 0.7677\n",
      "Epoch 4/5\n",
      "215/215 [==============================] - 1s 6ms/step - loss: 0.2810 - accuracy: 0.8930 - val_loss: 0.4967 - val_accuracy: 0.7730\n",
      "Epoch 5/5\n",
      "215/215 [==============================] - 1s 6ms/step - loss: 0.2340 - accuracy: 0.9161 - val_loss: 0.5277 - val_accuracy: 0.7664\n"
     ]
    },
    {
     "data": {
      "text/plain": [
       "<keras.callbacks.History at 0x1799c692370>"
      ]
     },
     "execution_count": 32,
     "metadata": {},
     "output_type": "execute_result"
    }
   ],
   "source": [
    "model_1.fit(x=train_sentences,\n",
    "            y=train_labels,\n",
    "            epochs=5,\n",
    "            validation_data=(val_sentences, val_labels),\n",
    "            callbacks=[create_tensorboard_callback(dir_name=tensorboard_dir, \n",
    "                                                   experiment_name='model_1_dense')]\n",
    "           )"
   ]
  },
  {
   "cell_type": "code",
   "execution_count": 33,
   "id": "1d1416bb",
   "metadata": {
    "scrolled": true
   },
   "outputs": [
    {
     "name": "stdout",
     "output_type": "stream",
     "text": [
      "24/24 [==============================] - 0s 3ms/step - loss: 0.5277 - accuracy: 0.7664\n"
     ]
    },
    {
     "data": {
      "text/plain": [
       "[0.5277214646339417, 0.7664042115211487]"
      ]
     },
     "execution_count": 33,
     "metadata": {},
     "output_type": "execute_result"
    }
   ],
   "source": [
    "model_1.evaluate(val_sentences, val_labels)"
   ]
  },
  {
   "cell_type": "code",
   "execution_count": 34,
   "id": "ae86e3b3",
   "metadata": {},
   "outputs": [
    {
     "data": {
      "text/plain": [
       "(762, 1)"
      ]
     },
     "execution_count": 34,
     "metadata": {},
     "output_type": "execute_result"
    }
   ],
   "source": [
    "model_1_pred_probs = model_1.predict(val_sentences)\n",
    "model_1_pred_probs.shape"
   ]
  },
  {
   "cell_type": "code",
   "execution_count": 35,
   "id": "ff77e490",
   "metadata": {},
   "outputs": [
    {
     "data": {
      "text/plain": [
       "array([[0.93515325],\n",
       "       [0.7649866 ],\n",
       "       [0.99578166],\n",
       "       [0.9427091 ],\n",
       "       [0.16003609],\n",
       "       [0.5501643 ],\n",
       "       [0.99985754],\n",
       "       [0.5140318 ],\n",
       "       [0.97406095],\n",
       "       [0.03720224]], dtype=float32)"
      ]
     },
     "execution_count": 35,
     "metadata": {},
     "output_type": "execute_result"
    }
   ],
   "source": [
    "model_1_pred_probs[:10]"
   ]
  },
  {
   "cell_type": "code",
   "execution_count": 36,
   "id": "61d5d482",
   "metadata": {},
   "outputs": [],
   "source": [
    "# convert to 1 & 0\n",
    "model_1_preds = tf.squeeze(tf.round(model_1_pred_probs))\n",
    "model_1_preds ;"
   ]
  },
  {
   "cell_type": "code",
   "execution_count": 37,
   "id": "40ddb6dc",
   "metadata": {},
   "outputs": [
    {
     "data": {
      "text/plain": [
       "{'accuracy': 0.7664041994750657,\n",
       " 'precision': 0.7671231853399584,\n",
       " 'recall': 0.7664041994750657,\n",
       " 'f1-score': 0.7636062660161435}"
      ]
     },
     "execution_count": 37,
     "metadata": {},
     "output_type": "execute_result"
    }
   ],
   "source": [
    "model_1_results = evaluate_model_results(model_1_preds, val_labels)\n",
    "model_1_results"
   ]
  },
  {
   "cell_type": "code",
   "execution_count": 38,
   "id": "a375aa8e",
   "metadata": {},
   "outputs": [
    {
     "data": {
      "text/plain": [
       "{'accuracy': 0.7952755905511811,\n",
       " 'precision': 0.8415284216216306,\n",
       " 'recall': 0.7952755905511811,\n",
       " 'f1-score': 0.8032113838163847}"
      ]
     },
     "execution_count": 38,
     "metadata": {},
     "output_type": "execute_result"
    }
   ],
   "source": [
    "model_0_results"
   ]
  },
  {
   "cell_type": "code",
   "execution_count": 39,
   "id": "49025d0d",
   "metadata": {},
   "outputs": [
    {
     "data": {
      "text/plain": [
       "array([[-0.02028726,  0.03857418,  0.00800266, ...,  0.06278965,\n",
       "         0.03125695,  0.02130689],\n",
       "       [-0.01284005,  0.05669284, -0.05635321, ...,  0.03789533,\n",
       "         0.03545998, -0.0267706 ],\n",
       "       [ 0.04560126, -0.00629227, -0.05806281, ...,  0.04111937,\n",
       "         0.026429  , -0.04425455],\n",
       "       ...,\n",
       "       [-0.05875651, -0.08157318,  0.08767566, ..., -0.05762956,\n",
       "        -0.02960389,  0.05735482],\n",
       "       [-0.04554181, -0.08193896,  0.06003559, ..., -0.01170183,\n",
       "        -0.09819179,  0.01251616],\n",
       "       [ 0.01825975,  0.05269608, -0.08643276, ...,  0.0513827 ,\n",
       "         0.01259203, -0.10641724]], dtype=float32)"
      ]
     },
     "execution_count": 39,
     "metadata": {},
     "output_type": "execute_result"
    }
   ],
   "source": [
    "embed_weights = model_1.get_layer('embedding').get_weights()[0]\n",
    "embed_weights"
   ]
  },
  {
   "cell_type": "code",
   "execution_count": 40,
   "id": "7bf51724",
   "metadata": {},
   "outputs": [],
   "source": [
    "import io\n",
    "out_v = io.open('./NLP-NLU-Files/vectors_and_metadata/vectors.tsv', 'w', encoding='utf-8')\n",
    "out_m = io.open('./NLP-NLU-Files/vectors_and_metadata/metadata.tsv', 'w', encoding='utf-8')\n",
    "\n",
    "for index, word in enumerate(words_in_vocab):\n",
    "  if index == 0:\n",
    "    continue  # skip 0, it's padding.\n",
    "  vec = embed_weights[index]\n",
    "  out_v.write('\\t'.join([str(x) for x in vec]) + \"\\n\")\n",
    "  out_m.write(word + \"\\n\")\n",
    "out_v.close()\n",
    "out_m.close()"
   ]
  },
  {
   "cell_type": "markdown",
   "id": "d913e22b",
   "metadata": {},
   "source": [
    "#### Model 2 - RNN LSTM (Long Short Term Memory)\n",
    "LSTM - Long Short Term Memory, its like logic gates where it stores 1s and 0s.\n",
    "> see it this way, when you feed it an training set, it learns its weights and uses those patterns to predict the next word, it can just store depending on how the value of the weight performs based on the tanh activation function.\n",
    "\n",
    "[Recurrent Neural Networks (RNN) and Long Short-Term Memory (LSTM)](https://www.youtube.com/watch?v=WCUNPb-5EYI&t=297s&ab_channel=BrandonRohrer)"
   ]
  },
  {
   "cell_type": "code",
   "execution_count": 41,
   "id": "9ebbfd4b",
   "metadata": {},
   "outputs": [],
   "source": [
    "inputs = tf.keras.layers.Input(shape=(1,), dtype=tf.string)\n",
    "x = text_vectorizer(inputs)\n",
    "x = embedding(x)\n",
    "x = tf.keras.layers.LSTM(units=64, return_sequences=True)(x)\n",
    "x = tf.keras.layers.LSTM(64)(x)\n",
    "x = tf.keras.layers.Dense(64, activation='relu')(x)\n",
    "outputs = tf.keras.layers.Dense(1, activation='sigmoid')(x)\n",
    "\n",
    "model_2 = tf.keras.Model(inputs, outputs, name='model_2_LSTM')"
   ]
  },
  {
   "cell_type": "code",
   "execution_count": 42,
   "id": "76d65218",
   "metadata": {},
   "outputs": [
    {
     "name": "stdout",
     "output_type": "stream",
     "text": [
      "Model: \"model_2_LSTM\"\n",
      "_________________________________________________________________\n",
      " Layer (type)                Output Shape              Param #   \n",
      "=================================================================\n",
      " input_1 (InputLayer)        [(None, 1)]               0         \n",
      "                                                                 \n",
      " text_vectorization (TextVec  (None, 15)               0         \n",
      " torization)                                                     \n",
      "                                                                 \n",
      " embedding (Embedding)       (None, 15, 128)           1280000   \n",
      "                                                                 \n",
      " lstm (LSTM)                 (None, 15, 64)            49408     \n",
      "                                                                 \n",
      " lstm_1 (LSTM)               (None, 64)                33024     \n",
      "                                                                 \n",
      " dense (Dense)               (None, 64)                4160      \n",
      "                                                                 \n",
      " dense_1 (Dense)             (None, 1)                 65        \n",
      "                                                                 \n",
      "=================================================================\n",
      "Total params: 1,366,657\n",
      "Trainable params: 1,366,657\n",
      "Non-trainable params: 0\n",
      "_________________________________________________________________\n"
     ]
    }
   ],
   "source": [
    "model_2.summary()"
   ]
  },
  {
   "cell_type": "code",
   "execution_count": 43,
   "id": "d28c6aac",
   "metadata": {},
   "outputs": [],
   "source": [
    "model_2.compile(loss=tf.keras.losses.BinaryCrossentropy(),\n",
    "                optimizer=tf.keras.optimizers.Adam(),\n",
    "                metrics=['accuracy'])\n"
   ]
  },
  {
   "cell_type": "code",
   "execution_count": 44,
   "id": "1fb56b23",
   "metadata": {},
   "outputs": [
    {
     "name": "stdout",
     "output_type": "stream",
     "text": [
      "Saving Tensorboard logfiles to ./NLP-NLU-Files/model_logs/logs/fits/model_2_rnn/20211123-140507\n",
      "Epoch 1/5\n",
      "215/215 [==============================] - 8s 15ms/step - loss: 0.2218 - accuracy: 0.9180 - val_loss: 0.6431 - val_accuracy: 0.7493\n",
      "Epoch 2/5\n",
      "215/215 [==============================] - 3s 12ms/step - loss: 0.1542 - accuracy: 0.9384 - val_loss: 0.7661 - val_accuracy: 0.7454\n",
      "Epoch 3/5\n",
      "215/215 [==============================] - 2s 11ms/step - loss: 0.1249 - accuracy: 0.9537 - val_loss: 0.9382 - val_accuracy: 0.7218\n",
      "Epoch 4/5\n",
      "215/215 [==============================] - 2s 10ms/step - loss: 0.1019 - accuracy: 0.9588 - val_loss: 1.0963 - val_accuracy: 0.7283\n",
      "Epoch 5/5\n",
      "215/215 [==============================] - 2s 11ms/step - loss: 0.0792 - accuracy: 0.9663 - val_loss: 1.2247 - val_accuracy: 0.7362\n"
     ]
    },
    {
     "data": {
      "text/plain": [
       "<keras.callbacks.History at 0x17ab7c00d60>"
      ]
     },
     "execution_count": 44,
     "metadata": {},
     "output_type": "execute_result"
    }
   ],
   "source": [
    "model_2.fit(train_sentences,\n",
    "            train_labels,\n",
    "            epochs=5,\n",
    "            validation_data=(val_sentences,val_labels),\n",
    "            callbacks=[create_tensorboard_callback(dir_name=tensorboard_dir,\n",
    "                                                   experiment_name='model_2_rnn')])"
   ]
  },
  {
   "cell_type": "code",
   "execution_count": 45,
   "id": "8f047434",
   "metadata": {},
   "outputs": [
    {
     "name": "stdout",
     "output_type": "stream",
     "text": [
      "24/24 [==============================] - 0s 5ms/step - loss: 1.2247 - accuracy: 0.7362\n"
     ]
    },
    {
     "data": {
      "text/plain": [
       "[1.2246737480163574, 0.7362204790115356]"
      ]
     },
     "execution_count": 45,
     "metadata": {},
     "output_type": "execute_result"
    }
   ],
   "source": [
    "model_2.evaluate(val_sentences, val_labels)"
   ]
  },
  {
   "cell_type": "code",
   "execution_count": 46,
   "id": "21994679",
   "metadata": {},
   "outputs": [
    {
     "data": {
      "text/plain": [
       "array([[9.9994850e-01],\n",
       "       [9.9636972e-01],\n",
       "       [9.9997365e-01],\n",
       "       [9.9967301e-01],\n",
       "       [2.1039562e-04]], dtype=float32)"
      ]
     },
     "execution_count": 46,
     "metadata": {},
     "output_type": "execute_result"
    }
   ],
   "source": [
    "model_2_rnn_pred_probs = model_2.predict(val_sentences)\n",
    "model_2_rnn_pred_probs[:5]"
   ]
  },
  {
   "cell_type": "code",
   "execution_count": 47,
   "id": "445605fa",
   "metadata": {},
   "outputs": [],
   "source": [
    "model_2_preds = tf.squeeze(tf.round(model_2_rnn_pred_probs))"
   ]
  },
  {
   "cell_type": "code",
   "execution_count": 48,
   "id": "1a3e19e5",
   "metadata": {},
   "outputs": [
    {
     "data": {
      "text/plain": [
       "{'accuracy': 0.7362204724409449,\n",
       " 'precision': 0.7351897370962818,\n",
       " 'recall': 0.7362204724409449,\n",
       " 'f1-score': 0.7352416082675398}"
      ]
     },
     "execution_count": 48,
     "metadata": {},
     "output_type": "execute_result"
    }
   ],
   "source": [
    "model_2_results = evaluate_model_results(model_2_preds, val_labels)\n",
    "model_2_results"
   ]
  },
  {
   "cell_type": "markdown",
   "id": "ca87179a",
   "metadata": {},
   "source": [
    "#### Model 3 - RNN GRU (Gated Recurrent Unit)"
   ]
  },
  {
   "cell_type": "markdown",
   "id": "40f3a806",
   "metadata": {},
   "source": [
    "> similar to the LSTM Function but has a forget gate, with a tanh function on whether it stores or forget.\n",
    "\n",
    "also cited in\n",
    "[Recurrent Neural Networks (RNN) and Long Short-Term Memory (LSTM)](https://www.youtube.com/watch?v=WCUNPb-5EYI&t=297s&ab_channel=BrandonRohrer) "
   ]
  },
  {
   "cell_type": "code",
   "execution_count": 49,
   "id": "9719a8b0",
   "metadata": {},
   "outputs": [],
   "source": [
    "inputs = tf.keras.layers.Input(shape=(1,), dtype=tf.string)\n",
    "x = text_vectorizer(inputs)\n",
    "x = embedding(x)\n",
    "x = tf.keras.layers.GRU(64)(x)\n",
    "#x = tf.keras.layers.LSTM(64, return_sequences=True)(x)\n",
    "#x = tf.keras.layers.GRU(64)(x)\n",
    "#x = tf.keras.layers.Dense(1, activation='sigmo')(x)\n",
    "outputs = tf.keras.layers.Dense(1, activation='sigmoid')(x)\n",
    "\n",
    "model_3 = tf.keras.models.Model(inputs, outputs)\n",
    "\n",
    "model_3.compile(loss=tf.keras.losses.BinaryCrossentropy(),\n",
    "                optimizer=tf.keras.optimizers.Adam(),\n",
    "                metrics=['accuracy'])\n"
   ]
  },
  {
   "cell_type": "code",
   "execution_count": 50,
   "id": "1947eab9",
   "metadata": {
    "scrolled": true
   },
   "outputs": [
    {
     "name": "stdout",
     "output_type": "stream",
     "text": [
      "Saving Tensorboard logfiles to ./NLP-NLU-Files/model_logs/logs/fits/model_3_rnn/20211123-140526\n",
      "Epoch 1/5\n",
      "215/215 [==============================] - 5s 11ms/step - loss: 0.1550 - accuracy: 0.9368 - val_loss: 0.8193 - val_accuracy: 0.7362\n",
      "Epoch 2/5\n",
      "215/215 [==============================] - 2s 8ms/step - loss: 0.0838 - accuracy: 0.9676 - val_loss: 1.0649 - val_accuracy: 0.7205\n",
      "Epoch 3/5\n",
      "215/215 [==============================] - 2s 8ms/step - loss: 0.0724 - accuracy: 0.9704 - val_loss: 1.0427 - val_accuracy: 0.7139\n",
      "Epoch 4/5\n",
      "215/215 [==============================] - 2s 7ms/step - loss: 0.0632 - accuracy: 0.9718 - val_loss: 1.0623 - val_accuracy: 0.7165\n",
      "Epoch 5/5\n",
      "215/215 [==============================] - 2s 8ms/step - loss: 0.0547 - accuracy: 0.9761 - val_loss: 1.5278 - val_accuracy: 0.7073\n"
     ]
    },
    {
     "data": {
      "text/plain": [
       "<keras.callbacks.History at 0x17ad4fd98b0>"
      ]
     },
     "execution_count": 50,
     "metadata": {},
     "output_type": "execute_result"
    }
   ],
   "source": [
    "model_3.fit(train_sentences,\n",
    "            train_labels,\n",
    "            epochs=5,\n",
    "            validation_data=(val_sentences, val_labels),\n",
    "            callbacks=[create_tensorboard_callback(dir_name=tensorboard_dir,\n",
    "                                                   experiment_name='model_3_rnn')])"
   ]
  },
  {
   "cell_type": "code",
   "execution_count": 51,
   "id": "087dd881",
   "metadata": {},
   "outputs": [],
   "source": [
    "model_3_preds = model_3.predict(val_sentences)\n",
    "model_3_preds = tf.squeeze(tf.round(model_3_preds))"
   ]
  },
  {
   "cell_type": "code",
   "execution_count": 52,
   "id": "9b85f77f",
   "metadata": {},
   "outputs": [
    {
     "data": {
      "text/plain": [
       "{'accuracy': 0.7073490813648294,\n",
       " 'precision': 0.7058307239028039,\n",
       " 'recall': 0.7073490813648294,\n",
       " 'f1-score': 0.7056892126634301}"
      ]
     },
     "execution_count": 52,
     "metadata": {},
     "output_type": "execute_result"
    }
   ],
   "source": [
    "model_3_results = evaluate_model_results(model_3_preds, val_labels)\n",
    "model_3_results"
   ]
  },
  {
   "cell_type": "markdown",
   "id": "c23739c7",
   "metadata": {},
   "source": [
    "#### Model 4 - RNN Bidirectional LSTM"
   ]
  },
  {
   "cell_type": "markdown",
   "id": "150e828f",
   "metadata": {},
   "source": [
    "> Bidirectional LSTM is basically an LSTM the flows both ways, right to left. unlike it's natural algorithm it only reads data from left to right, whereas BLSTM flows from left to right, and also right to left increasing the output shape by twice its original/set shape."
   ]
  },
  {
   "cell_type": "code",
   "execution_count": 53,
   "id": "145cf8f7",
   "metadata": {},
   "outputs": [],
   "source": [
    "from tensorflow.keras.layers import LSTM"
   ]
  },
  {
   "cell_type": "code",
   "execution_count": 54,
   "id": "4da0b538",
   "metadata": {},
   "outputs": [],
   "source": [
    "forward_layer = tf.keras.layers.LSTM(64, return_sequences=True)\n",
    "backward_layer = tf.keras.layers.GRU(64)\n",
    "\n",
    "inputs = tf.keras.layers.Input(shape=(1,), dtype=tf.string)\n",
    "x = text_vectorizer(inputs)\n",
    "x = embedding(x)\n",
    "#x = tf.keras.layers.Bidirectional(forward_layer)(x)\n",
    "x = tf.keras.layers.Bidirectional(LSTM(64))(x)\n",
    "outputs = tf.keras.layers.Dense(1, activation='sigmoid')(x)\n",
    "\n",
    "model_4 = tf.keras.models.Model(inputs, outputs)\n",
    "\n",
    "model_4.compile(loss=tf.keras.losses.BinaryCrossentropy(),\n",
    "                optimizer=tf.keras.optimizers.Adam(),\n",
    "                metrics=['accuracy'])"
   ]
  },
  {
   "cell_type": "code",
   "execution_count": 55,
   "id": "13b4f58b",
   "metadata": {},
   "outputs": [
    {
     "name": "stdout",
     "output_type": "stream",
     "text": [
      "Model: \"model_1\"\n",
      "_________________________________________________________________\n",
      " Layer (type)                Output Shape              Param #   \n",
      "=================================================================\n",
      " input_3 (InputLayer)        [(None, 1)]               0         \n",
      "                                                                 \n",
      " text_vectorization (TextVec  (None, 15)               0         \n",
      " torization)                                                     \n",
      "                                                                 \n",
      " embedding (Embedding)       (None, 15, 128)           1280000   \n",
      "                                                                 \n",
      " bidirectional (Bidirectiona  (None, 128)              98816     \n",
      " l)                                                              \n",
      "                                                                 \n",
      " dense_3 (Dense)             (None, 1)                 129       \n",
      "                                                                 \n",
      "=================================================================\n",
      "Total params: 1,378,945\n",
      "Trainable params: 1,378,945\n",
      "Non-trainable params: 0\n",
      "_________________________________________________________________\n"
     ]
    }
   ],
   "source": [
    "model_4.summary()"
   ]
  },
  {
   "cell_type": "code",
   "execution_count": 56,
   "id": "f529eceb",
   "metadata": {
    "scrolled": true
   },
   "outputs": [
    {
     "name": "stdout",
     "output_type": "stream",
     "text": [
      "Saving Tensorboard logfiles to ./NLP-NLU-Files/model_logs/logs/fits/model_4_rnn/20211123-140538\n",
      "Epoch 1/5\n",
      "215/215 [==============================] - 7s 15ms/step - loss: 0.1021 - accuracy: 0.9705 - val_loss: 1.2444 - val_accuracy: 0.7178\n",
      "Epoch 2/5\n",
      "215/215 [==============================] - 2s 11ms/step - loss: 0.0515 - accuracy: 0.9761 - val_loss: 1.4246 - val_accuracy: 0.7257\n",
      "Epoch 3/5\n",
      "215/215 [==============================] - 2s 10ms/step - loss: 0.0425 - accuracy: 0.9783 - val_loss: 1.5625 - val_accuracy: 0.7205\n",
      "Epoch 4/5\n",
      "215/215 [==============================] - 2s 10ms/step - loss: 0.0427 - accuracy: 0.9797 - val_loss: 1.4998 - val_accuracy: 0.7034\n",
      "Epoch 5/5\n",
      "215/215 [==============================] - 2s 10ms/step - loss: 0.0371 - accuracy: 0.9793 - val_loss: 1.8331 - val_accuracy: 0.7297\n"
     ]
    },
    {
     "data": {
      "text/plain": [
       "<keras.callbacks.History at 0x17aff7e3e20>"
      ]
     },
     "execution_count": 56,
     "metadata": {},
     "output_type": "execute_result"
    }
   ],
   "source": [
    "model_4.fit(train_sentences,\n",
    "            train_labels,\n",
    "            epochs=5,\n",
    "            validation_data=(val_sentences, val_labels),\n",
    "            callbacks=[create_tensorboard_callback(dir_name=tensorboard_dir,\n",
    "                                                   experiment_name='model_4_rnn')])"
   ]
  },
  {
   "cell_type": "code",
   "execution_count": 57,
   "id": "3b9041ff",
   "metadata": {},
   "outputs": [],
   "source": [
    "model_4_preds = model_4.predict(val_sentences)\n",
    "model_4_preds = tf.squeeze(tf.round(model_4_preds))"
   ]
  },
  {
   "cell_type": "code",
   "execution_count": 58,
   "id": "e2424545",
   "metadata": {
    "scrolled": true
   },
   "outputs": [],
   "source": [
    "model_4_results = evaluate_model_results(model_4_preds, val_labels)"
   ]
  },
  {
   "cell_type": "markdown",
   "id": "deae7e7a",
   "metadata": {},
   "source": [
    "> goes both ways thats why its 128"
   ]
  },
  {
   "cell_type": "markdown",
   "id": "63420d41",
   "metadata": {},
   "source": [
    "#### Model 5 - CNN (1D Conv. Neural Networks)"
   ]
  },
  {
   "cell_type": "code",
   "execution_count": 59,
   "id": "4f63fa7a",
   "metadata": {},
   "outputs": [],
   "source": [
    "inputs = tf.keras.layers.Input(shape=(1,), dtype=tf.string)\n",
    "x = text_vectorizer(inputs)\n",
    "x = embedding(x)\n",
    "x = tf.keras.layers.Conv1D(64, 5, activation='relu', strides=1, padding='valid')(x)\n",
    "x = tf.keras.layers.GlobalMaxPool1D()(x)\n",
    "outputs = tf.keras.layers.Dense(1, activation='sigmoid')(x)\n",
    "\n",
    "model_5 = tf.keras.models.Model(inputs, outputs)\n",
    "\n",
    "model_5.compile(loss=tf.keras.losses.BinaryCrossentropy(),\n",
    "                optimizer=tf.keras.optimizers.Adam(),\n",
    "                metrics=['accuracy'])"
   ]
  },
  {
   "cell_type": "code",
   "execution_count": 60,
   "id": "8cf36e7a",
   "metadata": {},
   "outputs": [
    {
     "name": "stdout",
     "output_type": "stream",
     "text": [
      "Model: \"model_2\"\n",
      "_________________________________________________________________\n",
      " Layer (type)                Output Shape              Param #   \n",
      "=================================================================\n",
      " input_4 (InputLayer)        [(None, 1)]               0         \n",
      "                                                                 \n",
      " text_vectorization (TextVec  (None, 15)               0         \n",
      " torization)                                                     \n",
      "                                                                 \n",
      " embedding (Embedding)       (None, 15, 128)           1280000   \n",
      "                                                                 \n",
      " conv1d (Conv1D)             (None, 11, 64)            41024     \n",
      "                                                                 \n",
      " global_max_pooling1d (Globa  (None, 64)               0         \n",
      " lMaxPooling1D)                                                  \n",
      "                                                                 \n",
      " dense_4 (Dense)             (None, 1)                 65        \n",
      "                                                                 \n",
      "=================================================================\n",
      "Total params: 1,321,089\n",
      "Trainable params: 1,321,089\n",
      "Non-trainable params: 0\n",
      "_________________________________________________________________\n"
     ]
    }
   ],
   "source": [
    "model_5.summary()"
   ]
  },
  {
   "cell_type": "code",
   "execution_count": 61,
   "id": "f28138d0",
   "metadata": {},
   "outputs": [
    {
     "name": "stdout",
     "output_type": "stream",
     "text": [
      "Saving Tensorboard logfiles to ./NLP-NLU-Files/model_logs/logs/fits/model_5_cnn/20211123-140555\n",
      "Epoch 1/5\n",
      "215/215 [==============================] - 3s 8ms/step - loss: 0.1215 - accuracy: 0.9593 - val_loss: 1.0623 - val_accuracy: 0.7218\n",
      "Epoch 2/5\n",
      "215/215 [==============================] - 2s 8ms/step - loss: 0.0745 - accuracy: 0.9707 - val_loss: 1.1792 - val_accuracy: 0.7205\n",
      "Epoch 3/5\n",
      "215/215 [==============================] - 1s 7ms/step - loss: 0.0596 - accuracy: 0.9764 - val_loss: 1.3133 - val_accuracy: 0.7139\n",
      "Epoch 4/5\n",
      "215/215 [==============================] - 1s 6ms/step - loss: 0.0529 - accuracy: 0.9768 - val_loss: 1.3839 - val_accuracy: 0.7270\n",
      "Epoch 5/5\n",
      "215/215 [==============================] - 1s 6ms/step - loss: 0.0485 - accuracy: 0.9796 - val_loss: 1.4279 - val_accuracy: 0.7152\n"
     ]
    },
    {
     "data": {
      "text/plain": [
       "<keras.callbacks.History at 0x17b03f8c940>"
      ]
     },
     "execution_count": 61,
     "metadata": {},
     "output_type": "execute_result"
    }
   ],
   "source": [
    "model_5.fit(train_sentences,\n",
    "            train_labels,\n",
    "            epochs=5,\n",
    "            validation_data=(val_sentences, val_labels),\n",
    "            callbacks=[create_tensorboard_callback(dir_name=tensorboard_dir,\n",
    "                                                   experiment_name='model_5_cnn')])"
   ]
  },
  {
   "cell_type": "code",
   "execution_count": 62,
   "id": "a9ac31f2",
   "metadata": {},
   "outputs": [],
   "source": [
    "model_5_preds = model_5.predict(val_sentences)\n",
    "model_5_preds = tf.squeeze(tf.round(model_5_preds))"
   ]
  },
  {
   "cell_type": "code",
   "execution_count": 63,
   "id": "ffd3cbe8",
   "metadata": {},
   "outputs": [
    {
     "data": {
      "text/plain": [
       "{'accuracy': 0.7152230971128609,\n",
       " 'precision': 0.7140863750394281,\n",
       " 'recall': 0.7152230971128609,\n",
       " 'f1-score': 0.7142953089110089}"
      ]
     },
     "execution_count": 63,
     "metadata": {},
     "output_type": "execute_result"
    }
   ],
   "source": [
    "model_5_results = evaluate_model_results(model_5_preds, val_labels)\n",
    "model_5_results"
   ]
  },
  {
   "cell_type": "markdown",
   "id": "4461acbe",
   "metadata": {},
   "source": [
    "> Make padding same and strides to 1, strides would mean each step per word within the sentence"
   ]
  },
  {
   "cell_type": "markdown",
   "id": "fe6728e6",
   "metadata": {},
   "source": [
    "#### Model 6 - Transfer Learning"
   ]
  },
  {
   "cell_type": "markdown",
   "id": "bf59a816",
   "metadata": {},
   "source": [
    "using a pretrained sentence encoder from tensorflow-hub"
   ]
  },
  {
   "cell_type": "code",
   "execution_count": 64,
   "id": "098ee07f",
   "metadata": {},
   "outputs": [],
   "source": [
    "#module_url = \"https://tfhub.dev/google/universal-sentence-encoder/4\" #@param [\"https://tfhub.dev/google/universal-sentence-encoder/4\", \"https://tfhub.dev/google/universal-sentence-encoder-large/5\"]\n",
    "sentence_encoder_layer = hub.KerasLayer(\"https://tfhub.dev/google/universal-sentence-encoder/4\",\n",
    "                                       input_shape=[],\n",
    "                                       dtype=tf.string,\n",
    "                                       trainable=False,\n",
    "                                       name='USE')"
   ]
  },
  {
   "cell_type": "code",
   "execution_count": 87,
   "id": "dc3cd576",
   "metadata": {},
   "outputs": [],
   "source": [
    "model_6 = tf.keras.Sequential([\n",
    "    sentence_encoder_layer,\n",
    "    tf.keras.layers.Dense(128, activation='relu'),\n",
    "    tf.keras.layers.Dense(1, activation='sigmoid')\n",
    "], name='Model_6_USE')\n",
    "\n",
    "model_6.compile(loss=tf.keras.losses.BinaryCrossentropy(),\n",
    "                optimizer=tf.keras.optimizers.Adam(),\n",
    "                metrics=['accuracy'])"
   ]
  },
  {
   "cell_type": "code",
   "execution_count": 88,
   "id": "d36620a6",
   "metadata": {},
   "outputs": [
    {
     "name": "stdout",
     "output_type": "stream",
     "text": [
      "Model: \"Model_6_USE\"\n",
      "_________________________________________________________________\n",
      " Layer (type)                Output Shape              Param #   \n",
      "=================================================================\n",
      " USE (KerasLayer)            (None, 512)               256797824 \n",
      "                                                                 \n",
      " dense_7 (Dense)             (None, 128)               65664     \n",
      "                                                                 \n",
      " dense_8 (Dense)             (None, 1)                 129       \n",
      "                                                                 \n",
      "=================================================================\n",
      "Total params: 256,863,617\n",
      "Trainable params: 65,793\n",
      "Non-trainable params: 256,797,824\n",
      "_________________________________________________________________\n"
     ]
    }
   ],
   "source": [
    "model_6.summary()"
   ]
  },
  {
   "cell_type": "code",
   "execution_count": 89,
   "id": "f6273fb3",
   "metadata": {},
   "outputs": [
    {
     "name": "stdout",
     "output_type": "stream",
     "text": [
      "Saving Tensorboard logfiles to ./NLP-NLU-Files/model_logs/logs/fits/model_6_transferlearning/20211123-140823\n",
      "Epoch 1/5\n",
      "215/215 [==============================] - 6s 18ms/step - loss: 0.4810 - accuracy: 0.7901 - val_loss: 0.4729 - val_accuracy: 0.7913\n",
      "Epoch 2/5\n",
      "215/215 [==============================] - 3s 16ms/step - loss: 0.4048 - accuracy: 0.8210 - val_loss: 0.4699 - val_accuracy: 0.7979\n",
      "Epoch 3/5\n",
      "215/215 [==============================] - 3s 16ms/step - loss: 0.3885 - accuracy: 0.8281 - val_loss: 0.4755 - val_accuracy: 0.8031\n",
      "Epoch 4/5\n",
      "215/215 [==============================] - 3s 16ms/step - loss: 0.3803 - accuracy: 0.8345 - val_loss: 0.4725 - val_accuracy: 0.8045\n",
      "Epoch 5/5\n",
      "215/215 [==============================] - 3s 16ms/step - loss: 0.3688 - accuracy: 0.8409 - val_loss: 0.4711 - val_accuracy: 0.8045\n"
     ]
    }
   ],
   "source": [
    "history_model_6 = model_6.fit(train_sentences,\n",
    "            train_labels,\n",
    "            epochs=5,\n",
    "            validation_data=(val_sentences, val_labels),\n",
    "            callbacks=[create_tensorboard_callback(dir_name=tensorboard_dir,\n",
    "                                                   experiment_name='model_6_transferlearning')])"
   ]
  },
  {
   "cell_type": "code",
   "execution_count": 90,
   "id": "d1a847ca",
   "metadata": {},
   "outputs": [
    {
     "name": "stdout",
     "output_type": "stream",
     "text": [
      "24/24 [==============================] - 0s 15ms/step - loss: 0.4711 - accuracy: 0.8045\n"
     ]
    },
    {
     "data": {
      "text/plain": [
       "[0.47109031677246094, 0.8044619560241699]"
      ]
     },
     "execution_count": 90,
     "metadata": {},
     "output_type": "execute_result"
    }
   ],
   "source": [
    "model_6.evaluate(val_sentences, val_labels)"
   ]
  },
  {
   "cell_type": "code",
   "execution_count": 91,
   "id": "dd0ca08c",
   "metadata": {},
   "outputs": [],
   "source": [
    "model_6_preds = model_6.predict(val_sentences)\n",
    "model_6_preds = tf.squeeze(tf.round(model_6_preds))"
   ]
  },
  {
   "cell_type": "code",
   "execution_count": 92,
   "id": "fb46f1ad",
   "metadata": {},
   "outputs": [
    {
     "data": {
      "text/plain": [
       "{'accuracy': 0.8044619422572179,\n",
       " 'precision': 0.8076205528769484,\n",
       " 'recall': 0.8044619422572179,\n",
       " 'f1-score': 0.8016339883780326}"
      ]
     },
     "execution_count": 92,
     "metadata": {},
     "output_type": "execute_result"
    }
   ],
   "source": [
    "model_6_results = evaluate_model_results(model_6_preds, val_labels)\n",
    "model_6_results"
   ]
  },
  {
   "cell_type": "markdown",
   "id": "5616ab48",
   "metadata": {},
   "source": [
    "#### Model 7 - Transfer Learning 10% Data"
   ]
  },
  {
   "cell_type": "code",
   "execution_count": 93,
   "id": "80103082",
   "metadata": {},
   "outputs": [
    {
     "data": {
      "text/plain": [
       "0    420\n",
       "1    333\n",
       "dtype: int64"
      ]
     },
     "execution_count": 93,
     "metadata": {},
     "output_type": "execute_result"
    }
   ],
   "source": [
    "train_10_percent_split = int(0.11 * len(train_sentences))\n",
    "train_sentences_10_percent = train_sentences[:train_10_percent_split]\n",
    "train_labels_10_percent = train_labels[:train_10_percent_split]\n",
    "\n",
    "pd.Series(np.array(train_labels_10_percent)).value_counts()"
   ]
  },
  {
   "cell_type": "code",
   "execution_count": 94,
   "id": "602d133c",
   "metadata": {},
   "outputs": [
    {
     "data": {
      "text/plain": [
       "0    4342\n",
       "1    3271\n",
       "Name: target, dtype: int64"
      ]
     },
     "execution_count": 94,
     "metadata": {},
     "output_type": "execute_result"
    }
   ],
   "source": [
    "train_df_shuffled['target'].value_counts()"
   ]
  },
  {
   "cell_type": "code",
   "execution_count": 95,
   "id": "73d7ea39",
   "metadata": {},
   "outputs": [
    {
     "name": "stdout",
     "output_type": "stream",
     "text": [
      "Saving Tensorboard logfiles to ./NLP-NLU-Files/model_logs/logs/fits/model_7_10_percent/20211123-140856\n",
      "Epoch 1/5\n",
      "24/24 [==============================] - 5s 66ms/step - loss: 0.6606 - accuracy: 0.7198 - val_loss: 0.6247 - val_accuracy: 0.7559\n",
      "Epoch 2/5\n",
      "24/24 [==============================] - 1s 35ms/step - loss: 0.5591 - accuracy: 0.8141 - val_loss: 0.5437 - val_accuracy: 0.7690\n",
      "Epoch 3/5\n",
      "24/24 [==============================] - 1s 31ms/step - loss: 0.4694 - accuracy: 0.8260 - val_loss: 0.5003 - val_accuracy: 0.7677\n",
      "Epoch 4/5\n",
      "24/24 [==============================] - 1s 36ms/step - loss: 0.4121 - accuracy: 0.8393 - val_loss: 0.4891 - val_accuracy: 0.7638\n",
      "Epoch 5/5\n",
      "24/24 [==============================] - 1s 33ms/step - loss: 0.3811 - accuracy: 0.8459 - val_loss: 0.4910 - val_accuracy: 0.7572\n"
     ]
    },
    {
     "data": {
      "text/plain": [
       "<keras.callbacks.History at 0x17b89689a00>"
      ]
     },
     "execution_count": 95,
     "metadata": {},
     "output_type": "execute_result"
    }
   ],
   "source": [
    "model_7 = tf.keras.models.clone_model(model_6)\n",
    "\n",
    "model_7.compile(loss=tf.keras.losses.BinaryCrossentropy(),\n",
    "                optimizer=tf.keras.optimizers.Adam(),\n",
    "                metrics=['accuracy'])\n",
    "\n",
    "model_7.fit(train_sentences_10_percent,\n",
    "            train_labels_10_percent,\n",
    "            epochs=5,\n",
    "            validation_data=(val_sentences, val_labels),\n",
    "            callbacks=[create_tensorboard_callback(dir_name=tensorboard_dir,\n",
    "                                                   experiment_name='model_7_10_percent')]\n",
    "            )"
   ]
  },
  {
   "cell_type": "code",
   "execution_count": 96,
   "id": "53ee0752",
   "metadata": {},
   "outputs": [],
   "source": [
    "model_7_preds = model_7.predict(val_sentences)\n",
    "model_7_preds = tf.squeeze(tf.round(model_7_preds))"
   ]
  },
  {
   "cell_type": "code",
   "execution_count": 97,
   "id": "5fbdb3b1",
   "metadata": {},
   "outputs": [
    {
     "data": {
      "text/plain": [
       "{'accuracy': 0.7572178477690289,\n",
       " 'precision': 0.7564426380031116,\n",
       " 'recall': 0.7572178477690289,\n",
       " 'f1-score': 0.7565332575067626}"
      ]
     },
     "execution_count": 97,
     "metadata": {},
     "output_type": "execute_result"
    }
   ],
   "source": [
    "model_7_results = evaluate_model_results(model_7_preds, val_labels)\n",
    "model_7_results"
   ]
  },
  {
   "cell_type": "markdown",
   "id": "7ec06453",
   "metadata": {},
   "source": [
    "### Comparing Results"
   ]
  },
  {
   "cell_type": "code",
   "execution_count": 98,
   "id": "979d1d8f",
   "metadata": {},
   "outputs": [],
   "source": [
    "all_model_results = pd.DataFrame({\n",
    "    '0_baseline' : model_0_results,\n",
    "    '1_dense_layer' : model_1_results,\n",
    "    '2_LSTM' : model_2_results,\n",
    "    '3_GRU' : model_3_results,\n",
    "    '4_bidirectional' : model_4_results,\n",
    "    '5_conv1d' : model_5_results,\n",
    "    '6_tf_hub_use_encoder' : model_6_results,\n",
    "    '7_tf_hub_use_encoder_10_percent' : model_7_results,\n",
    "})"
   ]
  },
  {
   "cell_type": "code",
   "execution_count": 99,
   "id": "e429efbf",
   "metadata": {},
   "outputs": [],
   "source": [
    "all_model_results = all_model_results.transpose()"
   ]
  },
  {
   "cell_type": "code",
   "execution_count": 100,
   "id": "0e860911",
   "metadata": {},
   "outputs": [
    {
     "data": {
      "text/plain": [
       "Index(['accuracy', 'precision', 'recall', 'f1-score'], dtype='object')"
      ]
     },
     "execution_count": 100,
     "metadata": {},
     "output_type": "execute_result"
    }
   ],
   "source": [
    "all_model_results.columns"
   ]
  },
  {
   "cell_type": "code",
   "execution_count": 101,
   "id": "64f267c9",
   "metadata": {},
   "outputs": [],
   "source": [
    "for column in all_model_results.columns:\n",
    "    all_model_results[column] = all_model_results[column]*100"
   ]
  },
  {
   "cell_type": "code",
   "execution_count": 102,
   "id": "9c819709",
   "metadata": {},
   "outputs": [
    {
     "data": {
      "text/html": [
       "<div>\n",
       "<style scoped>\n",
       "    .dataframe tbody tr th:only-of-type {\n",
       "        vertical-align: middle;\n",
       "    }\n",
       "\n",
       "    .dataframe tbody tr th {\n",
       "        vertical-align: top;\n",
       "    }\n",
       "\n",
       "    .dataframe thead th {\n",
       "        text-align: right;\n",
       "    }\n",
       "</style>\n",
       "<table border=\"1\" class=\"dataframe\">\n",
       "  <thead>\n",
       "    <tr style=\"text-align: right;\">\n",
       "      <th></th>\n",
       "      <th>accuracy</th>\n",
       "      <th>precision</th>\n",
       "      <th>recall</th>\n",
       "      <th>f1-score</th>\n",
       "    </tr>\n",
       "  </thead>\n",
       "  <tbody>\n",
       "    <tr>\n",
       "      <th>0_baseline</th>\n",
       "      <td>79.527559</td>\n",
       "      <td>84.152842</td>\n",
       "      <td>79.527559</td>\n",
       "      <td>80.321138</td>\n",
       "    </tr>\n",
       "    <tr>\n",
       "      <th>1_dense_layer</th>\n",
       "      <td>76.640420</td>\n",
       "      <td>76.712319</td>\n",
       "      <td>76.640420</td>\n",
       "      <td>76.360627</td>\n",
       "    </tr>\n",
       "    <tr>\n",
       "      <th>2_LSTM</th>\n",
       "      <td>73.622047</td>\n",
       "      <td>73.518974</td>\n",
       "      <td>73.622047</td>\n",
       "      <td>73.524161</td>\n",
       "    </tr>\n",
       "    <tr>\n",
       "      <th>3_GRU</th>\n",
       "      <td>70.734908</td>\n",
       "      <td>70.583072</td>\n",
       "      <td>70.734908</td>\n",
       "      <td>70.568921</td>\n",
       "    </tr>\n",
       "    <tr>\n",
       "      <th>4_bidirectional</th>\n",
       "      <td>72.965879</td>\n",
       "      <td>73.373171</td>\n",
       "      <td>72.965879</td>\n",
       "      <td>72.265034</td>\n",
       "    </tr>\n",
       "    <tr>\n",
       "      <th>5_conv1d</th>\n",
       "      <td>71.522310</td>\n",
       "      <td>71.408638</td>\n",
       "      <td>71.522310</td>\n",
       "      <td>71.429531</td>\n",
       "    </tr>\n",
       "    <tr>\n",
       "      <th>6_tf_hub_use_encoder</th>\n",
       "      <td>80.446194</td>\n",
       "      <td>80.762055</td>\n",
       "      <td>80.446194</td>\n",
       "      <td>80.163399</td>\n",
       "    </tr>\n",
       "    <tr>\n",
       "      <th>7_tf_hub_use_encoder_10_percent</th>\n",
       "      <td>75.721785</td>\n",
       "      <td>75.644264</td>\n",
       "      <td>75.721785</td>\n",
       "      <td>75.653326</td>\n",
       "    </tr>\n",
       "  </tbody>\n",
       "</table>\n",
       "</div>"
      ],
      "text/plain": [
       "                                  accuracy  precision     recall   f1-score\n",
       "0_baseline                       79.527559  84.152842  79.527559  80.321138\n",
       "1_dense_layer                    76.640420  76.712319  76.640420  76.360627\n",
       "2_LSTM                           73.622047  73.518974  73.622047  73.524161\n",
       "3_GRU                            70.734908  70.583072  70.734908  70.568921\n",
       "4_bidirectional                  72.965879  73.373171  72.965879  72.265034\n",
       "5_conv1d                         71.522310  71.408638  71.522310  71.429531\n",
       "6_tf_hub_use_encoder             80.446194  80.762055  80.446194  80.163399\n",
       "7_tf_hub_use_encoder_10_percent  75.721785  75.644264  75.721785  75.653326"
      ]
     },
     "execution_count": 102,
     "metadata": {},
     "output_type": "execute_result"
    }
   ],
   "source": [
    "all_model_results"
   ]
  },
  {
   "cell_type": "code",
   "execution_count": 103,
   "id": "0c4f8cbe",
   "metadata": {
    "scrolled": true
   },
   "outputs": [
    {
     "data": {
      "image/png": "[encoded data removed]",
      "text/plain": [
       "<Figure size 720x504 with 1 Axes>"
      ]
     },
     "metadata": {
      "needs_background": "light"
     },
     "output_type": "display_data"
    }
   ],
   "source": [
    "all_model_results.plot(kind='bar', figsize=(10,7)).legend(loc='lower right');\n"
   ]
  },
  {
   "cell_type": "code",
   "execution_count": 83,
   "id": "8f9d8587",
   "metadata": {},
   "outputs": [
    {
     "data": {
      "text/plain": [
       "Reusing TensorBoard on port 6006 (pid 33168), started 0:02:49 ago. (Use '!kill 33168' to kill it.)"
      ]
     },
     "metadata": {},
     "output_type": "display_data"
    },
    {
     "data": {
      "text/html": [
       "\n",
       "      <iframe id=\"tensorboard-frame-e5daf5c79224eaab\" width=\"100%\" height=\"800\" frameborder=\"0\">\n",
       "      </iframe>\n",
       "      <script>\n",
       "        (function() {\n",
       "          const frame = document.getElementById(\"tensorboard-frame-e5daf5c79224eaab\");\n",
       "          const url = new URL(\"/\", window.location);\n",
       "          const port = 6006;\n",
       "          if (port) {\n",
       "            url.port = port;\n",
       "          }\n",
       "          frame.src = url;\n",
       "        })();\n",
       "      </script>\n",
       "    "
      ],
      "text/plain": [
       "<IPython.core.display.HTML object>"
      ]
     },
     "metadata": {},
     "output_type": "display_data"
    }
   ],
   "source": [
    "%load_ext tensorboard\n",
    "%tensorboard --logdir='./NLP-NLU-Files/model_logs/'"
   ]
  },
  {
   "cell_type": "markdown",
   "id": "ea8d605a",
   "metadata": {},
   "source": [
    "### Plotting the Most Wrong predictions"
   ]
  },
  {
   "cell_type": "code",
   "execution_count": 184,
   "id": "d7b0451b",
   "metadata": {},
   "outputs": [],
   "source": [
    "model_6_pred_proba = model_6.predict(val_sentences)\n",
    "model_6_pred_proba = tf.squeeze(model_6_pred_proba)\n"
   ]
  },
  {
   "cell_type": "code",
   "execution_count": 190,
   "id": "e716808d",
   "metadata": {},
   "outputs": [
    {
     "data": {
      "text/html": [
       "<div>\n",
       "<style scoped>\n",
       "    .dataframe tbody tr th:only-of-type {\n",
       "        vertical-align: middle;\n",
       "    }\n",
       "\n",
       "    .dataframe tbody tr th {\n",
       "        vertical-align: top;\n",
       "    }\n",
       "\n",
       "    .dataframe thead th {\n",
       "        text-align: right;\n",
       "    }\n",
       "</style>\n",
       "<table border=\"1\" class=\"dataframe\">\n",
       "  <thead>\n",
       "    <tr style=\"text-align: right;\">\n",
       "      <th></th>\n",
       "      <th>sentence</th>\n",
       "      <th>prediction</th>\n",
       "      <th>true_label</th>\n",
       "      <th>pred_proba</th>\n",
       "    </tr>\n",
       "  </thead>\n",
       "  <tbody>\n",
       "    <tr>\n",
       "      <th>0</th>\n",
       "      <td>Episcopal priests on road trip with interracia...</td>\n",
       "      <td>1.0</td>\n",
       "      <td>0</td>\n",
       "      <td>0.969841</td>\n",
       "    </tr>\n",
       "    <tr>\n",
       "      <th>1</th>\n",
       "      <td>We should all have a fire safety plan. RT @Mat...</td>\n",
       "      <td>1.0</td>\n",
       "      <td>0</td>\n",
       "      <td>0.938825</td>\n",
       "    </tr>\n",
       "    <tr>\n",
       "      <th>2</th>\n",
       "      <td>#stlouis #caraccidentlawyer Speeding Among Top...</td>\n",
       "      <td>1.0</td>\n",
       "      <td>0</td>\n",
       "      <td>0.910145</td>\n",
       "    </tr>\n",
       "    <tr>\n",
       "      <th>3</th>\n",
       "      <td>San Jose Mercury: Governor Brown allows parole...</td>\n",
       "      <td>1.0</td>\n",
       "      <td>0</td>\n",
       "      <td>0.903883</td>\n",
       "    </tr>\n",
       "    <tr>\n",
       "      <th>4</th>\n",
       "      <td>@mickinyman @TheAtlantic That or they might be...</td>\n",
       "      <td>1.0</td>\n",
       "      <td>0</td>\n",
       "      <td>0.899057</td>\n",
       "    </tr>\n",
       "  </tbody>\n",
       "</table>\n",
       "</div>"
      ],
      "text/plain": [
       "                                            sentence  prediction  true_label  pred_proba\n",
       "0  Episcopal priests on road trip with interracia...         1.0           0    0.969841\n",
       "1  We should all have a fire safety plan. RT @Mat...         1.0           0    0.938825\n",
       "2  #stlouis #caraccidentlawyer Speeding Among Top...         1.0           0    0.910145\n",
       "3  San Jose Mercury: Governor Brown allows parole...         1.0           0    0.903883\n",
       "4  @mickinyman @TheAtlantic That or they might be...         1.0           0    0.899057"
      ]
     },
     "execution_count": 190,
     "metadata": {},
     "output_type": "execute_result"
    }
   ],
   "source": [
    "most_wrong_preds = pd.DataFrame({\n",
    "    'sentence': val_sentences,\n",
    "    'prediction': model_6_preds,\n",
    "    'true_label': val_labels,\n",
    "    'pred_proba': model_6_pred_proba\n",
    "})\n",
    "most_wrong_preds = most_wrong_preds[most_wrong_preds['prediction'] != most_wrong_preds['true_label']]\n",
    "most_wrong_preds = most_wrong_preds.sort_values(by='pred_proba', ascending=False).reset_index(drop=True)\n",
    "most_wrong_preds[:5]"
   ]
  },
  {
   "cell_type": "code",
   "execution_count": 203,
   "id": "86192d5f",
   "metadata": {
    "scrolled": false
   },
   "outputs": [
    {
     "name": "stdout",
     "output_type": "stream",
     "text": [
      "Probability: 0.9698408246040344, Prediction: 1.0 | True:0\n",
      " Episcopal priests on road trip with interracial family shares harrowing story of police harassment http://t.co/RG4JIsHyBs via @dailykos \n",
      "\n",
      "------\n",
      "\n",
      "Probability: 0.9388247132301331, Prediction: 1.0 | True:0\n",
      " We should all have a fire safety plan. RT @Matt_Kroschel: MOCK WILDFIRE near #Vail as agencies prepare for the worst. http://t.co/SWwyLRk0fv \n",
      "\n",
      "------\n",
      "\n",
      "Probability: 0.9101449847221375, Prediction: 1.0 | True:0\n",
      " #stlouis #caraccidentlawyer Speeding Among Top Causes of Teen Accidents https://t.co/k4zoMOF319 https://t.co/S2kXVM0cBA Car Accident teeÛ_ \n",
      "\n",
      "------\n",
      "\n",
      "Probability: 0.9038833379745483, Prediction: 1.0 | True:0\n",
      " San Jose Mercury: Governor Brown allows parole for California school bus hijacker  http://t.co/GpCeCp9kHv \n",
      "\n",
      "------\n",
      "\n",
      "Probability: 0.8990566730499268, Prediction: 1.0 | True:0\n",
      " @mickinyman @TheAtlantic That or they might be killed in an airplane accident in the night a car wreck! Politics at it's best. \n",
      "\n",
      "------\n",
      "\n"
     ]
    }
   ],
   "source": [
    "for i in range(0, 5):\n",
    "    print(f'Probability: {most_wrong_preds.pred_proba[i]}, Prediction: {most_wrong_preds.prediction[i]} | True:{most_wrong_preds.true_label[i]}\\n',\n",
    "          f'{most_wrong_preds.sentence[i]}',\n",
    "         '\\n\\n------\\n')"
   ]
  },
  {
   "cell_type": "markdown",
   "id": "9a160bed",
   "metadata": {},
   "source": [
    "### Takeaways and Conclusions\n",
    "🔑 RNN's are useful for sequence data.\n",
    "\n",
    "* When stacking use **`return_sequences`**, it basically returns its **timesteps/feature** from the embedding layer. Based from the documentation, the LSTM model takes in **3 inputs `[batch, timesteps, feature]`** not 2, if we don't retain the layer we'll be having an error with its shape when passing it to the next LSTM layer.\n",
    "\n",
    "> when building your own model from scratch, again never forget to convert them into of numerical value, and in NLP's case embedding them\n",
    "\n",
    "\n",
    "* From Model 1-5 our models seem to be overfitting the train data,  \n",
    "\n",
    "> we can try using or feeding them more data, or use these models on a dataset that's more complicated\n",
    " since our dataset is relatively small, a simpler model would be a better fit for this or a transfer learning model\n",
    "\n",
    "\n",
    "> Transfer Learning also works with less data, even with less data it can find patterns.\n",
    "feeding it to a large model, if it tends to overfit give it more data, or simplify the model\n",
    "  \n",
    "   \n",
    "👾 Transfer Learning Models  \n",
    "[HuggingFace](https://huggingface.co/)  \n",
    "[TensorFlow-Hub](https://tfhub.dev/)  \n",
    "\n",
    "#### TODO\n",
    "\n",
    "Explore these resources  \n",
    "~~[MIT Sequence Modelling](https://www.youtube.com/watch?v=qjrad0V0uJE&list=PLtBw6njQRU-rwp5__7C0oIVt26ZgjG9NI&ab_channel=AlexanderAmini)~~   \n",
    "[Chris Olah's Intro to LSTMs](https://colah.github.io/posts/2015-08-Understanding-LSTMs/)  \n",
    "[Andrej Karpathy unreasonable effectiveness of recurrent neural networks](http://karpathy.github.io/2015/05/21/rnn-effectiveness/)  \n",
    "~~[Jay Alammar's Word2Vec](https://jalammar.github.io/illustrated-word2vec/)~~  \n",
    "[Recurrent Neural Networks (RNN) and Long Short-Term Memory (LSTM)](https://www.youtube.com/watch?v=WCUNPb-5EYI&t=297s&ab_channel=BrandonRohrer)"
   ]
  },
  {
   "cell_type": "code",
   "execution_count": null,
   "id": "045505c2",
   "metadata": {},
   "outputs": [],
   "source": []
  }
 ],
 "metadata": {
  "kernelspec": {
   "display_name": "Python 3",
   "language": "python",
   "name": "python3"
  },
  "language_info": {
   "codemirror_mode": {
    "name": "ipython",
    "version": 3
   },
   "file_extension": ".py",
   "mimetype": "text/x-python",
   "name": "python",
   "nbconvert_exporter": "python",
   "pygments_lexer": "ipython3",
   "version": "3.8.8"
  },
  "toc": {
   "base_numbering": 1,
   "nav_menu": {},
   "number_sections": true,
   "sideBar": true,
   "skip_h1_title": false,
   "title_cell": "Table of Contents",
   "title_sidebar": "Contents",
   "toc_cell": false,
   "toc_position": {
    "height": "747px",
    "left": "92px",
    "top": "111.125px",
    "width": "375px"
   },
   "toc_section_display": true,
   "toc_window_display": true
  }
 },
 "nbformat": 4,
 "nbformat_minor": 5
}
