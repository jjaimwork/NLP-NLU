{
 "cells": [
  {
   "cell_type": "markdown",
   "id": "6594ef8a",
   "metadata": {},
   "source": [
    "### What We're Building (SKIMLIT)\n",
    "\n",
    "We're building Skimlit, it takes in research data and generates a classification between 5 classes namely `['METHODS', 'RESULTS', 'CONCLUSIONS', 'BACKGROUND, 'OBJECTIVE']` to make them easily readable, well skimmed.\n",
    "\n",
    "\n",
    "**Based from the experimentation notebook and what we got so far.** \n",
    "(code first, deep dive later approach)\n",
    "\n",
    "**Q.** Why use softmax?\n",
    "> **A.** `softmax` is used for multiclass classification, whereas `sigmoid` is used for binary classification\n",
    "\n",
    "**Q.** Why did we use only 95% of the percentile to get the `output_seq_len `?\n",
    "> **A.** (applies to both text and character) Reason being would be, taking the `max` would create unnecessary noise within the tokenizer, whilst using the `95% percentile` would mean, using what's mostly common or should we say relevant.\n",
    "  \n",
    "**Q.** Why did we generate a sliced dataset?\n",
    "> **A.** Similar to our Computer Vision project, we need to set them up as tensors, along with prefetching among the data would make our **training time less than usual, and since we're working with text data, we can't just set a simple train and test set, we should turn everything numerical first and turn them into batches before feeding the data to our machine learning algorithm.**\n",
    "\n",
    "**Q.** Why can't I set USE to trainable?\n",
    "> **A.** by our resources aren't enough to let it train, plus we can't selectively enable layers unlike EffNetb0 from our computer vision project.\n",
    "\n",
    "**Q.** Why did we use Alphabet for creating our character tokenizer?\n",
    "> **A.** It's because we'll use it as `max tokens` for our character vectorizer\n",
    "\n",
    "**Q.** Why isn't LSTM working for Character Modelling?\n",
    "> **A.** The wide amount of combinations of words based from a character would make it hard for our model to learn, from the name itself `LONG SHORT TERM MEMORY`, it takes in previous character but then forgets it after.\n",
    " \n",
    "**IF** we don't get a good enough results from each model(specifically text tokens and character tokens), what we could do is build a hybrid model, where we use both of text and characters as the preprocessing layer then combine/concatenate the weights and biases taken from both models and then filter them towards our output.\n",
    "\n",
    "**Q.** How do we choose a character model and text model?\n",
    "> **A.** Through various model experimentations, we can first build a text vectorizer, embedding for the text models and find which among the different models are effective, and then do it again for the characters.\n",
    "\n",
    "**Q.** Why do we build a different Datasets for both train sentence, and train characters?\n",
    "> **A.** Again we need to preprocess data before feeding it to our model, it's so we dont encounter any errors, and if we do it's mostly about shapes and our datasets."
   ]
  },
  {
   "cell_type": "code",
   "execution_count": 1,
   "id": "7e85a1d0",
   "metadata": {},
   "outputs": [],
   "source": [
    "### Loading Libraries and Modules\n",
    "import tensorflow as tf\n",
    "import pandas as pd\n",
    "import numpy as np\n",
    "import json\n",
    "\n",
    "from sklearn.preprocessing import OneHotEncoder, LabelEncoder\n",
    "\n",
    "from helper_functions import loop_through_files\n",
    "from helper_functions import create_checkpoint_callback, create_early_stopping_callback, create_reduce_lr_callback, create_tensorboard_callback\n",
    "from helper_functions import plot_history_curves\n",
    "from helper_functions import evaluate_model_results, evaluate_text_preds"
   ]
  },
  {
   "cell_type": "markdown",
   "id": "30055920",
   "metadata": {},
   "source": [
    "### Readying up the Data"
   ]
  },
  {
   "cell_type": "code",
   "execution_count": 2,
   "id": "ee74ea5e",
   "metadata": {},
   "outputs": [],
   "source": [
    "data_dir = '../../../Datasets/pubmed-rct-master/PubMed_20k_RCT_numbers_replaced_with_at_sign/'"
   ]
  },
  {
   "cell_type": "code",
   "execution_count": 3,
   "id": "d2b409a4",
   "metadata": {},
   "outputs": [
    {
     "name": "stdout",
     "output_type": "stream",
     "text": [
      "['dev.txt', 'outside_text.json', 'outside_text.txt', 'test.txt', 'train.txt']\n",
      "There are 0 directories and 5 files in '../../../Datasets/pubmed-rct-master/PubMed_20k_RCT_numbers_replaced_with_at_sign/'.\n"
     ]
    }
   ],
   "source": [
    "loop_through_files(data_dir)"
   ]
  },
  {
   "cell_type": "markdown",
   "id": "eadd6b7f",
   "metadata": {},
   "source": [
    "#### Preprocessing the Data"
   ]
  },
  {
   "cell_type": "code",
   "execution_count": 4,
   "id": "36e4f67b",
   "metadata": {},
   "outputs": [],
   "source": [
    "def get_lines(filename, data_dir=data_dir):\n",
    "    #print(data_dir+filename)\n",
    "    with open(data_dir+filename+'.txt', \"r\", encoding='utf-8-sig') as f:\n",
    "        return f.readlines()"
   ]
  },
  {
   "cell_type": "code",
   "execution_count": 5,
   "id": "31ee0032",
   "metadata": {},
   "outputs": [],
   "source": [
    "test_text = get_lines('test')\n",
    "train_text = get_lines('train')"
   ]
  },
  {
   "cell_type": "markdown",
   "id": "590c5e5d",
   "metadata": {},
   "source": [
    "We'll need to convert our data into a dictionary.  \n",
    "From:   \n",
    "> `['###24845963\\n',\n",
    " 'BACKGROUND\\tThis study analyzed liver function abnormalities in heart failure patients admitted with severe acute decompensated heart failure ( ADHF ) .\\n',\n",
    " 'RESULTS\\tA post hoc analysis was conducted with the use of data from the Evaluation Study of Congestive Heart Failure and Pulmonary Artery Catheterization Effectiveness ( ESCAPE ) .\\n',\n",
    " 'RESULTS\\tLiver function tests ( LFTs ) were measured at @ time points from baseline , at discharge , and up to @ months follow-up .\\n', ...] `   \n",
    "\n",
    "To:  \n",
    ">`[{'target': 'BACKGROUND',\n",
    "  'text': 'this study analyzed liver function abnormalities in heart failure patients admitted with severe acute decompensated heart failure ( adhf ) .',\n",
    "  'line_number': 0,\n",
    "  'total_lines': 8}, ...]`\n",
    "  \n",
    "and then feed it to our pandas DataFrame so we can have an easier way of workflow."
   ]
  },
  {
   "cell_type": "code",
   "execution_count": 6,
   "id": "cfb47a21",
   "metadata": {},
   "outputs": [],
   "source": [
    "def preprocess_text_with_line_numbers(filenames):\n",
    "    input_lines = get_lines(filenames)\n",
    "    abstract_lines = \"\"\n",
    "    abstract_samples = []\n",
    "    for line in input_lines:\n",
    "        if line.startswith('###'):\n",
    "            abstract_id = line\n",
    "            abstract_lines = \"\"\n",
    "        elif line.isspace():\n",
    "            abstract_line_split = abstract_lines.splitlines()\n",
    "            \n",
    "            for abstract_line_number, abstact_line in enumerate(abstract_line_split):\n",
    "                line_data = {}\n",
    "                target_text_split = abstact_line.split(\"\\t\")\n",
    "                line_data['target'] = target_text_split[0]\n",
    "                line_data['text'] = target_text_split[1].lower()\n",
    "                line_data['line_number'] = abstract_line_number\n",
    "                line_data['total_lines'] = len(abstract_line_split) -1\n",
    "                abstract_samples.append(line_data)\n",
    "        else:\n",
    "            abstract_lines += line\n",
    "            \n",
    "    return abstract_samples"
   ]
  },
  {
   "cell_type": "code",
   "execution_count": 7,
   "id": "f5bb27dd",
   "metadata": {},
   "outputs": [],
   "source": [
    "train_data = preprocess_text_with_line_numbers('train')\n",
    "test_data = preprocess_text_with_line_numbers('test')\n",
    "val_data = preprocess_text_with_line_numbers('dev')"
   ]
  },
  {
   "cell_type": "code",
   "execution_count": 8,
   "id": "3593b147",
   "metadata": {},
   "outputs": [],
   "source": [
    "train_df = pd.DataFrame(train_data)\n",
    "test_df = pd.DataFrame(test_data)\n",
    "val_df = pd.DataFrame(val_data)"
   ]
  },
  {
   "cell_type": "code",
   "execution_count": 9,
   "id": "4ed1583c",
   "metadata": {},
   "outputs": [],
   "source": [
    "len_cat = train_df.target.nunique()"
   ]
  },
  {
   "cell_type": "code",
   "execution_count": 10,
   "id": "a7b69519",
   "metadata": {},
   "outputs": [],
   "source": [
    "train_sentences = train_df['text'].to_list()\n",
    "val_sentences = val_df['text'].to_list()\n",
    "test_sentences = test_df['text'].to_list()"
   ]
  },
  {
   "cell_type": "markdown",
   "id": "87a9b90a",
   "metadata": {},
   "source": [
    "##### Converting our Target variables to Numerical Value\n",
    "\n",
    "Remember we'd want our data to be of numerical value and of normalized values, specifically from 0 to 1's\n",
    "this is likely to help our model learn faster and cleaner than having numerical values of different values that has a high range of highs and lows -which could affect training and learning patterns."
   ]
  },
  {
   "cell_type": "code",
   "execution_count": 11,
   "id": "d58caff5",
   "metadata": {},
   "outputs": [],
   "source": [
    "# One hot for training\n",
    "one_hot_encoder = OneHotEncoder(sparse=False)\n",
    "train_labels_one_hot = one_hot_encoder.fit_transform(train_df['target'].to_numpy().reshape(-1,1))\n",
    "test_labels_one_hot = one_hot_encoder.fit_transform(test_df['target'].to_numpy().reshape(-1,1))\n",
    "val_labels_one_hot = one_hot_encoder.fit_transform(val_df['target'].to_numpy().reshape(-1,1))"
   ]
  },
  {
   "cell_type": "code",
   "execution_count": 12,
   "id": "50eb5abb",
   "metadata": {},
   "outputs": [
    {
     "name": "stderr",
     "output_type": "stream",
     "text": [
      "C:\\Users\\gilgamesh\\Anaconda3\\lib\\site-packages\\sklearn\\utils\\validation.py:63: DataConversionWarning: A column-vector y was passed when a 1d array was expected. Please change the shape of y to (n_samples, ), for example using ravel().\n",
      "  return f(*args, **kwargs)\n"
     ]
    }
   ],
   "source": [
    "# Label encoder for validation and checking results\n",
    "label_encoder = LabelEncoder()\n",
    "train_labels_encoded = label_encoder.fit_transform(train_df['target'].to_numpy().reshape(-1,1))\n",
    "test_labels_encoded = label_encoder.transform(test_df['target'].to_numpy().reshape(-1,1))\n",
    "val_labels_encoded = label_encoder.transform(val_df['target'].to_numpy().reshape(-1,1))"
   ]
  },
  {
   "cell_type": "code",
   "execution_count": 13,
   "id": "07164952",
   "metadata": {},
   "outputs": [],
   "source": [
    "#train_dataset = tf.data.Dataset.from_tensor_slices((train_sentences, train_labels_one_hot))\n",
    "#valid_dataset = tf.data.Dataset.from_tensor_slices((val_sentences, val_labels_one_hot))\n",
    "#test_dataset = tf.data.Dataset.from_tensor_slices((test_sentences, test_labels_one_hot))"
   ]
  },
  {
   "cell_type": "code",
   "execution_count": 14,
   "id": "91d1cdae",
   "metadata": {},
   "outputs": [],
   "source": [
    "#train_dataset = train_dataset.batch(32).prefetch(tf.data.AUTOTUNE)\n",
    "#valid_dataset = valid_dataset.batch(32).prefetch(tf.data.AUTOTUNE)\n",
    "#test_dataset = test_dataset.batch(32).prefetch(tf.data.AUTOTUNE)"
   ]
  },
  {
   "cell_type": "markdown",
   "id": "47932359",
   "metadata": {},
   "source": [
    "#### Building Data for Character Tokens\n",
    "\n",
    "For character tokens, we'll have to want to split our text data into individual characters/letters.\n",
    "\n",
    "Q. Why did we use only 95% of the percentile to get the output_seq_len?\n",
    "\n",
    "> A. (applies to both text and character) Reason being would be, taking the max would create unnecessary noise within the tokenizer, whilst using the 95% percentile would mean, using what's mostly common or should we say relevant."
   ]
  },
  {
   "cell_type": "code",
   "execution_count": 15,
   "id": "cc5e612e",
   "metadata": {},
   "outputs": [],
   "source": [
    "def split_characters(text):\n",
    "    return ' '.join(list(text))"
   ]
  },
  {
   "cell_type": "code",
   "execution_count": 16,
   "id": "79462bbb",
   "metadata": {},
   "outputs": [],
   "source": [
    "train_sentence_char = [split_characters(sentence) for sentence in train_sentences]\n",
    "test_sentence_char = [split_characters(sentence) for sentence in test_sentences]\n",
    "val_sentence_char = [split_characters(sentence) for sentence in val_sentences]"
   ]
  },
  {
   "cell_type": "code",
   "execution_count": 91,
   "id": "2fc04092",
   "metadata": {},
   "outputs": [],
   "source": [
    "char_lens = [len(sentence) for sentence in train_sentences]\n",
    "mean_char_len = np.mean(char_lens)\n",
    "mean_char_len # returns 149.3662574983337, but thats not what we want \n",
    "output_sequence_length = int(np.percentile(char_lens, 95))\n",
    "# returns 290"
   ]
  },
  {
   "cell_type": "code",
   "execution_count": 18,
   "id": "a88fc8aa",
   "metadata": {},
   "outputs": [
    {
     "data": {
      "text/plain": [
       "'abcdefghijklmnopqrstuvwxyz0123456789!\"#$%&\\'()*+,-./:;<=>?@[\\\\]^_`{|}~'"
      ]
     },
     "execution_count": 18,
     "metadata": {},
     "output_type": "execute_result"
    }
   ],
   "source": [
    "import string\n",
    "alphabet = string.ascii_lowercase + string.digits + string.punctuation\n",
    "alphabet"
   ]
  },
  {
   "cell_type": "code",
   "execution_count": 21,
   "id": "bbd8afea",
   "metadata": {},
   "outputs": [],
   "source": [
    "#train_char_dataset = tf.data.Dataset.from_tensor_slices((train_sentence_char, train_labels_one_hot)).batch(32).prefetch(tf.data.AUTOTUNE)\n",
    "#val_char_dataset = tf.data.Dataset.from_tensor_slices((val_sentence_char, val_labels_one_hot)).batch(32).prefetch(tf.data.AUTOTUNE)"
   ]
  },
  {
   "cell_type": "markdown",
   "id": "48128a59",
   "metadata": {},
   "source": [
    "#### Building Dataset for our Hybrid Model\n",
    "\n",
    "What's happening below is we're building a dataset for our hybrid model,\n",
    "our hybrid model will take in 2 inputs specifically our `train_sentences`, `train_sentence_char` and also our `token_labels` for when our model to train on.\n",
    "\n",
    "The two inputs are then passed, through our hybrid model and trained.\n",
    "\n",
    "> **What's happening below is that we're generating datasets to fit on our model, again it takes in two inputs, and then gets their learned weight from the `[LSTM, Bidirectional LSTM]` respectively which is then concatenated afterwards into a single output layer.**\n",
    "\n",
    "`train_sentences` contains training sentences (text per line)\n",
    "`train_sentence_char` contains characters split of spaces in between of the sentences\n",
    "`token_labels` are the one hot encoded values of our targets"
   ]
  },
  {
   "cell_type": "code",
   "execution_count": 22,
   "id": "60fc806e",
   "metadata": {},
   "outputs": [],
   "source": [
    "train_char_token_data = tf.data.Dataset.from_tensor_slices((train_sentences, train_sentence_char))\n",
    "train_char_token_labels = tf.data.Dataset.from_tensor_slices(train_labels_one_hot)\n",
    "train_char_token_dataset = tf.data.Dataset.zip((train_char_token_data, train_char_token_labels))\n",
    "\n",
    "train_char_token_dataset = train_char_token_dataset.batch(32).prefetch(tf.data.AUTOTUNE)\n",
    "\n",
    "val_char_token_data = tf.data.Dataset.from_tensor_slices((val_sentences, val_sentence_char))\n",
    "val_char_token_labels = tf.data.Dataset.from_tensor_slices(val_labels_one_hot)\n",
    "val_char_token_dataset = tf.data.Dataset.zip((val_char_token_data, val_char_token_labels))\n",
    "\n",
    "val_char_token_dataset = val_char_token_dataset.batch(32).prefetch(tf.data.AUTOTUNE)\n",
    "\n",
    "test_char_token_data = tf.data.Dataset.from_tensor_slices((test_sentences, test_sentence_char))\n",
    "test_char_token_labels = tf.data.Dataset.from_tensor_slices(test_labels_one_hot)\n",
    "test_char_token_dataset = tf.data.Dataset.zip((test_char_token_data, test_char_token_labels))\n",
    "\n",
    "test_char_token_dataset = test_char_token_dataset.batch(32).prefetch(tf.data.AUTOTUNE)"
   ]
  },
  {
   "cell_type": "markdown",
   "id": "745ae1b5",
   "metadata": {},
   "source": [
    "### Building The Vectorizers and Embeddings for our Text and Character Layers"
   ]
  },
  {
   "cell_type": "markdown",
   "id": "b4c2f007",
   "metadata": {},
   "source": [
    "#### Text Vectorizer and Embeddings"
   ]
  },
  {
   "cell_type": "code",
   "execution_count": 23,
   "id": "44771b95",
   "metadata": {},
   "outputs": [],
   "source": [
    "max_vocab_length = 65000\n",
    "max_length = 55"
   ]
  },
  {
   "cell_type": "code",
   "execution_count": 24,
   "id": "d9bcef78",
   "metadata": {},
   "outputs": [],
   "source": [
    "text_vectorizer = tf.keras.layers.TextVectorization(\n",
    "    max_tokens=max_vocab_length,\n",
    "    output_sequence_length=max_length\n",
    ")"
   ]
  },
  {
   "cell_type": "code",
   "execution_count": 25,
   "id": "6bbd40f6",
   "metadata": {},
   "outputs": [],
   "source": [
    "text_vectorizer.adapt(train_sentences)"
   ]
  },
  {
   "cell_type": "code",
   "execution_count": 26,
   "id": "47440e53",
   "metadata": {},
   "outputs": [],
   "source": [
    "rct_20k_text_vocab = text_vectorizer.get_vocabulary()"
   ]
  },
  {
   "cell_type": "code",
   "execution_count": 27,
   "id": "505d7472",
   "metadata": {},
   "outputs": [],
   "source": [
    "embedding = tf.keras.layers.Embedding(\n",
    "    input_dim=len(rct_20k_text_vocab),\n",
    "    output_dim=128,\n",
    "    input_length=max_length,\n",
    "    embeddings_initializer='uniform'\n",
    ")"
   ]
  },
  {
   "cell_type": "markdown",
   "id": "dcd741de",
   "metadata": {},
   "source": [
    "#### Character Tokenizer and Embeddings"
   ]
  },
  {
   "cell_type": "code",
   "execution_count": 28,
   "id": "a66f6472",
   "metadata": {},
   "outputs": [],
   "source": [
    "NUM_CHAR_TOKENS = len(alphabet) + 2\n",
    "char_vectorizer = tf.keras.layers.TextVectorization(\n",
    "    max_tokens=NUM_CHAR_TOKENS,\n",
    "    output_sequence_length=output_sequence_length,\n",
    "    standardize='lower_and_strip_punctuation',\n",
    "    name='CHAR_VECTORIZER'\n",
    ")\n",
    "\n",
    "char_vectorizer.adapt(train_sentence_char)"
   ]
  },
  {
   "cell_type": "code",
   "execution_count": 29,
   "id": "c59b060b",
   "metadata": {},
   "outputs": [],
   "source": [
    "char_embed = tf.keras.layers.Embedding(input_dim=NUM_CHAR_TOKENS,\n",
    "                                       output_dim=25,\n",
    "                                       mask_zero=False,\n",
    "                                       name='CHAR_EMBEDDER')"
   ]
  },
  {
   "cell_type": "markdown",
   "id": "a91f68e9",
   "metadata": {},
   "source": [
    "### Building the Hybrid Model"
   ]
  },
  {
   "cell_type": "markdown",
   "id": "f4f4296b",
   "metadata": {},
   "source": [
    "#### Building our input layer 1 of 2\n",
    "based from our [Experimentation Notebook](https://github.com/jjaimwork/RNN-Natural-Language-Processing/blob/master/Milestone%20Project%20Experimentation.ipynb)   \n",
    "  \n",
    "Our `Bidirectional LSTM` Text Modeling Experimentation got the overall best perfomance next to our GRU model,   \n",
    "\n",
    "` Model              Accuracy    Precision   Recall      F1-Score  \n",
    " 4_bidirectional\t0.789620\t0.827468\t0.789620\t0.805585`\n",
    " \n",
    " "
   ]
  },
  {
   "cell_type": "code",
   "execution_count": 32,
   "id": "683edef7",
   "metadata": {},
   "outputs": [],
   "source": [
    "from tensorflow.keras.layers import LSTM"
   ]
  },
  {
   "cell_type": "code",
   "execution_count": 33,
   "id": "476beb2d",
   "metadata": {},
   "outputs": [],
   "source": [
    "### Building a Text model with the best resulting model\n",
    "# Bidirectional LSTM\n",
    "token_inputs = tf.keras.layers.Input(shape=(1,), dtype=tf.string, name='token_input')\n",
    "token_vectorizer = text_vectorizer(token_inputs)\n",
    "token_embedding = embedding(token_vectorizer)\n",
    "token_bi_lstm = tf.keras.layers.Bidirectional(LSTM(64))(token_embedding)\n",
    "token_outputs = tf.keras.layers.Dense(128, activation='softmax', name='output_layer')(token_bi_lstm)\n",
    "token_model = tf.keras.Model(token_inputs, token_outputs)"
   ]
  },
  {
   "cell_type": "markdown",
   "id": "4be6b2e6",
   "metadata": {},
   "source": [
    "#### Building our input layer 1 of 2\n",
    "based from our [Experimentation Notebook](https://github.com/jjaimwork/RNN-Natural-Language-Processing/blob/master/Milestone%20Project%20Experimentation.ipynb)   \n",
    "  \n",
    "Our `LSTM` Text Modeling Experimentation got the overall best perfomance,   \n",
    "\n",
    "` Model              Accuracy    Precision   Recall      F1-Score  \n",
    " 10_LSTM\t        0.693731    0.699315    0.693731    0.689995`\n",
    " \n",
    " "
   ]
  },
  {
   "cell_type": "code",
   "execution_count": 34,
   "id": "cdbb8247",
   "metadata": {},
   "outputs": [],
   "source": [
    "### Building a Char model with the best resulting model\n",
    "# LSTM\n",
    "char_inputs = tf.keras.layers.Input(shape=(1,), dtype=tf.string, name='char_input')\n",
    "char_vectorize = char_vectorizer(char_inputs)\n",
    "char_embeddings = char_embed(char_vectorize)\n",
    "char_lstm = tf.keras.layers.LSTM(64)(char_embeddings)\n",
    "char_model = tf.keras.Model(inputs=char_inputs,\n",
    "                            outputs=char_lstm)"
   ]
  },
  {
   "cell_type": "markdown",
   "id": "ea6a3a06",
   "metadata": {},
   "source": [
    "#### Concatenate the layers"
   ]
  },
  {
   "cell_type": "code",
   "execution_count": 35,
   "id": "6c3eb9fc",
   "metadata": {},
   "outputs": [],
   "source": [
    "token_char_concat = tf.keras.layers.Concatenate(name=\"token_char_hybrid\")([token_model.output, \n",
    "                                                                  char_model.output])"
   ]
  },
  {
   "cell_type": "markdown",
   "id": "3bfb3884",
   "metadata": {},
   "source": [
    "#### Creating the output layer"
   ]
  },
  {
   "cell_type": "code",
   "execution_count": 36,
   "id": "be29f056",
   "metadata": {},
   "outputs": [],
   "source": [
    "combined_dropout = tf.keras.layers.Dropout(0.5)(token_char_concat)\n",
    "combined_dense = tf.keras.layers.Dense(100, activation='relu')(combined_dropout)\n",
    "final_dropout = tf.keras.layers.Dropout(0.5)(combined_dense)\n",
    "output_layer = tf.keras.layers.Dense(len_cat, activation='softmax')(final_dropout)"
   ]
  },
  {
   "cell_type": "markdown",
   "id": "9bc43a13",
   "metadata": {},
   "source": [
    "#### Constructing, Compiling and Fitting the model"
   ]
  },
  {
   "cell_type": "code",
   "execution_count": 37,
   "id": "f054255d",
   "metadata": {},
   "outputs": [],
   "source": [
    "\n",
    "model_hybrid = tf.keras.Model(inputs=[token_model.input, char_model.input],\n",
    "                              outputs=output_layer,\n",
    "                              name='hybrid_layer')"
   ]
  },
  {
   "cell_type": "code",
   "execution_count": 38,
   "id": "0bdba785",
   "metadata": {},
   "outputs": [],
   "source": [
    "model_hybrid.compile(loss=tf.keras.losses.CategoricalCrossentropy(),\n",
    "                     optimizer=tf.keras.optimizers.Adam(),\n",
    "                     metrics=[\"accuracy\"]\n",
    "                    )"
   ]
  },
  {
   "cell_type": "code",
   "execution_count": 39,
   "id": "313871ae",
   "metadata": {},
   "outputs": [
    {
     "name": "stdout",
     "output_type": "stream",
     "text": [
      "Epoch 1/10\n",
      "562/562 [==============================] - 21s 27ms/step - loss: 1.2993 - accuracy: 0.3793 - val_loss: 1.0633 - val_accuracy: 0.4252\n",
      "Epoch 2/10\n",
      "562/562 [==============================] - 13s 24ms/step - loss: 1.0632 - accuracy: 0.4534 - val_loss: 0.9071 - val_accuracy: 0.6263\n",
      "Epoch 3/10\n",
      "562/562 [==============================] - 14s 24ms/step - loss: 0.8312 - accuracy: 0.6663 - val_loss: 0.6867 - val_accuracy: 0.7294\n",
      "Epoch 4/10\n",
      "562/562 [==============================] - 13s 23ms/step - loss: 0.6917 - accuracy: 0.7399 - val_loss: 0.6040 - val_accuracy: 0.7563\n",
      "Epoch 5/10\n",
      "562/562 [==============================] - 13s 24ms/step - loss: 0.6549 - accuracy: 0.7620 - val_loss: 0.5579 - val_accuracy: 0.7975\n",
      "Epoch 6/10\n",
      "562/562 [==============================] - 13s 24ms/step - loss: 0.6254 - accuracy: 0.7726 - val_loss: 0.5409 - val_accuracy: 0.7969\n",
      "Epoch 7/10\n",
      "562/562 [==============================] - 14s 25ms/step - loss: 0.5822 - accuracy: 0.7913 - val_loss: 0.5154 - val_accuracy: 0.8049\n",
      "Epoch 8/10\n",
      "562/562 [==============================] - 13s 24ms/step - loss: 0.5538 - accuracy: 0.8083 - val_loss: 0.5030 - val_accuracy: 0.8155\n",
      "Epoch 9/10\n",
      "562/562 [==============================] - 13s 24ms/step - loss: 0.5522 - accuracy: 0.8062 - val_loss: 0.5002 - val_accuracy: 0.8102\n",
      "Epoch 10/10\n",
      "562/562 [==============================] - 13s 24ms/step - loss: 0.5413 - accuracy: 0.8081 - val_loss: 0.4885 - val_accuracy: 0.8145\n"
     ]
    }
   ],
   "source": [
    "model_hybrid_history = model_hybrid.fit(train_char_token_dataset, # train on dataset of token and characters\n",
    "                              steps_per_epoch=int(0.1 * len(train_char_token_dataset)),\n",
    "                              epochs=10,\n",
    "                              validation_data=val_char_token_dataset,\n",
    "                              validation_steps=int(0.1 * len(val_char_token_dataset)))"
   ]
  },
  {
   "cell_type": "code",
   "execution_count": 40,
   "id": "09ea82c1",
   "metadata": {},
   "outputs": [
    {
     "data": {
      "image/png": "[encoded data removed]",
      "text/plain": [
       "<Figure size 432x288 with 1 Axes>"
      ]
     },
     "metadata": {
      "needs_background": "light"
     },
     "output_type": "display_data"
    },
    {
     "data": {
      "image/png": "[encoded data removed]",
      "text/plain": [
       "<Figure size 432x288 with 1 Axes>"
      ]
     },
     "metadata": {
      "needs_background": "light"
     },
     "output_type": "display_data"
    }
   ],
   "source": [
    "plot_history_curves(model_hybrid_history)"
   ]
  },
  {
   "cell_type": "markdown",
   "id": "c5b722d9",
   "metadata": {},
   "source": [
    "Our model perfomance is working amazingly, our model's validation accuracy and validation loss are even higher than what it's learning. let's evaluate"
   ]
  },
  {
   "cell_type": "code",
   "execution_count": 42,
   "id": "a0ab2f1f",
   "metadata": {},
   "outputs": [
    {
     "name": "stdout",
     "output_type": "stream",
     "text": [
      "945/945 [==============================] - 8s 9ms/step - loss: 0.4855 - accuracy: 0.8239\n"
     ]
    },
    {
     "data": {
      "text/plain": [
       "[0.48554274439811707, 0.8239441514015198]"
      ]
     },
     "execution_count": 42,
     "metadata": {},
     "output_type": "execute_result"
    }
   ],
   "source": [
    "model_hybrid.evaluate(val_char_token_dataset)"
   ]
  },
  {
   "cell_type": "code",
   "execution_count": 43,
   "id": "a2335dff",
   "metadata": {},
   "outputs": [
    {
     "data": {
      "text/plain": [
       "array([[5.4545009e-01, 2.3010503e-01, 4.7095992e-02, 1.6222239e-01,\n",
       "        1.5126485e-02],\n",
       "       [5.4297799e-01, 3.4065801e-01, 1.1835991e-02, 9.9101700e-02,\n",
       "        5.4263161e-03],\n",
       "       [3.6407921e-01, 9.1780098e-03, 1.3719691e-02, 6.1174214e-01,\n",
       "        1.2808975e-03],\n",
       "       ...,\n",
       "       [1.2727792e-05, 2.7195008e-03, 1.1412406e-03, 1.1678231e-05,\n",
       "        9.9611485e-01],\n",
       "       [1.6910030e-02, 7.6624328e-01, 4.4549080e-03, 4.8422175e-03,\n",
       "        2.0754951e-01],\n",
       "       [5.6611795e-02, 9.1151839e-01, 2.4898262e-03, 9.8717231e-03,\n",
       "        1.9508367e-02]], dtype=float32)"
      ]
     },
     "execution_count": 43,
     "metadata": {},
     "output_type": "execute_result"
    }
   ],
   "source": [
    "model_hybrid_pred_probs = model_hybrid.predict(val_char_token_dataset)\n",
    "model_hybrid_pred_probs"
   ]
  },
  {
   "cell_type": "code",
   "execution_count": 44,
   "id": "88ca3a97",
   "metadata": {},
   "outputs": [
    {
     "data": {
      "text/plain": [
       "<tf.Tensor: shape=(30212,), dtype=int64, numpy=array([0, 0, 3, ..., 4, 1, 1], dtype=int64)>"
      ]
     },
     "execution_count": 44,
     "metadata": {},
     "output_type": "execute_result"
    }
   ],
   "source": [
    "model_hybrid_preds = tf.argmax(model_hybrid_pred_probs, axis=1)\n",
    "model_hybrid_preds"
   ]
  },
  {
   "cell_type": "code",
   "execution_count": 45,
   "id": "bd456b6b",
   "metadata": {},
   "outputs": [
    {
     "data": {
      "text/plain": [
       "{'accuracy': 0.8239441281609956,\n",
       " 'precision': 0.826747292706569,\n",
       " 'recall': 0.8239441281609956,\n",
       " 'f1-score': 0.8213882394070038}"
      ]
     },
     "execution_count": 45,
     "metadata": {},
     "output_type": "execute_result"
    }
   ],
   "source": [
    "model_hybrid_results = evaluate_model_results(y_true=val_labels_encoded,\n",
    "                                    y_preds=model_hybrid_preds)\n",
    "model_hybrid_results"
   ]
  },
  {
   "cell_type": "markdown",
   "id": "e3fe0e7a",
   "metadata": {},
   "source": [
    "Our Model's Evaluation Results are very good, but can we squeeze more of it?"
   ]
  },
  {
   "cell_type": "markdown",
   "id": "d92d9de0",
   "metadata": {},
   "source": [
    "### Fine Tuning our Hybrid Model (Training for Longer)"
   ]
  },
  {
   "cell_type": "code",
   "execution_count": 46,
   "id": "0ddb6426",
   "metadata": {},
   "outputs": [],
   "source": [
    "checkpoint_path = './NLP-NLU-Files/checkpoints/'"
   ]
  },
  {
   "cell_type": "code",
   "execution_count": 47,
   "id": "b5bc8520",
   "metadata": {},
   "outputs": [],
   "source": [
    "earlystopping_callback = create_early_stopping_callback(\n",
    "    metric='val_accuracy',\n",
    "    patience=3\n",
    ")\n",
    "\n",
    "checkpoint_callback = create_checkpoint_callback(\n",
    "    checkpoint_path=checkpoint_path,\n",
    "    metric='val_accuracy',\n",
    "    save_best=True,\n",
    "    save_weights=True,\n",
    ")\n",
    "\n",
    "lr_callback = create_reduce_lr_callback(\n",
    "    metric=\"val_accuracy\",\n",
    "    factor=0.1,\n",
    "    patience=2,\n",
    "    verbose=1,\n",
    "    min_lr=1e-7\n",
    ")"
   ]
  },
  {
   "cell_type": "code",
   "execution_count": 48,
   "id": "00abaf95",
   "metadata": {},
   "outputs": [],
   "source": [
    "model_hybrid.compile(loss=tf.keras.losses.CategoricalCrossentropy(),\n",
    "                     optimizer=tf.keras.optimizers.Adam(0.001),\n",
    "                     metrics=[\"accuracy\"]\n",
    "                    )"
   ]
  },
  {
   "cell_type": "code",
   "execution_count": 49,
   "id": "cc7feff0",
   "metadata": {},
   "outputs": [
    {
     "name": "stdout",
     "output_type": "stream",
     "text": [
      "Epoch 1/100\n",
      "560/562 [============================>.] - ETA: 0s - loss: 0.5304 - accuracy: 0.8151\n",
      "Epoch 00001: val_accuracy improved from -inf to 0.82380, saving model to ./NLP-NLU-Files/checkpoints\\\n",
      "562/562 [==============================] - 21s 29ms/step - loss: 0.5296 - accuracy: 0.8154 - val_loss: 0.4796 - val_accuracy: 0.8238\n",
      "Epoch 2/100\n",
      "560/562 [============================>.] - ETA: 0s - loss: 0.4937 - accuracy: 0.8271\n",
      "Epoch 00002: val_accuracy did not improve from 0.82380\n",
      "562/562 [==============================] - 14s 24ms/step - loss: 0.4932 - accuracy: 0.8274 - val_loss: 0.4919 - val_accuracy: 0.8235\n",
      "Epoch 3/100\n",
      "560/562 [============================>.] - ETA: 0s - loss: 0.4748 - accuracy: 0.8338\n",
      "Epoch 00003: val_accuracy improved from 0.82380 to 0.82547, saving model to ./NLP-NLU-Files/checkpoints\\\n",
      "562/562 [==============================] - 15s 26ms/step - loss: 0.4751 - accuracy: 0.8338 - val_loss: 0.4755 - val_accuracy: 0.8255\n",
      "Epoch 4/100\n",
      "560/562 [============================>.] - ETA: 0s - loss: 0.4577 - accuracy: 0.8435\n",
      "Epoch 00004: val_accuracy did not improve from 0.82547\n",
      "562/562 [==============================] - 13s 24ms/step - loss: 0.4578 - accuracy: 0.8434 - val_loss: 0.4784 - val_accuracy: 0.8172\n",
      "Epoch 5/100\n",
      "562/562 [==============================] - ETA: 0s - loss: 0.4572 - accuracy: 0.8383\n",
      "Epoch 00005: val_accuracy improved from 0.82547 to 0.82746, saving model to ./NLP-NLU-Files/checkpoints\\\n",
      "562/562 [==============================] - 15s 27ms/step - loss: 0.4572 - accuracy: 0.8383 - val_loss: 0.4769 - val_accuracy: 0.8275\n",
      "Epoch 6/100\n",
      "562/562 [==============================] - ETA: 0s - loss: 0.4598 - accuracy: 0.8403\n",
      "Epoch 00006: val_accuracy did not improve from 0.82746\n",
      "562/562 [==============================] - 14s 24ms/step - loss: 0.4598 - accuracy: 0.8403 - val_loss: 0.4778 - val_accuracy: 0.8258\n",
      "Epoch 7/100\n",
      "560/562 [============================>.] - ETA: 0s - loss: 0.4369 - accuracy: 0.8490\n",
      "Epoch 00007: val_accuracy did not improve from 0.82746\n",
      "562/562 [==============================] - 13s 24ms/step - loss: 0.4363 - accuracy: 0.8493 - val_loss: 0.4842 - val_accuracy: 0.8211\n",
      "Epoch 8/100\n",
      "560/562 [============================>.] - ETA: 0s - loss: 0.4156 - accuracy: 0.8545\n",
      "Epoch 00008: val_accuracy did not improve from 0.82746\n",
      "562/562 [==============================] - 13s 24ms/step - loss: 0.4179 - accuracy: 0.8540 - val_loss: 0.4879 - val_accuracy: 0.8258\n"
     ]
    }
   ],
   "source": [
    "model_hybrid_history_fine_tuned = model_hybrid.fit(\n",
    "    train_char_token_dataset, # train on dataset of token and characters\n",
    "    steps_per_epoch=int(0.1 * len(train_char_token_dataset)),\n",
    "    epochs=100,\n",
    "    validation_data=val_char_token_dataset,\n",
    "    validation_steps=int(0.1 * len(val_char_token_dataset)),\n",
    "    callbacks=[checkpoint_callback, earlystopping_callback]\n",
    ")"
   ]
  },
  {
   "cell_type": "code",
   "execution_count": 50,
   "id": "54cccc83",
   "metadata": {},
   "outputs": [
    {
     "data": {
      "image/png": "[encoded data removed]",
      "text/plain": [
       "<Figure size 432x288 with 1 Axes>"
      ]
     },
     "metadata": {
      "needs_background": "light"
     },
     "output_type": "display_data"
    },
    {
     "data": {
      "image/png": "[encoded data removed]",
      "text/plain": [
       "<Figure size 432x288 with 1 Axes>"
      ]
     },
     "metadata": {
      "needs_background": "light"
     },
     "output_type": "display_data"
    }
   ],
   "source": [
    "plot_history_curves(model_hybrid_history_fine_tuned)"
   ]
  },
  {
   "cell_type": "code",
   "execution_count": 51,
   "id": "0bbc5dce",
   "metadata": {},
   "outputs": [
    {
     "data": {
      "text/plain": [
       "<tf.Tensor: shape=(30212,), dtype=int64, numpy=array([0, 0, 3, ..., 4, 1, 1], dtype=int64)>"
      ]
     },
     "execution_count": 51,
     "metadata": {},
     "output_type": "execute_result"
    }
   ],
   "source": [
    "model_hybrid_preds = tf.argmax(model_hybrid_pred_probs, axis=1)\n",
    "model_hybrid_preds"
   ]
  },
  {
   "cell_type": "code",
   "execution_count": 52,
   "id": "c7421b2f",
   "metadata": {},
   "outputs": [
    {
     "data": {
      "text/plain": [
       "{'accuracy': 0.8239441281609956,\n",
       " 'precision': 0.826747292706569,\n",
       " 'recall': 0.8239441281609956,\n",
       " 'f1-score': 0.8213882394070038}"
      ]
     },
     "execution_count": 52,
     "metadata": {},
     "output_type": "execute_result"
    }
   ],
   "source": [
    "model_hybrid_results = evaluate_model_results(y_true=val_labels_encoded,\n",
    "                                    y_preds=model_hybrid_preds)\n",
    "model_hybrid_results"
   ]
  },
  {
   "cell_type": "markdown",
   "id": "7fb2e12e",
   "metadata": {},
   "source": [
    "> We only squeezed a bit of performance, reason being would be our model is already `Overfitting` the dataset and\n",
    "ideally we wouldn't want our model to memorize, let alone just be of a perfect model for our training set...\n",
    "reason being would be our model would use its `MEMORIZED WEIGHTS`, not its `LEARNED WEIGHTS`. We'd want it to perform well on the validation set and test set rather than a perfect fit for training set."
   ]
  },
  {
   "cell_type": "markdown",
   "id": "0ce99055",
   "metadata": {},
   "source": [
    "### Predicting on our Test Dataset"
   ]
  },
  {
   "cell_type": "code",
   "execution_count": 53,
   "id": "f09ee6f5",
   "metadata": {},
   "outputs": [
    {
     "name": "stdout",
     "output_type": "stream",
     "text": [
      "942/942 [==============================] - 8s 8ms/step\n"
     ]
    },
    {
     "data": {
      "text/plain": [
       "<tf.Tensor: shape=(10,), dtype=int64, numpy=array([0, 2, 2, 2, 4, 4, 4, 0, 1, 0], dtype=int64)>"
      ]
     },
     "execution_count": 53,
     "metadata": {},
     "output_type": "execute_result"
    }
   ],
   "source": [
    "test_pred_probs = model_hybrid.predict(test_char_token_dataset,\n",
    "                                       verbose=1)\n",
    "test_preds = tf.argmax(test_pred_probs, axis=1)\n",
    "test_preds[:10]"
   ]
  },
  {
   "cell_type": "code",
   "execution_count": 54,
   "id": "57b74ba8",
   "metadata": {},
   "outputs": [
    {
     "data": {
      "text/plain": [
       "{'accuracy': 0.8189148830263813,\n",
       " 'precision': 0.8199137393108852,\n",
       " 'recall': 0.8189148830263813,\n",
       " 'f1-score': 0.8166574418469296}"
      ]
     },
     "execution_count": 54,
     "metadata": {},
     "output_type": "execute_result"
    }
   ],
   "source": [
    "hybrid_test_results = evaluate_model_results(test_preds, test_labels_encoded)\n",
    "hybrid_test_results"
   ]
  },
  {
   "cell_type": "code",
   "execution_count": 55,
   "id": "3881f925",
   "metadata": {
    "scrolled": false
   },
   "outputs": [
    {
     "data": {
      "text/plain": [
       "['BACKGROUND', 'METHODS', 'METHODS', 'METHODS', 'RESULTS']"
      ]
     },
     "execution_count": 55,
     "metadata": {},
     "output_type": "execute_result"
    }
   ],
   "source": [
    "test_pred_classes = [label_encoder.classes_[pred] for pred in test_preds]\n",
    "test_pred_classes[:5]"
   ]
  },
  {
   "cell_type": "code",
   "execution_count": 56,
   "id": "8f5ca584",
   "metadata": {},
   "outputs": [],
   "source": [
    "test_df['prediction'] = test_pred_classes\n",
    "test_df['pred_prob'] = tf.reduce_max(test_pred_probs, axis=1)\n",
    "test_df['correct'] = test_df['prediction'] == test_df['target']"
   ]
  },
  {
   "cell_type": "code",
   "execution_count": 57,
   "id": "24858e39",
   "metadata": {},
   "outputs": [
    {
     "data": {
      "text/plain": [
       "Index(['target', 'text', 'line_number', 'total_lines', 'prediction',\n",
       "       'pred_prob', 'correct'],\n",
       "      dtype='object')"
      ]
     },
     "execution_count": 57,
     "metadata": {},
     "output_type": "execute_result"
    }
   ],
   "source": [
    "test_df.columns"
   ]
  },
  {
   "cell_type": "code",
   "execution_count": 58,
   "id": "d841b119",
   "metadata": {},
   "outputs": [],
   "source": [
    "test_df = test_df[['text', 'line_number', 'total_lines', 'target', 'prediction',\n",
    "       'pred_prob', 'correct']]"
   ]
  },
  {
   "cell_type": "code",
   "execution_count": 104,
   "id": "ce1e4114",
   "metadata": {},
   "outputs": [
    {
     "data": {
      "text/html": [
       "<div>\n",
       "<style scoped>\n",
       "    .dataframe tbody tr th:only-of-type {\n",
       "        vertical-align: middle;\n",
       "    }\n",
       "\n",
       "    .dataframe tbody tr th {\n",
       "        vertical-align: top;\n",
       "    }\n",
       "\n",
       "    .dataframe thead th {\n",
       "        text-align: right;\n",
       "    }\n",
       "</style>\n",
       "<table border=\"1\" class=\"dataframe\">\n",
       "  <thead>\n",
       "    <tr style=\"text-align: right;\">\n",
       "      <th></th>\n",
       "      <th>text</th>\n",
       "      <th>line_number</th>\n",
       "      <th>total_lines</th>\n",
       "      <th>target</th>\n",
       "      <th>prediction</th>\n",
       "      <th>pred_prob</th>\n",
       "      <th>correct</th>\n",
       "    </tr>\n",
       "  </thead>\n",
       "  <tbody>\n",
       "    <tr>\n",
       "      <th>0</th>\n",
       "      <td>this study analyzed liver function abnormaliti...</td>\n",
       "      <td>0</td>\n",
       "      <td>8</td>\n",
       "      <td>BACKGROUND</td>\n",
       "      <td>BACKGROUND</td>\n",
       "      <td>0.533228</td>\n",
       "      <td>True</td>\n",
       "    </tr>\n",
       "    <tr>\n",
       "      <th>1</th>\n",
       "      <td>a post hoc analysis was conducted with the use...</td>\n",
       "      <td>1</td>\n",
       "      <td>8</td>\n",
       "      <td>RESULTS</td>\n",
       "      <td>METHODS</td>\n",
       "      <td>0.976199</td>\n",
       "      <td>False</td>\n",
       "    </tr>\n",
       "    <tr>\n",
       "      <th>2</th>\n",
       "      <td>liver function tests ( lfts ) were measured at...</td>\n",
       "      <td>2</td>\n",
       "      <td>8</td>\n",
       "      <td>RESULTS</td>\n",
       "      <td>METHODS</td>\n",
       "      <td>0.971685</td>\n",
       "      <td>False</td>\n",
       "    </tr>\n",
       "    <tr>\n",
       "      <th>3</th>\n",
       "      <td>survival analyses were used to assess the asso...</td>\n",
       "      <td>3</td>\n",
       "      <td>8</td>\n",
       "      <td>RESULTS</td>\n",
       "      <td>METHODS</td>\n",
       "      <td>0.975006</td>\n",
       "      <td>False</td>\n",
       "    </tr>\n",
       "    <tr>\n",
       "      <th>4</th>\n",
       "      <td>the percentage of patients with abnormal lfts ...</td>\n",
       "      <td>4</td>\n",
       "      <td>8</td>\n",
       "      <td>RESULTS</td>\n",
       "      <td>RESULTS</td>\n",
       "      <td>0.984282</td>\n",
       "      <td>True</td>\n",
       "    </tr>\n",
       "  </tbody>\n",
       "</table>\n",
       "</div>"
      ],
      "text/plain": [
       "                                                text  line_number  \\\n",
       "0  this study analyzed liver function abnormaliti...            0   \n",
       "1  a post hoc analysis was conducted with the use...            1   \n",
       "2  liver function tests ( lfts ) were measured at...            2   \n",
       "3  survival analyses were used to assess the asso...            3   \n",
       "4  the percentage of patients with abnormal lfts ...            4   \n",
       "\n",
       "   total_lines      target  prediction  pred_prob  correct  \n",
       "0            8  BACKGROUND  BACKGROUND   0.533228     True  \n",
       "1            8     RESULTS     METHODS   0.976199    False  \n",
       "2            8     RESULTS     METHODS   0.971685    False  \n",
       "3            8     RESULTS     METHODS   0.975006    False  \n",
       "4            8     RESULTS     RESULTS   0.984282     True  "
      ]
     },
     "execution_count": 104,
     "metadata": {},
     "output_type": "execute_result"
    }
   ],
   "source": [
    "test_df[:5]"
   ]
  },
  {
   "cell_type": "code",
   "execution_count": 109,
   "id": "521bec46",
   "metadata": {
    "scrolled": true
   },
   "outputs": [
    {
     "data": {
      "text/plain": [
       "'both tafluprost and travoprost significantly increased the @-h mopp ( p = @ , p = @ , respectively ) , and travoprost demonstrated a greater @-h mopp than tafluprost ( p = @ ) .'"
      ]
     },
     "execution_count": 109,
     "metadata": {},
     "output_type": "execute_result"
    }
   ],
   "source": [
    "most_right = test_df[test_df['correct']==True].sort_values(by='pred_prob', ascending=False)\n",
    "most_right.iloc[5].text"
   ]
  },
  {
   "cell_type": "code",
   "execution_count": 119,
   "id": "d8c1bfd2",
   "metadata": {},
   "outputs": [
    {
     "name": "stdout",
     "output_type": "stream",
     "text": [
      "\n",
      "Prediction: BACKGROUND | Target:BACKGROUND\n",
      " minimally invasive endovascular aneurysm repair ( evar ) could be a surgical technique that improves outcome of patients with ruptured abdominal aortic aneurysm ( raaa ) .\n",
      "\n",
      "Prediction: OBJECTIVE | Target:BACKGROUND\n",
      " the aim of this study was to analyse the cost-effectiveness and cost-utility of evar compared with standard open repair ( or ) in the treatment of raaa , with costs per @-day and @-month survivor as outcome parameters .\n",
      "\n",
      "Prediction: METHODS | Target:METHODS\n",
      " resource use was determined from the amsterdam acute aneurysm ( ajax ) trial , a multicentre randomized trial comparing evar with or in patients with raaa .\n",
      "\n",
      "Prediction: METHODS | Target:METHODS\n",
      " the analysis was performed from a provider perspective .\n",
      "\n",
      "Prediction: METHODS | Target:METHODS\n",
      " all costs were calculated as if all patients had been treated in the same hospital ( onze lieve vrouwe gasthuis , teaching hospital ) .\n",
      "\n",
      "Prediction: RESULTS | Target:RESULTS\n",
      " a total of @ patients were randomized .\n"
     ]
    }
   ],
   "source": [
    "for i in range(9,15):\n",
    "    print(f'\\nPrediction: {test_df.iloc[i].prediction} | Target:{test_df.iloc[i].target}\\n', test_df.iloc[i].text)"
   ]
  },
  {
   "cell_type": "code",
   "execution_count": 60,
   "id": "3622ddaf",
   "metadata": {},
   "outputs": [],
   "source": [
    "most_wrong = test_df[test_df['correct']==False].sort_values(by='pred_prob', ascending=False)"
   ]
  },
  {
   "cell_type": "code",
   "execution_count": 61,
   "id": "58ff9f51",
   "metadata": {},
   "outputs": [
    {
     "data": {
      "text/html": [
       "<div>\n",
       "<style scoped>\n",
       "    .dataframe tbody tr th:only-of-type {\n",
       "        vertical-align: middle;\n",
       "    }\n",
       "\n",
       "    .dataframe tbody tr th {\n",
       "        vertical-align: top;\n",
       "    }\n",
       "\n",
       "    .dataframe thead th {\n",
       "        text-align: right;\n",
       "    }\n",
       "</style>\n",
       "<table border=\"1\" class=\"dataframe\">\n",
       "  <thead>\n",
       "    <tr style=\"text-align: right;\">\n",
       "      <th></th>\n",
       "      <th>text</th>\n",
       "      <th>line_number</th>\n",
       "      <th>total_lines</th>\n",
       "      <th>target</th>\n",
       "      <th>prediction</th>\n",
       "      <th>pred_prob</th>\n",
       "      <th>correct</th>\n",
       "    </tr>\n",
       "  </thead>\n",
       "  <tbody>\n",
       "    <tr>\n",
       "      <th>13598</th>\n",
       "      <td>-@ % vs. fish : -@ % vs. fish + s : -@ % ; p &lt;...</td>\n",
       "      <td>6</td>\n",
       "      <td>9</td>\n",
       "      <td>METHODS</td>\n",
       "      <td>RESULTS</td>\n",
       "      <td>0.997219</td>\n",
       "      <td>False</td>\n",
       "    </tr>\n",
       "    <tr>\n",
       "      <th>12158</th>\n",
       "      <td>in the saffron group , there was no decline in...</td>\n",
       "      <td>9</td>\n",
       "      <td>12</td>\n",
       "      <td>METHODS</td>\n",
       "      <td>RESULTS</td>\n",
       "      <td>0.996770</td>\n",
       "      <td>False</td>\n",
       "    </tr>\n",
       "    <tr>\n",
       "      <th>25664</th>\n",
       "      <td>rifampicin significantly increased the mean ar...</td>\n",
       "      <td>6</td>\n",
       "      <td>11</td>\n",
       "      <td>CONCLUSIONS</td>\n",
       "      <td>RESULTS</td>\n",
       "      <td>0.996737</td>\n",
       "      <td>False</td>\n",
       "    </tr>\n",
       "    <tr>\n",
       "      <th>27952</th>\n",
       "      <td>sr-wbv with @hz , noise level @ shows benefit ...</td>\n",
       "      <td>12</td>\n",
       "      <td>13</td>\n",
       "      <td>CONCLUSIONS</td>\n",
       "      <td>RESULTS</td>\n",
       "      <td>0.996327</td>\n",
       "      <td>False</td>\n",
       "    </tr>\n",
       "    <tr>\n",
       "      <th>21186</th>\n",
       "      <td>mean distraction rates were similar between gr...</td>\n",
       "      <td>8</td>\n",
       "      <td>17</td>\n",
       "      <td>METHODS</td>\n",
       "      <td>RESULTS</td>\n",
       "      <td>0.996258</td>\n",
       "      <td>False</td>\n",
       "    </tr>\n",
       "  </tbody>\n",
       "</table>\n",
       "</div>"
      ],
      "text/plain": [
       "                                                    text  line_number  \\\n",
       "13598  -@ % vs. fish : -@ % vs. fish + s : -@ % ; p <...            6   \n",
       "12158  in the saffron group , there was no decline in...            9   \n",
       "25664  rifampicin significantly increased the mean ar...            6   \n",
       "27952  sr-wbv with @hz , noise level @ shows benefit ...           12   \n",
       "21186  mean distraction rates were similar between gr...            8   \n",
       "\n",
       "       total_lines       target prediction  pred_prob  correct  \n",
       "13598            9      METHODS    RESULTS   0.997219    False  \n",
       "12158           12      METHODS    RESULTS   0.996770    False  \n",
       "25664           11  CONCLUSIONS    RESULTS   0.996737    False  \n",
       "27952           13  CONCLUSIONS    RESULTS   0.996327    False  \n",
       "21186           17      METHODS    RESULTS   0.996258    False  "
      ]
     },
     "execution_count": 61,
     "metadata": {},
     "output_type": "execute_result"
    }
   ],
   "source": [
    "most_wrong[:5]"
   ]
  },
  {
   "cell_type": "markdown",
   "id": "e85917a2",
   "metadata": {},
   "source": [
    "### Predicting Outside our Dataset\n",
    "\n",
    "Text Taken from [mrdbourke raw](https://raw.githubusercontent.com/mrdbourke/tensorflow-deep-learning/main/extras/skimlit_example_abstracts.json)"
   ]
  },
  {
   "cell_type": "code",
   "execution_count": 62,
   "id": "83d43f08",
   "metadata": {},
   "outputs": [],
   "source": [
    "outside_text = '../../../Datasets/pubmed-rct-master/PubMed_20k_RCT_numbers_replaced_with_at_sign/outside_text.json'"
   ]
  },
  {
   "cell_type": "code",
   "execution_count": 63,
   "id": "31b14b42",
   "metadata": {},
   "outputs": [],
   "source": [
    "with open(outside_text, \"r\") as f:\n",
    "  example_abstracts = json.load(f)"
   ]
  },
  {
   "cell_type": "code",
   "execution_count": 64,
   "id": "0adaadfd",
   "metadata": {
    "scrolled": false
   },
   "outputs": [
    {
     "data": {
      "text/html": [
       "<div>\n",
       "<style scoped>\n",
       "    .dataframe tbody tr th:only-of-type {\n",
       "        vertical-align: middle;\n",
       "    }\n",
       "\n",
       "    .dataframe tbody tr th {\n",
       "        vertical-align: top;\n",
       "    }\n",
       "\n",
       "    .dataframe thead th {\n",
       "        text-align: right;\n",
       "    }\n",
       "</style>\n",
       "<table border=\"1\" class=\"dataframe\">\n",
       "  <thead>\n",
       "    <tr style=\"text-align: right;\">\n",
       "      <th></th>\n",
       "      <th>abstract</th>\n",
       "      <th>source</th>\n",
       "      <th>details</th>\n",
       "    </tr>\n",
       "  </thead>\n",
       "  <tbody>\n",
       "    <tr>\n",
       "      <th>0</th>\n",
       "      <td>This RCT examined the efficacy of a manualized...</td>\n",
       "      <td>https://pubmed.ncbi.nlm.nih.gov/20232240/</td>\n",
       "      <td>RCT of a manualized social treatment for high-...</td>\n",
       "    </tr>\n",
       "    <tr>\n",
       "      <th>1</th>\n",
       "      <td>Postpartum depression (PPD) is the most preval...</td>\n",
       "      <td>https://pubmed.ncbi.nlm.nih.gov/28012571/</td>\n",
       "      <td>Formatting removed (can be used to compare mod...</td>\n",
       "    </tr>\n",
       "    <tr>\n",
       "      <th>2</th>\n",
       "      <td>Mental illness, including depression, anxiety ...</td>\n",
       "      <td>https://pubmed.ncbi.nlm.nih.gov/28942748/</td>\n",
       "      <td>Effect of nutrition on mental health</td>\n",
       "    </tr>\n",
       "    <tr>\n",
       "      <th>3</th>\n",
       "      <td>Hepatitis C virus (HCV) and alcoholic liver di...</td>\n",
       "      <td>https://pubmed.ncbi.nlm.nih.gov/22244707/</td>\n",
       "      <td>Baclofen promotes alcohol abstinence in alcoho...</td>\n",
       "    </tr>\n",
       "  </tbody>\n",
       "</table>\n",
       "</div>"
      ],
      "text/plain": [
       "                                            abstract  \\\n",
       "0  This RCT examined the efficacy of a manualized...   \n",
       "1  Postpartum depression (PPD) is the most preval...   \n",
       "2  Mental illness, including depression, anxiety ...   \n",
       "3  Hepatitis C virus (HCV) and alcoholic liver di...   \n",
       "\n",
       "                                      source  \\\n",
       "0  https://pubmed.ncbi.nlm.nih.gov/20232240/   \n",
       "1  https://pubmed.ncbi.nlm.nih.gov/28012571/   \n",
       "2  https://pubmed.ncbi.nlm.nih.gov/28942748/   \n",
       "3  https://pubmed.ncbi.nlm.nih.gov/22244707/   \n",
       "\n",
       "                                             details  \n",
       "0  RCT of a manualized social treatment for high-...  \n",
       "1  Formatting removed (can be used to compare mod...  \n",
       "2               Effect of nutrition on mental health  \n",
       "3  Baclofen promotes alcohol abstinence in alcoho...  "
      ]
     },
     "execution_count": 64,
     "metadata": {},
     "output_type": "execute_result"
    }
   ],
   "source": [
    "abstracts = pd.DataFrame(example_abstracts)\n",
    "abstracts"
   ]
  },
  {
   "cell_type": "code",
   "execution_count": 65,
   "id": "01a7a3a1",
   "metadata": {},
   "outputs": [
    {
     "data": {
      "text/plain": [
       "['This RCT examined the efficacy of a manualized social intervention for children with HFASDs.',\n",
       " 'Participants were randomly assigned to treatment or wait-list conditions.',\n",
       " 'Treatment included instruction and therapeutic activities targeting social skills, face-emotion recognition, interest expansion, and interpretation of non-literal language.',\n",
       " 'A response-cost program was applied to reduce problem behaviors and foster skills acquisition.',\n",
       " 'Significant treatment effects were found for five of seven primary outcome measures (parent ratings and direct child measures).',\n",
       " 'Secondary measures based on staff ratings (treatment group only) corroborated gains reported by parents.',\n",
       " 'High levels of parent, child and staff satisfaction were reported, along with high levels of treatment fidelity.',\n",
       " 'Standardized effect size estimates were primarily in the medium and large ranges and favored the treatment group.']"
      ]
     },
     "execution_count": 65,
     "metadata": {},
     "output_type": "execute_result"
    }
   ],
   "source": [
    "from spacy.lang.en import English\n",
    "nlp = English() # setup English sentence parser\n",
    "sentencizer = nlp.create_pipe(\"sentencizer\") # create sentence splitting pipeline object\n",
    "nlp.add_pipe('sentencizer') # add sentence splitting pipeline object to sentence parser\n",
    "doc = nlp(example_abstracts[0][\"abstract\"]) # create \"doc\" of parsed sequences, change index for a different abstract\n",
    "abstract_lines = [str(sent) for sent in list(doc.sents)] # return detected sentences from doc in string type (not spaCy token type)\n",
    "abstract_lines"
   ]
  },
  {
   "cell_type": "code",
   "execution_count": 66,
   "id": "7b1d6a8a",
   "metadata": {
    "scrolled": true
   },
   "outputs": [],
   "source": [
    "total_lines_in_sample = len(abstract_lines)\n",
    "\n",
    "# Go through each line in abstract and create a list of dictionaries containing features for each line\n",
    "sample_lines = []\n",
    "for i, line in enumerate(abstract_lines):\n",
    "  sample_dict = {}\n",
    "  sample_dict[\"text\"] = str(line)\n",
    "  sample_dict[\"line_number\"] = i\n",
    "  sample_dict[\"total_lines\"] = total_lines_in_sample - 1\n",
    "  sample_lines.append(sample_dict)"
   ]
  },
  {
   "cell_type": "code",
   "execution_count": 67,
   "id": "120463ec",
   "metadata": {},
   "outputs": [
    {
     "data": {
      "text/html": [
       "<div>\n",
       "<style scoped>\n",
       "    .dataframe tbody tr th:only-of-type {\n",
       "        vertical-align: middle;\n",
       "    }\n",
       "\n",
       "    .dataframe tbody tr th {\n",
       "        vertical-align: top;\n",
       "    }\n",
       "\n",
       "    .dataframe thead th {\n",
       "        text-align: right;\n",
       "    }\n",
       "</style>\n",
       "<table border=\"1\" class=\"dataframe\">\n",
       "  <thead>\n",
       "    <tr style=\"text-align: right;\">\n",
       "      <th></th>\n",
       "      <th>text</th>\n",
       "      <th>line_number</th>\n",
       "      <th>total_lines</th>\n",
       "    </tr>\n",
       "  </thead>\n",
       "  <tbody>\n",
       "    <tr>\n",
       "      <th>0</th>\n",
       "      <td>This RCT examined the efficacy of a manualized...</td>\n",
       "      <td>0</td>\n",
       "      <td>7</td>\n",
       "    </tr>\n",
       "    <tr>\n",
       "      <th>1</th>\n",
       "      <td>Participants were randomly assigned to treatme...</td>\n",
       "      <td>1</td>\n",
       "      <td>7</td>\n",
       "    </tr>\n",
       "    <tr>\n",
       "      <th>2</th>\n",
       "      <td>Treatment included instruction and therapeutic...</td>\n",
       "      <td>2</td>\n",
       "      <td>7</td>\n",
       "    </tr>\n",
       "    <tr>\n",
       "      <th>3</th>\n",
       "      <td>A response-cost program was applied to reduce ...</td>\n",
       "      <td>3</td>\n",
       "      <td>7</td>\n",
       "    </tr>\n",
       "    <tr>\n",
       "      <th>4</th>\n",
       "      <td>Significant treatment effects were found for f...</td>\n",
       "      <td>4</td>\n",
       "      <td>7</td>\n",
       "    </tr>\n",
       "    <tr>\n",
       "      <th>5</th>\n",
       "      <td>Secondary measures based on staff ratings (tre...</td>\n",
       "      <td>5</td>\n",
       "      <td>7</td>\n",
       "    </tr>\n",
       "    <tr>\n",
       "      <th>6</th>\n",
       "      <td>High levels of parent, child and staff satisfa...</td>\n",
       "      <td>6</td>\n",
       "      <td>7</td>\n",
       "    </tr>\n",
       "    <tr>\n",
       "      <th>7</th>\n",
       "      <td>Standardized effect size estimates were primar...</td>\n",
       "      <td>7</td>\n",
       "      <td>7</td>\n",
       "    </tr>\n",
       "  </tbody>\n",
       "</table>\n",
       "</div>"
      ],
      "text/plain": [
       "                                                text  line_number  total_lines\n",
       "0  This RCT examined the efficacy of a manualized...            0            7\n",
       "1  Participants were randomly assigned to treatme...            1            7\n",
       "2  Treatment included instruction and therapeutic...            2            7\n",
       "3  A response-cost program was applied to reduce ...            3            7\n",
       "4  Significant treatment effects were found for f...            4            7\n",
       "5  Secondary measures based on staff ratings (tre...            5            7\n",
       "6  High levels of parent, child and staff satisfa...            6            7\n",
       "7  Standardized effect size estimates were primar...            7            7"
      ]
     },
     "execution_count": 67,
     "metadata": {},
     "output_type": "execute_result"
    }
   ],
   "source": [
    "sample_df = pd.DataFrame(sample_lines)\n",
    "sample_df"
   ]
  },
  {
   "cell_type": "code",
   "execution_count": 68,
   "id": "0d94029f",
   "metadata": {},
   "outputs": [],
   "source": [
    "sample_sentences = sample_df['text'].to_list()"
   ]
  },
  {
   "cell_type": "code",
   "execution_count": 69,
   "id": "0feb56d1",
   "metadata": {},
   "outputs": [
    {
     "data": {
      "text/plain": [
       "<tf.Tensor: shape=(8, 5), dtype=float32, numpy=\n",
       "array([[1., 0., 0., 0., 0.],\n",
       "       [0., 1., 0., 0., 0.],\n",
       "       [0., 0., 1., 0., 0.],\n",
       "       [0., 0., 0., 1., 0.],\n",
       "       [0., 0., 0., 0., 1.],\n",
       "       [0., 0., 0., 0., 0.],\n",
       "       [0., 0., 0., 0., 0.],\n",
       "       [0., 0., 0., 0., 0.]], dtype=float32)>"
      ]
     },
     "execution_count": 69,
     "metadata": {},
     "output_type": "execute_result"
    }
   ],
   "source": [
    "sample_data_line_numbers = [line[\"line_number\"] for line in sample_lines]\n",
    "sample_data_line_numbers_one_hot = tf.one_hot(sample_data_line_numbers, depth=5) \n",
    "sample_data_line_numbers_one_hot"
   ]
  },
  {
   "cell_type": "code",
   "execution_count": 70,
   "id": "0b74f135",
   "metadata": {},
   "outputs": [],
   "source": [
    "sample_dataset = tf.data.Dataset.from_tensor_slices((sample_sentences, sample_data_line_numbers_one_hot))"
   ]
  },
  {
   "cell_type": "code",
   "execution_count": 71,
   "id": "dcb1cd83",
   "metadata": {},
   "outputs": [],
   "source": [
    "sample_dataset = sample_dataset.batch(32).prefetch(tf.data.AUTOTUNE)"
   ]
  },
  {
   "cell_type": "code",
   "execution_count": 74,
   "id": "951e0732",
   "metadata": {},
   "outputs": [
    {
     "data": {
      "text/plain": [
       "<tf.Tensor: shape=(8, 5), dtype=float32, numpy=\n",
       "array([[1., 0., 0., 0., 0.],\n",
       "       [0., 1., 0., 0., 0.],\n",
       "       [0., 0., 1., 0., 0.],\n",
       "       [0., 0., 0., 1., 0.],\n",
       "       [0., 0., 0., 0., 1.],\n",
       "       [0., 0., 0., 0., 0.],\n",
       "       [0., 0., 0., 0., 0.],\n",
       "       [0., 0., 0., 0., 0.]], dtype=float32)>"
      ]
     },
     "execution_count": 74,
     "metadata": {},
     "output_type": "execute_result"
    }
   ],
   "source": [
    "sample_data_line_numbers = [line[\"line_number\"] for line in sample_lines]\n",
    "sample_data_line_numbers_one_hot = tf.one_hot(sample_data_line_numbers, depth=5) \n",
    "sample_data_line_numbers_one_hot"
   ]
  },
  {
   "cell_type": "code",
   "execution_count": 76,
   "id": "7cf1111a",
   "metadata": {},
   "outputs": [],
   "source": [
    "sample_sentence_char = [split_characters(sentence) for sentence in sample_sentences]"
   ]
  },
  {
   "cell_type": "code",
   "execution_count": 78,
   "id": "193a8bf9",
   "metadata": {},
   "outputs": [],
   "source": [
    "sample_char_token_data = tf.data.Dataset.from_tensor_slices((sample_sentences, sample_sentence_char))\n",
    "sample_char_token_labels = tf.data.Dataset.from_tensor_slices(sample_data_line_numbers_one_hot)\n",
    "sample_char_token_dataset = tf.data.Dataset.zip((sample_char_token_data, sample_char_token_labels))\n",
    "\n",
    "sample_char_token_dataset = sample_char_token_dataset.batch(32).prefetch(tf.data.AUTOTUNE)"
   ]
  },
  {
   "cell_type": "code",
   "execution_count": 79,
   "id": "8af80d6d",
   "metadata": {},
   "outputs": [],
   "source": [
    "sample_abstract_pred_probs = model_hybrid.predict(x=sample_char_token_dataset)"
   ]
  },
  {
   "cell_type": "code",
   "execution_count": 81,
   "id": "c17d0d69",
   "metadata": {},
   "outputs": [
    {
     "data": {
      "text/plain": [
       "<tf.Tensor: shape=(8,), dtype=int64, numpy=array([0, 2, 2, 2, 4, 2, 4, 4], dtype=int64)>"
      ]
     },
     "execution_count": 81,
     "metadata": {},
     "output_type": "execute_result"
    }
   ],
   "source": [
    "sample_abstract_preds = tf.argmax(sample_abstract_pred_probs, axis=1)\n",
    "sample_abstract_preds[:10]"
   ]
  },
  {
   "cell_type": "code",
   "execution_count": 82,
   "id": "c2d94540",
   "metadata": {},
   "outputs": [],
   "source": [
    "sample_abstract_pred_classes = [label_encoder.classes_[pred] for pred in sample_abstract_preds]"
   ]
  },
  {
   "cell_type": "code",
   "execution_count": 83,
   "id": "54b181c6",
   "metadata": {},
   "outputs": [],
   "source": [
    "sample_df['prediction'] = sample_abstract_pred_classes"
   ]
  },
  {
   "cell_type": "code",
   "execution_count": 85,
   "id": "85cb629c",
   "metadata": {},
   "outputs": [
    {
     "data": {
      "text/html": [
       "<div>\n",
       "<style scoped>\n",
       "    .dataframe tbody tr th:only-of-type {\n",
       "        vertical-align: middle;\n",
       "    }\n",
       "\n",
       "    .dataframe tbody tr th {\n",
       "        vertical-align: top;\n",
       "    }\n",
       "\n",
       "    .dataframe thead th {\n",
       "        text-align: right;\n",
       "    }\n",
       "</style>\n",
       "<table border=\"1\" class=\"dataframe\">\n",
       "  <thead>\n",
       "    <tr style=\"text-align: right;\">\n",
       "      <th></th>\n",
       "      <th>text</th>\n",
       "      <th>line_number</th>\n",
       "      <th>total_lines</th>\n",
       "      <th>prediction</th>\n",
       "    </tr>\n",
       "  </thead>\n",
       "  <tbody>\n",
       "    <tr>\n",
       "      <th>0</th>\n",
       "      <td>This RCT examined the efficacy of a manualized...</td>\n",
       "      <td>0</td>\n",
       "      <td>7</td>\n",
       "      <td>BACKGROUND</td>\n",
       "    </tr>\n",
       "    <tr>\n",
       "      <th>1</th>\n",
       "      <td>Participants were randomly assigned to treatme...</td>\n",
       "      <td>1</td>\n",
       "      <td>7</td>\n",
       "      <td>METHODS</td>\n",
       "    </tr>\n",
       "    <tr>\n",
       "      <th>2</th>\n",
       "      <td>Treatment included instruction and therapeutic...</td>\n",
       "      <td>2</td>\n",
       "      <td>7</td>\n",
       "      <td>METHODS</td>\n",
       "    </tr>\n",
       "    <tr>\n",
       "      <th>3</th>\n",
       "      <td>A response-cost program was applied to reduce ...</td>\n",
       "      <td>3</td>\n",
       "      <td>7</td>\n",
       "      <td>METHODS</td>\n",
       "    </tr>\n",
       "    <tr>\n",
       "      <th>4</th>\n",
       "      <td>Significant treatment effects were found for f...</td>\n",
       "      <td>4</td>\n",
       "      <td>7</td>\n",
       "      <td>RESULTS</td>\n",
       "    </tr>\n",
       "    <tr>\n",
       "      <th>5</th>\n",
       "      <td>Secondary measures based on staff ratings (tre...</td>\n",
       "      <td>5</td>\n",
       "      <td>7</td>\n",
       "      <td>METHODS</td>\n",
       "    </tr>\n",
       "    <tr>\n",
       "      <th>6</th>\n",
       "      <td>High levels of parent, child and staff satisfa...</td>\n",
       "      <td>6</td>\n",
       "      <td>7</td>\n",
       "      <td>RESULTS</td>\n",
       "    </tr>\n",
       "    <tr>\n",
       "      <th>7</th>\n",
       "      <td>Standardized effect size estimates were primar...</td>\n",
       "      <td>7</td>\n",
       "      <td>7</td>\n",
       "      <td>RESULTS</td>\n",
       "    </tr>\n",
       "  </tbody>\n",
       "</table>\n",
       "</div>"
      ],
      "text/plain": [
       "                                                text  line_number  \\\n",
       "0  This RCT examined the efficacy of a manualized...            0   \n",
       "1  Participants were randomly assigned to treatme...            1   \n",
       "2  Treatment included instruction and therapeutic...            2   \n",
       "3  A response-cost program was applied to reduce ...            3   \n",
       "4  Significant treatment effects were found for f...            4   \n",
       "5  Secondary measures based on staff ratings (tre...            5   \n",
       "6  High levels of parent, child and staff satisfa...            6   \n",
       "7  Standardized effect size estimates were primar...            7   \n",
       "\n",
       "   total_lines  prediction  \n",
       "0            7  BACKGROUND  \n",
       "1            7     METHODS  \n",
       "2            7     METHODS  \n",
       "3            7     METHODS  \n",
       "4            7     RESULTS  \n",
       "5            7     METHODS  \n",
       "6            7     RESULTS  \n",
       "7            7     RESULTS  "
      ]
     },
     "execution_count": 85,
     "metadata": {},
     "output_type": "execute_result"
    }
   ],
   "source": [
    "sample_df"
   ]
  },
  {
   "cell_type": "code",
   "execution_count": 84,
   "id": "45d294d7",
   "metadata": {},
   "outputs": [
    {
     "name": "stdout",
     "output_type": "stream",
     "text": [
      "BACKGROUND \n",
      "This RCT examined the efficacy of a manualized social intervention for children with HFASDs.\n",
      "\n",
      "METHODS \n",
      "Participants were randomly assigned to treatment or wait-list conditions.\n",
      "\n",
      "METHODS \n",
      "Treatment included instruction and therapeutic activities targeting social skills, face-emotion recognition, interest expansion, and interpretation of non-literal language.\n",
      "\n",
      "METHODS \n",
      "A response-cost program was applied to reduce problem behaviors and foster skills acquisition.\n",
      "\n",
      "RESULTS \n",
      "Significant treatment effects were found for five of seven primary outcome measures (parent ratings and direct child measures).\n",
      "\n",
      "METHODS \n",
      "Secondary measures based on staff ratings (treatment group only) corroborated gains reported by parents.\n",
      "\n",
      "RESULTS \n",
      "High levels of parent, child and staff satisfaction were reported, along with high levels of treatment fidelity.\n",
      "\n"
     ]
    }
   ],
   "source": [
    "for i in range(0,7):\n",
    "    print(f\"{sample_df['prediction'][i]} \\n{sample_df['text'][i]}\\n\")"
   ]
  }
 ],
 "metadata": {
  "kernelspec": {
   "display_name": "Python 3",
   "language": "python",
   "name": "python3"
  },
  "language_info": {
   "codemirror_mode": {
    "name": "ipython",
    "version": 3
   },
   "file_extension": ".py",
   "mimetype": "text/x-python",
   "name": "python",
   "nbconvert_exporter": "python",
   "pygments_lexer": "ipython3",
   "version": "3.8.8"
  },
  "toc": {
   "base_numbering": 1,
   "nav_menu": {},
   "number_sections": true,
   "sideBar": true,
   "skip_h1_title": false,
   "title_cell": "Table of Contents",
   "title_sidebar": "Contents",
   "toc_cell": false,
   "toc_position": {
    "height": "calc(100% - 180px)",
    "left": "10px",
    "top": "150px",
    "width": "165px"
   },
   "toc_section_display": true,
   "toc_window_display": true
  }
 },
 "nbformat": 4,
 "nbformat_minor": 5
}
